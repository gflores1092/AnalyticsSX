{
 "cells": [
  {
   "cell_type": "markdown",
   "metadata": {},
   "source": [
    "### **Librerías**"
   ]
  },
  {
   "cell_type": "code",
   "execution_count": 162,
   "metadata": {},
   "outputs": [],
   "source": [
    "import os\n",
    "import math\n",
    "import time\n",
    "import smtplib\n",
    "\n",
    "import pyautogui\n",
    "import threading\n",
    "import pywhatkit\n",
    "\n",
    "import numpy as np\n",
    "import pandas as pd\n",
    "\n",
    "from email.mime.application import MIMEApplication\n",
    "from email.mime.text import MIMEText\n",
    "from email.mime.multipart import MIMEMultipart\n",
    "\n",
    "from google.cloud import bigquery"
   ]
  },
  {
   "cell_type": "markdown",
   "metadata": {},
   "source": [
    "### **BigQuery**"
   ]
  },
  {
   "cell_type": "code",
   "execution_count": 163,
   "metadata": {},
   "outputs": [
    {
     "name": "stderr",
     "output_type": "stream",
     "text": [
      "c:\\Users\\gfloress\\AppData\\Local\\Programs\\Python\\Python39\\lib\\site-packages\\google\\auth\\_default.py:76: UserWarning: Your application has authenticated using end user credentials from Google Cloud SDK without a quota project. You might receive a \"quota exceeded\" or \"API not enabled\" error. See the following page for troubleshooting: https://cloud.google.com/docs/authentication/adc-troubleshooting/user-creds. \n",
      "  warnings.warn(_CLOUD_SDK_CREDENTIALS_WARNING)\n"
     ]
    }
   ],
   "source": [
    "# Proyecto y cliente\n",
    "project_id='bi-fcom-drmb-local-pe-sbx'\n",
    "client = bigquery.Client(project=project_id)\n",
    "\n",
    "# Configuración job\n",
    "job_config = bigquery.QueryJobConfig()\n",
    "job_config.query_parameters = (bigquery.ScalarQueryParameter(\"limit\", \"INT64\", 1000),)\n",
    "\n",
    "query = \"\"\"\n",
    "    SELECT DISTINCT\n",
    "        dateCreatedAt,\n",
    "        sellerId,\n",
    "        sellerName,\n",
    "        segmento,\n",
    "        deliveryOrderNumber,\n",
    "        sellerPhone,\n",
    "        sellerEmail,\n",
    "        clientDNI,\n",
    "        clientName,\n",
    "        clientPhone,\n",
    "        clientEmail,\n",
    "        shipping_fee,\n",
    "        TotalPrecio,\n",
    "        monto_total,\n",
    "        department,\n",
    "        province,\n",
    "        district,\n",
    "        tipo_documento,\n",
    "        razon_social,\n",
    "        direccion,\n",
    "        region,\n",
    "        provincia,\n",
    "        persona_fiscal,\n",
    "        tipo_de_documento,\n",
    "        identificacion_legal,\n",
    "        actividad_economica,\n",
    "        digito_verificador,\n",
    "        distrito,\n",
    "        correo_electronico,\n",
    "        telefono,\n",
    "        codigo_postal,\n",
    "        invoiceDate,\n",
    "        invoiceType,\n",
    "        invoiceNumber,\n",
    "        fecha_solicitud,\n",
    "        ticket_solicitud,\n",
    "        caseTipification,\n",
    "        caseStatus,\n",
    "        fecha_inicio_solicitud,\n",
    "        fecha_final_solicitud,\n",
    "        status_comprobante,\n",
    "        dias_comprobante,\n",
    "        dias_solicitud,\n",
    "        n_solicitudes,\n",
    "        loyaltyPhone,\n",
    "        EnlaceAAA\n",
    "    FROM (\n",
    "        SELECT * FROM `bi-fcom-drmb-local-pe-sbx.Dragonite_SX_KPIs.reporte_comprobantes` \n",
    "        WHERE invoiceDate IS NULL\n",
    "        AND DATE_DIFF(CURRENT_DATE(),datecreatedAt,DAY)<=15\n",
    "        AND dias_comprobante>0\n",
    "        AND integrado='No'\n",
    "        UNION ALL\n",
    "        SELECT * FROM `bi-fcom-drmb-local-pe-sbx.Dragonite_SX_KPIs.reporte_comprobantes` \n",
    "        WHERE ticket_solicitud IS NOT NULL\n",
    "        AND caseStatus!='Closed'\n",
    "        AND status_comprobante!='Enviado'\n",
    "    )\n",
    "    ORDER BY dateCreatedAt DESC\n",
    "\"\"\"\n",
    "\n",
    "# Query execution\n",
    "query_job = client.query(query, job_config=job_config)\n",
    "query_job.result()\n",
    "data = query_job.to_dataframe()"
   ]
  },
  {
   "cell_type": "markdown",
   "metadata": {},
   "source": [
    "### **Variables**"
   ]
  },
  {
   "cell_type": "code",
   "execution_count": 170,
   "metadata": {},
   "outputs": [],
   "source": [
    "# Correo\n",
    "\n",
    "correo_usuario = 'sleona@falabella.com'\n",
    "contrasena = 'Ingreso2024$$$'\n",
    "asuntos_base = [\n",
    "    'F.COM | 🚨 ENVÍA TUS COMPROBANTES PENDIENTES 🚨'\n",
    "]\n",
    "\n",
    "# Columnas\n",
    "\n",
    "columnas = [\n",
    "    'sellerId','sellerName',\n",
    "    'dateCreatedAt','deliveryOrderNumber', \n",
    "    'shipping_fee','TotalPrecio','monto_total',\n",
    "    'tipo_documento', \n",
    "    'tipo_de_documento', 'identificacion_legal',\n",
    "    'razon_social', \n",
    "    'region', 'provincia', 'distrito', 'direccion',\n",
    "    #'correo_electronico', 'telefono',  \n",
    "    #'persona_fiscal',  \n",
    "    #'actividad_economica', 'digito_verificador', \n",
    "    #'codigo_postal'\n",
    "]\n",
    "\n",
    "# Variables iniciales\n",
    "\n",
    "# NOMBRE, DIRECCION, DNI, FECHA DE EMISION, "
   ]
  },
  {
   "cell_type": "markdown",
   "metadata": {},
   "source": [
    "### **Funciones**"
   ]
  },
  {
   "cell_type": "code",
   "execution_count": 165,
   "metadata": {},
   "outputs": [
    {
     "data": {
      "text/plain": [
       "\"\\ndef send_email(correo_seller, html_message, seller_email, seller_name, seller_id, seller_phone, seller_link, sender_email, sender_password):\\n    # Set up the SMTP server\\n    server = smtplib.SMTP('smtp.office365.com', 587)\\n    server.starttls()\\n\\n    # Log in to the SMTP server\\n    server.login(correo_usuario, contrasena)\\n\\n    # Set up the message\\n    msg = MIMEMultipart()\\n    msg['From'] = 'fcomlogisticasx@falabella.com'\\n    msg['To'] = correo_seller\\n    msg['Subject'] = asunto\\n    msg['CC'] = 'soporteperufcom@falabella.com'\\n\\n    # Attach the HTML message\\n    msg.attach(MIMEText(html_message, 'html'))\\n\\n    # Send the email\\n    server.sendmail(sender_email, seller_email, msg.as_string())\\n\\n    # Close the SMTP connection\\n    server.quit()\\n\""
      ]
     },
     "execution_count": 165,
     "metadata": {},
     "output_type": "execute_result"
    }
   ],
   "source": [
    "\"\"\"\n",
    "def send_email(correo_seller, html_message, seller_email, seller_name, seller_id, seller_phone, seller_link, sender_email, sender_password):\n",
    "    # Set up the SMTP server\n",
    "    server = smtplib.SMTP('smtp.office365.com', 587)\n",
    "    server.starttls()\n",
    "\n",
    "    # Log in to the SMTP server\n",
    "    server.login(correo_usuario, contrasena)\n",
    "\n",
    "    # Set up the message\n",
    "    msg = MIMEMultipart()\n",
    "    msg['From'] = 'fcomlogisticasx@falabella.com'\n",
    "    msg['To'] = correo_seller\n",
    "    msg['Subject'] = asunto\n",
    "    msg['CC'] = 'soporteperufcom@falabella.com'\n",
    "\n",
    "    # Attach the HTML message\n",
    "    msg.attach(MIMEText(html_message, 'html'))\n",
    "\n",
    "    # Send the email\n",
    "    server.sendmail(sender_email, seller_email, msg.as_string())\n",
    "\n",
    "    # Close the SMTP connection\n",
    "    server.quit()\n",
    "\"\"\""
   ]
  },
  {
   "cell_type": "markdown",
   "metadata": {},
   "source": [
    "### **Mensajes**"
   ]
  },
  {
   "cell_type": "markdown",
   "metadata": {},
   "source": [
    "### **Data**"
   ]
  },
  {
   "cell_type": "code",
   "execution_count": 166,
   "metadata": {},
   "outputs": [],
   "source": [
    "# Leer el registro desde un archivo Excel\n",
    "data_1 = (\n",
    "        data\n",
    "        .query(\"sellerEmail.str.contains('@')\")\n",
    "        .assign(**{\n",
    "            'shipping_fee': lambda x: round(pd.to_numeric(x['shipping_fee']),2),\n",
    "            'TotalPrecio': lambda x: round(pd.to_numeric(x['TotalPrecio']),2),\n",
    "            'monto_total': lambda x: round(pd.to_numeric(x['monto_total']),2),\n",
    "            'tipo_de_documento': lambda x: np.where(x['tipo_documento']=='Boleta','DNI',x['tipo_de_documento']),\n",
    "            'identificacion_legal': lambda x: np.where(x['tipo_documento']=='Boleta',x['clientDNI'],x['identificacion_legal']),\n",
    "            'razon_social': lambda x: np.where(x['tipo_documento']=='Boleta',x['clientName'],x['razon_social']),\n",
    "            'region': lambda x: np.where(x['tipo_documento']=='Boleta',x['department'],x['region']),\n",
    "            'provincia': lambda x: np.where(x['tipo_documento']=='Boleta',x['province'],x['provincia']),\n",
    "            'distrito': lambda x: np.where(x['tipo_documento']=='Boleta',x['district'],x['distrito'])\n",
    "        })\n",
    ")"
   ]
  },
  {
   "cell_type": "markdown",
   "metadata": {},
   "source": [
    "### **Condicionales**"
   ]
  },
  {
   "cell_type": "code",
   "execution_count": 167,
   "metadata": {},
   "outputs": [],
   "source": [
    "# Correos\n"
   ]
  },
  {
   "cell_type": "code",
   "execution_count": 168,
   "metadata": {},
   "outputs": [
    {
     "data": {
      "text/plain": [
       "array(['SC20D42', 'SC254A4', 'SCEB684', 'SC7B531', 'SC4BF65', 'SCAC0C5',\n",
       "       'SCA910D', 'SCE7889', 'SC81979', 'SC283FE', 'SC20C84', 'SC89997',\n",
       "       'SC0E8DC', 'SC51B27', 'SC11B4E', 'SC8E697', 'SCAEEA9', 'SC5B573',\n",
       "       'SC7F9F0', 'SC4FF3F', 'SC86D9F', 'SCC6988', 'SC43058', 'SC6B3EF',\n",
       "       'SC35BB9', 'SCBDBA8', 'SC9AF38', 'SC6D2D7', 'SCB2C51', 'SC9BF2B',\n",
       "       'SC78B43', 'SCECA03', 'SCD1016', 'SC86419', 'SC09B32', 'SCDC69D',\n",
       "       'SC53BA4', 'SCC0340', 'SC3249A', 'SCCF80F', 'SCC7361', 'SC63F89',\n",
       "       'SCE237C', 'SC66CE6', 'SC67012', 'SC90DBD', 'SC8CD37', 'SC27E46',\n",
       "       'SC9714B', 'SC05EE9', 'SC0E8DE', 'SCA06B3', 'SC762D3', 'SCAB2CC',\n",
       "       'SC1F7BE', 'SC6C67C', 'SCC95F0', 'SC5E0DE', 'SCB7B09', 'SC884DD',\n",
       "       'SC659EC', 'SC9DE01', 'SC87A21', 'SC86825', 'SC85409', 'SC6ABA0',\n",
       "       'SCC5C99', 'SC7F032', 'SC537D4', 'SC9B360', 'SCC37A0', 'SC577E6',\n",
       "       'SCC3631', 'SCC2EB9', 'SC6A5A4', 'SCA47B1', 'SCC20BE', 'SC8EB99',\n",
       "       'SC46DD5', 'SC63791', 'SC59B9A', 'SC94765', 'SC45570', 'SC38304',\n",
       "       'SC1D033', 'SCE9199', 'SC288E1', 'SC28CAB', 'SCE6118', 'SC1A881',\n",
       "       'SCE4285', 'SCECEC3', 'SC19F1A', 'SCF025C', 'SC2F41B', 'SCF3CD0',\n",
       "       'SC36B8E', 'SC380B6', 'SCEBE3B', 'SCD3DAB', 'SCD192C', 'SC43FBC',\n",
       "       'SC9BC83', 'SCA5BB3', 'SCA2BB4', 'SCA3EC7', 'SC98552', 'SCFBA50',\n",
       "       'SCFC5EE', 'SC95588', 'SCFCDA5', 'SCF9F0A', 'SCA6101', 'SCA69FB',\n",
       "       'SCECBE4', 'SC94CA6', 'SCA72EE', 'SCA774F', 'SC94A8F', 'SCEEA92',\n",
       "       'SCA092D', 'SCF65E1', 'SCF78B7', 'SC9B41A', 'SC9C2CE', 'SCF5FAA',\n",
       "       'SC9C72A', 'SCF7299', 'SC9DA49', 'SCF510D', 'SC9E49A', 'SCF8ED8',\n",
       "       'SCA951B', 'SCF2FC3', 'SC9F316', 'SCF2A87', 'SCF293A', 'SCF28AD',\n",
       "       'SCF0713', 'SCF3CA5', 'SCAC9E3', 'SCEC8F0', 'SCC150B', 'SCC20A5',\n",
       "       'SCDD963', 'SCD5146', 'SCC3546', 'SCD4312', 'SCC40A2', 'SCC476B',\n",
       "       'SCC4D60', 'SCD39FB', 'SCC5226', 'SCD1FCE', 'SC92848', 'SCD14AA',\n",
       "       'SCCBAAA', 'SCC6B9A', 'SCCAA0C', 'SCC73A7', 'SCC8574', 'SCC89DF',\n",
       "       'SCDDAB5', 'SCC059F', 'SCEB022', 'SCDF594', 'SCEADCD', 'SCE9934',\n",
       "       'SCC9A77', 'SCE8ED9', 'SCACF55', 'SCAEFB3', 'SCAF160', 'SCB1037',\n",
       "       'SCB11B3', 'SCB2453', 'SCB2494', 'SCE2499', 'SCE22E0', 'SCE02C8',\n",
       "       'SCB8158', 'SCBBEC5', 'SCE0069', 'SCBD084', 'SCDFF75', 'SCC5C61',\n",
       "       'SC0082A', 'SC92460', 'SC37D76', 'SC29300', 'SC2C693', 'SC2C694',\n",
       "       'SC2C7CD', 'SC2C7D2', 'SC2E455', 'SC30621', 'SC32130', 'SC34386',\n",
       "       'SC35014', 'SC365F3', 'SC36681', 'SC379E2', 'SC385B8', 'SC4C9C6',\n",
       "       'SC39F64', 'SC3AC3B', 'SC3B18F', 'SC3B80E', 'SC3BEE0', 'SC3CBFD',\n",
       "       'SC41A83', 'SC45260', 'SC4531D', 'SC489FC', 'SC4AD73', 'SC4AE1A',\n",
       "       'SC4BE6F', 'SC262F1', 'SC25D34', 'SC25ADC', 'SC2406B', 'SC01049',\n",
       "       'SC010E8', 'SC03BC2', 'SC0665B', 'SC06F96', 'SC0761A', 'SC08143',\n",
       "       'SC08281', 'SC0857D', 'SC0889B', 'SC0F4FD', 'SC0FA65', 'SC1205B',\n",
       "       'SC12D3C', 'SC14CE9', 'SC1606B', 'SC1668F', 'SC17FFC', 'SC18534',\n",
       "       'SC1A769', 'SC1B420', 'SC1BFD7', 'SC1E556', 'SC1F1EE', 'SC1F8F9',\n",
       "       'SC1FBB2', 'SC23AAF', 'SC4C1F8', 'SC4CA68', 'SC92323', 'SC87B88',\n",
       "       'SC6F3CA', 'SC706AB', 'SC710CF', 'SC759D8', 'SC76D39', 'SC772B8',\n",
       "       'SC77516', 'SC79AF0', 'SC7C650', 'SC7E5D8', 'SC00B13', 'SC83F7A',\n",
       "       'SC86D0E', 'SC8810F', 'SC4FFBB', 'SC884F7', 'SC8850A', 'SC8A47C',\n",
       "       'SC8AC30', 'SC8BAF8', 'SC8C5BF', 'SC8E242', 'SC8E538', 'SC8E8EE',\n",
       "       'SC8ED89', 'SC8F4D6', 'SC91209', 'SC91F6D', 'SC6E6AC', 'SC6B27B',\n",
       "       'SC6A60A', 'SC68AA9', 'SC505D8', 'SC52916', 'SC5607E', 'SC57151',\n",
       "       'SC572E8', 'SC57698', 'SC58A3B', 'SC58EEC', 'SC5949C', 'SC59C9F',\n",
       "       'SC5B3B7', 'SC5BCDD', 'SC5BEDD', 'SC5C2A0', 'SC5CBD1', 'SC5DD82',\n",
       "       'SC61111', 'SC614D5', 'SC62269', 'SC6475A', 'SC64ADA', 'SC64B72',\n",
       "       'SC64DB9', 'SC65628', 'SC66A00', 'SC674BE', 'SC6830B', 'SCFEE27'],\n",
       "      dtype=object)"
      ]
     },
     "execution_count": 168,
     "metadata": {},
     "output_type": "execute_result"
    }
   ],
   "source": [
    "(\n",
    "    data_1\n",
    "    .query(\"ticket_solicitud.notnull()\")\n",
    "    .groupby('sellerId', dropna=False)\n",
    "    .agg(orders=('deliveryOrderNumber','nunique'))\n",
    "    .reset_index()\n",
    "    .sort_values(['orders'], ascending=False)['sellerId'].unique()\n",
    ")"
   ]
  },
  {
   "cell_type": "markdown",
   "metadata": {},
   "source": [
    "### **Envío de correos**"
   ]
  },
  {
   "cell_type": "markdown",
   "metadata": {},
   "source": [
    "#### **1. AAA**"
   ]
  },
  {
   "cell_type": "code",
   "execution_count": 169,
   "metadata": {},
   "outputs": [
    {
     "ename": "SMTPAuthenticationError",
     "evalue": "(535, b'5.7.139 Authentication unsuccessful, the user credentials were incorrect. [SCYPR80CA0082.lamprd80.prod.outlook.com 2024-06-10T13:47:23.564Z 08DC892DE5E8B088]')",
     "output_type": "error",
     "traceback": [
      "\u001b[1;31m---------------------------------------------------------------------------\u001b[0m",
      "\u001b[1;31mSMTPAuthenticationError\u001b[0m                   Traceback (most recent call last)",
      "Cell \u001b[1;32mIn[169], line 6\u001b[0m\n\u001b[0;32m      3\u001b[0m server\u001b[38;5;241m.\u001b[39mstarttls()\n\u001b[0;32m      5\u001b[0m \u001b[38;5;66;03m# Iniciar sesión en el servidor SMTP\u001b[39;00m\n\u001b[1;32m----> 6\u001b[0m \u001b[43mserver\u001b[49m\u001b[38;5;241;43m.\u001b[39;49m\u001b[43mlogin\u001b[49m\u001b[43m(\u001b[49m\u001b[43mcorreo_usuario\u001b[49m\u001b[43m,\u001b[49m\u001b[43m \u001b[49m\u001b[43mcontrasena\u001b[49m\u001b[43m)\u001b[49m\n\u001b[0;32m      8\u001b[0m \u001b[38;5;66;03m# Tiendas únicas en el DataFrame\u001b[39;00m\n\u001b[0;32m      9\u001b[0m \n\u001b[0;32m     10\u001b[0m \u001b[38;5;66;03m#sellers = data_1['sellerId'].unique()\u001b[39;00m\n\u001b[0;32m     12\u001b[0m sellers \u001b[38;5;241m=\u001b[39m (\n\u001b[0;32m     13\u001b[0m     data_1\n\u001b[0;32m     14\u001b[0m     \u001b[38;5;241m.\u001b[39mquery(\u001b[38;5;124m\"\u001b[39m\u001b[38;5;124mticket_solicitud.notnull()\u001b[39m\u001b[38;5;124m\"\u001b[39m)\n\u001b[1;32m   (...)\u001b[0m\n\u001b[0;32m     18\u001b[0m     \u001b[38;5;241m.\u001b[39msort_values([\u001b[38;5;124m'\u001b[39m\u001b[38;5;124morders\u001b[39m\u001b[38;5;124m'\u001b[39m], ascending\u001b[38;5;241m=\u001b[39m\u001b[38;5;28;01mFalse\u001b[39;00m)[\u001b[38;5;124m'\u001b[39m\u001b[38;5;124msellerId\u001b[39m\u001b[38;5;124m'\u001b[39m]\u001b[38;5;241m.\u001b[39munique()\n\u001b[0;32m     19\u001b[0m )\n",
      "File \u001b[1;32mc:\\Users\\gfloress\\AppData\\Local\\Programs\\Python\\Python39\\lib\\smtplib.py:745\u001b[0m, in \u001b[0;36mSMTP.login\u001b[1;34m(self, user, password, initial_response_ok)\u001b[0m\n\u001b[0;32m    742\u001b[0m         last_exception \u001b[38;5;241m=\u001b[39m e\n\u001b[0;32m    744\u001b[0m \u001b[38;5;66;03m# We could not login successfully.  Return result of last attempt.\u001b[39;00m\n\u001b[1;32m--> 745\u001b[0m \u001b[38;5;28;01mraise\u001b[39;00m last_exception\n",
      "File \u001b[1;32mc:\\Users\\gfloress\\AppData\\Local\\Programs\\Python\\Python39\\lib\\smtplib.py:734\u001b[0m, in \u001b[0;36mSMTP.login\u001b[1;34m(self, user, password, initial_response_ok)\u001b[0m\n\u001b[0;32m    732\u001b[0m method_name \u001b[38;5;241m=\u001b[39m \u001b[38;5;124m'\u001b[39m\u001b[38;5;124mauth_\u001b[39m\u001b[38;5;124m'\u001b[39m \u001b[38;5;241m+\u001b[39m authmethod\u001b[38;5;241m.\u001b[39mlower()\u001b[38;5;241m.\u001b[39mreplace(\u001b[38;5;124m'\u001b[39m\u001b[38;5;124m-\u001b[39m\u001b[38;5;124m'\u001b[39m, \u001b[38;5;124m'\u001b[39m\u001b[38;5;124m_\u001b[39m\u001b[38;5;124m'\u001b[39m)\n\u001b[0;32m    733\u001b[0m \u001b[38;5;28;01mtry\u001b[39;00m:\n\u001b[1;32m--> 734\u001b[0m     (code, resp) \u001b[38;5;241m=\u001b[39m \u001b[38;5;28;43mself\u001b[39;49m\u001b[38;5;241;43m.\u001b[39;49m\u001b[43mauth\u001b[49m\u001b[43m(\u001b[49m\n\u001b[0;32m    735\u001b[0m \u001b[43m        \u001b[49m\u001b[43mauthmethod\u001b[49m\u001b[43m,\u001b[49m\u001b[43m \u001b[49m\u001b[38;5;28;43mgetattr\u001b[39;49m\u001b[43m(\u001b[49m\u001b[38;5;28;43mself\u001b[39;49m\u001b[43m,\u001b[49m\u001b[43m \u001b[49m\u001b[43mmethod_name\u001b[49m\u001b[43m)\u001b[49m\u001b[43m,\u001b[49m\n\u001b[0;32m    736\u001b[0m \u001b[43m        \u001b[49m\u001b[43minitial_response_ok\u001b[49m\u001b[38;5;241;43m=\u001b[39;49m\u001b[43minitial_response_ok\u001b[49m\u001b[43m)\u001b[49m\n\u001b[0;32m    737\u001b[0m     \u001b[38;5;66;03m# 235 == 'Authentication successful'\u001b[39;00m\n\u001b[0;32m    738\u001b[0m     \u001b[38;5;66;03m# 503 == 'Error: already authenticated'\u001b[39;00m\n\u001b[0;32m    739\u001b[0m     \u001b[38;5;28;01mif\u001b[39;00m code \u001b[38;5;129;01min\u001b[39;00m (\u001b[38;5;241m235\u001b[39m, \u001b[38;5;241m503\u001b[39m):\n",
      "File \u001b[1;32mc:\\Users\\gfloress\\AppData\\Local\\Programs\\Python\\Python39\\lib\\smtplib.py:657\u001b[0m, in \u001b[0;36mSMTP.auth\u001b[1;34m(self, mechanism, authobject, initial_response_ok)\u001b[0m\n\u001b[0;32m    655\u001b[0m \u001b[38;5;28;01mif\u001b[39;00m code \u001b[38;5;129;01min\u001b[39;00m (\u001b[38;5;241m235\u001b[39m, \u001b[38;5;241m503\u001b[39m):\n\u001b[0;32m    656\u001b[0m     \u001b[38;5;28;01mreturn\u001b[39;00m (code, resp)\n\u001b[1;32m--> 657\u001b[0m \u001b[38;5;28;01mraise\u001b[39;00m SMTPAuthenticationError(code, resp)\n",
      "\u001b[1;31mSMTPAuthenticationError\u001b[0m: (535, b'5.7.139 Authentication unsuccessful, the user credentials were incorrect. [SCYPR80CA0082.lamprd80.prod.outlook.com 2024-06-10T13:47:23.564Z 08DC892DE5E8B088]')"
     ]
    }
   ],
   "source": [
    "# Establecer la conexión con el servidor SMTP de Outlook\n",
    "server = smtplib.SMTP('smtp.office365.com', 587)\n",
    "server.starttls()\n",
    "\n",
    "# Iniciar sesión en el servidor SMTP\n",
    "server.login(correo_usuario, contrasena)\n",
    "\n",
    "# Tiendas únicas en el DataFrame\n",
    "\n",
    "#sellers = data_1['sellerId'].unique()\n",
    "\n",
    "sellers = (\n",
    "    data_1\n",
    "    .query(\"ticket_solicitud.notnull()\")\n",
    "    .groupby('sellerId', dropna=False)\n",
    "    .agg(orders=('deliveryOrderNumber','nunique'))\n",
    "    .reset_index()\n",
    "    .sort_values(['orders'], ascending=False)['sellerId'].unique()\n",
    ")\n",
    "\n",
    "# Iterar sobre las tiendas únicas en el DataFrame\n",
    "for seller in sellers:\n",
    "    \n",
    "    # Filtrar dataframe por tienda\n",
    "    df_seller = data_1[data_1['sellerId'] == seller]\n",
    "\n",
    "    # Obtener datos por tienda\n",
    "    correo_seller = df_seller['sellerEmail'].iloc[0]\n",
    "    phone_asignado = df_seller['loyaltyPhone'].iloc[0]\n",
    "    link_phone = df_seller['EnlaceAAA'].iloc[0]\n",
    "    sellerName = df_seller['sellerName'].iloc[0]\n",
    "\n",
    "    # Seleccionar columnas específicas para mostrar en el cuerpo del correo\n",
    "    df_seller =  (                 \n",
    "                    df_seller\n",
    "                    .drop_duplicates()\n",
    "                    .sort_values(by='dateCreatedAt', ascending=False)\n",
    "                    .loc[:,columnas]\n",
    "                    .rename(columns={\n",
    "                              'sellerName': 'Nombre del seller',\n",
    "                              'dateCreatedAt': 'Fecha de orden',\n",
    "                              'deliveryOrderNumber': 'Número de orden',\n",
    "                              'shipping_fee': 'Valor de envío',\n",
    "                              'TotalPrecio': 'Valor de productos',\n",
    "                              'monto_total': 'Valor total',\n",
    "                              'tipo_documento': 'Tipo de comprobante',\n",
    "                              'tipo_de_documento': 'Tipo de documento',\n",
    "                              'identificacion_legal': 'Número de documento',\n",
    "                              'razon_social': 'Razón social',\n",
    "                              'region': 'Región',\n",
    "                              'provincia': 'Provincia',\n",
    "                              'distrito': 'Distrito',\n",
    "                              'direccion': 'Dirección'\n",
    "                    })\n",
    "    )\n",
    "    \n",
    "    # Configurar el mensaje\n",
    "    msg = MIMEMultipart()\n",
    "    msg['From'] = 'fcomlogisticasx@falabella.com'\n",
    "    msg['To'] = correo_seller\n",
    "    msg['Subject'] = asuntos_base[0].format(seller)\n",
    "    msg['CC'] = 'soporteperufcom@falabella.com'\n",
    "\n",
    "    # Crear el cuerpo del correo en formato HTML\n",
    "    mensaje_html = f\"\"\"\n",
    "      <html>\n",
    "        <head>\n",
    "          <style>\n",
    "            table {{\n",
    "              border-collapse: collapse;\n",
    "              width: 100%;\n",
    "            }}\n",
    "            th, td {{\n",
    "              border: 1px solid black;\n",
    "              padding: 8px;\n",
    "              text-align: left;\n",
    "            }}\n",
    "            th {{\n",
    "              background-color: #74B700;\n",
    "              color: white;\n",
    "              font-size: 16px;\n",
    "              font-weight: bold;\n",
    "              text-align: center;\n",
    "            }}\n",
    "          </style>\n",
    "        </head>\n",
    "        <body>\n",
    "          <p><h2><strong>Hola {sellerName}, con ID {seller}!</strong> Recuerda subir los comprobantes de los siguientes pedidos: </h2></p>\n",
    "          \n",
    "          <br>\n",
    "          {df_seller.to_html(index=False)}\n",
    "          <br>\n",
    "          <p>Para cada orden debes subir la boleta o factura emitida a Falabella Seller Center.</p>\n",
    "              <ol>\n",
    "                  <li>Revisa nuestro tutorial de facturación: <a href=\"https://ayudaseller.falabella.com/s/article/Generacion-de-boletas-y-facturas-Peru\">Tutorial de facturación</a>.</li>\n",
    "                  <li>Revisa nuestro tutorial de carga de documentos: <a href=\"https://ayudaseller.falabella.com/s/article/Carga-de-documentos-tributarios\">Tutorial de carga de comprobantes</a>.</li>\n",
    "              </ol>\n",
    "                            \n",
    "          <p>🚨 Este paso es obligatorio 🚨 de no hacerlo podrías caer en penalidades.</p>\n",
    "          <p>🚨 Recuerda que los datos de empresa deben coincidir con tus datos de Falabella Seller Center 🚨.</p>\n",
    "\n",
    "          <p>Podrás revisar tus órdenes con comprobante pendiente en Falabella Seller Center desde <a href= \"https://sellercenter.falabella.com/order/invoice#/purchased-order-list\">aquí</a>.</p>\n",
    "\n",
    "          <p>¡Gracias!</p> \n",
    "        </body>\n",
    "      </html>\n",
    "    \"\"\"\n",
    "\n",
    "    # Adjuntar el cuerpo del correo en formato HTML\n",
    "    msg.attach(MIMEText(mensaje_html, 'html'))\n",
    "\n",
    "    # Enviar el correo electrónico\n",
    "    server.sendmail(correo_usuario, correo_seller, msg.as_string())\n",
    "\n",
    "# Cerrar la conexión con el servidor SMTP\n",
    "server.quit()"
   ]
  },
  {
   "cell_type": "code",
   "execution_count": null,
   "metadata": {},
   "outputs": [],
   "source": [
    "#<p>🌟 Si necesitas soporte personalizado a través de WhatsApp, contáctanos en el {phone_asignado} o <a href=\"{link_phone}\">ingresando al siguiente link</a>.</p>\n",
    "        "
   ]
  },
  {
   "cell_type": "markdown",
   "metadata": {},
   "source": [
    "### **Envío de Whatsapp**"
   ]
  },
  {
   "cell_type": "markdown",
   "metadata": {},
   "source": [
    "#### **1. AAA**"
   ]
  },
  {
   "cell_type": "code",
   "execution_count": 244,
   "metadata": {},
   "outputs": [],
   "source": [
    "def send_whatsapp_message(seller_data):\n",
    "    mensaje_whatsapp = \"\"\"\n",
    "        *Hola {sellerName}, Hoy estás en la ruta de recolección*\n",
    "\n",
    "        Detectamos que tienes órdenes poseen retraso en la entrega, es importante que las entregues hoy al operador logístico.\n",
    "\n",
    "        Para mayor detalle te hemos enviado un mail al correo *{correo}* con asunto \"F.COM | 🚨 HOY ESTAS EN RUTA🚨\"\n",
    "\n",
    "        🚚 Aquí podrás revisar el tutorial de gestión de órdenes: https://youtu.be/lpk1_y9uYDg\n",
    "\n",
    "        Queremos reforzar contigo el proceso para gestionarlas:\n",
    "\n",
    "        📦 Para que podamos recolectar tu orden deberás:\n",
    "\n",
    "        1-\tPodrás revisar tus órdenes en falabella seller center desde aquí: https://sellercenter.falabella.com/order\n",
    "        2-\tRecuerda hacer clic en “Listo para despachar” como máximo un día antes de la fecha límite de despacho (antes de las 10p.m.)\n",
    "\n",
    "        🌟Si necesitas soporte personalizado a través de WhatsApp, contáctanos en el *{Phone}* o haz clic aquí {link_phone}\n",
    "\n",
    "        ¡Gracias!\n",
    "    \"\"\"\n",
    "    whatsapp_message = mensaje_whatsapp.format(\n",
    "        sellerName=seller_data['sellerName'],\n",
    "        correo=seller_data['sellerEmail'],\n",
    "        Phone=seller_data['sellerPhone'],\n",
    "        link_phone=seller_data['loyaltyPhone'],\n",
    "    )\n",
    "    \n",
    "    pywhatkit.sendwhatmsg_instantly(seller_data['sellerPhone'], whatsapp_message)"
   ]
  },
  {
   "cell_type": "code",
   "execution_count": 245,
   "metadata": {},
   "outputs": [],
   "source": [
    "\"\"\"\n",
    "lista = data_5.groupby(['sellerId'],dropna=False).agg(orders=('deliveryOrderNumber','count')).reset_index().sort_values(['orders'], ascending=False)\n",
    "sellers_lista = lista[lista['orders']>=5]['sellerId'].to_list()\n",
    "data_5_final = data_5[data_5['sellerId'].isin(sellers_lista)]\n",
    "\"\"\""
   ]
  },
  {
   "cell_type": "code",
   "execution_count": 247,
   "metadata": {},
   "outputs": [],
   "source": [
    "\"\"\"\n",
    "# Batch processing\n",
    "threads = []\n",
    "for seller_id, seller_data in data_5_final.groupby('sellerId'):\n",
    "    seller_data = seller_data.iloc[0]  # Assuming each seller has the same data\n",
    "    thread = threading.Thread(target=send_whatsapp_message, args=(seller_data,))\n",
    "    threads.append(thread)\n",
    "    thread.start()\n",
    "    time.sleep(12)  # Add delay between starting threads\n",
    "\n",
    "# Wait for all threads to finish\n",
    "for thread in threads:\n",
    "    thread.join()\n",
    "\"\"\""
   ]
  }
 ],
 "metadata": {
  "kernelspec": {
   "display_name": "Python 3",
   "language": "python",
   "name": "python3"
  },
  "language_info": {
   "codemirror_mode": {
    "name": "ipython",
    "version": 3
   },
   "file_extension": ".py",
   "mimetype": "text/x-python",
   "name": "python",
   "nbconvert_exporter": "python",
   "pygments_lexer": "ipython3",
   "version": "3.9.5"
  }
 },
 "nbformat": 4,
 "nbformat_minor": 2
}
