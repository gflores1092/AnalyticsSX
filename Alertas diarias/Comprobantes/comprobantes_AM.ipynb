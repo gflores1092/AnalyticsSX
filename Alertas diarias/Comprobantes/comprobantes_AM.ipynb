{
 "cells": [
  {
   "cell_type": "markdown",
   "metadata": {},
   "source": [
    "### **Librerías**"
   ]
  },
  {
   "cell_type": "code",
   "execution_count": 12,
   "metadata": {},
   "outputs": [],
   "source": [
    "import os\n",
    "import math\n",
    "import time\n",
    "import smtplib\n",
    "\n",
    "import pyautogui\n",
    "import threading\n",
    "import pywhatkit\n",
    "\n",
    "import numpy as np\n",
    "import pandas as pd\n",
    "\n",
    "from email.mime.application import MIMEApplication\n",
    "from email.mime.text import MIMEText\n",
    "from email.mime.multipart import MIMEMultipart\n",
    "\n",
    "from google.cloud import bigquery"
   ]
  },
  {
   "cell_type": "markdown",
   "metadata": {},
   "source": [
    "### **BigQuery**"
   ]
  },
  {
   "cell_type": "code",
   "execution_count": 13,
   "metadata": {},
   "outputs": [
    {
     "name": "stderr",
     "output_type": "stream",
     "text": [
      "c:\\Users\\gfloress\\AppData\\Local\\Programs\\Python\\Python39\\lib\\site-packages\\google\\auth\\_default.py:76: UserWarning: Your application has authenticated using end user credentials from Google Cloud SDK without a quota project. You might receive a \"quota exceeded\" or \"API not enabled\" error. See the following page for troubleshooting: https://cloud.google.com/docs/authentication/adc-troubleshooting/user-creds. \n",
      "  warnings.warn(_CLOUD_SDK_CREDENTIALS_WARNING)\n"
     ]
    }
   ],
   "source": [
    "# Proyecto y cliente\n",
    "project_id='bi-fcom-drmb-local-pe-sbx'\n",
    "client = bigquery.Client(project=project_id)\n",
    "\n",
    "# Configuración job\n",
    "job_config = bigquery.QueryJobConfig()\n",
    "job_config.query_parameters = (bigquery.ScalarQueryParameter(\"limit\", \"INT64\", 1000),)\n",
    "\n",
    "query = \"\"\"\n",
    "    SELECT DISTINCT\n",
    "        dateCreatedAt,\n",
    "        sellerId,\n",
    "        sellerName,\n",
    "        segmento,\n",
    "        deliveryOrderNumber,\n",
    "        sellerPhone,\n",
    "        sellerEmail,\n",
    "        clientDNI,\n",
    "        clientName,\n",
    "        clientPhone,\n",
    "        clientEmail,\n",
    "        monto_total,\n",
    "        tipo_documento,\n",
    "        razon_social,\n",
    "        direccion,\n",
    "        region,\n",
    "        provincia,\n",
    "        persona_fiscal,\n",
    "        tipo_de_documento,\n",
    "        identificacion_legal,\n",
    "        actividad_economica,\n",
    "        digito_verificador,\n",
    "        distrito,\n",
    "        correo_electronico,\n",
    "        telefono,\n",
    "        codigo_postal,\n",
    "        invoiceDate,\n",
    "        invoiceType,\n",
    "        invoiceNumber,\n",
    "        fecha_solicitud,\n",
    "        ticket_solicitud,\n",
    "        caseTipification,\n",
    "        caseStatus,\n",
    "        fecha_inicio_solicitud,\n",
    "        fecha_final_solicitud,\n",
    "        status_comprobante,\n",
    "        dias_comprobante,\n",
    "        dias_solicitud,\n",
    "        n_solicitudes,\n",
    "        loyaltyPhone,\n",
    "        EnlaceAAA\n",
    "    FROM (\n",
    "        SELECT * FROM `bi-fcom-drmb-local-pe-sbx.Dragonite_SX_KPIs.reporte_comprobantes` \n",
    "        WHERE invoiceDate IS NULL\n",
    "        AND DATE_DIFF(CURRENT_DATE(),datecreatedAt,DAY)<=15\n",
    "        AND dias_comprobante>0\n",
    "        AND integrado='No'\n",
    "        UNION ALL\n",
    "        SELECT * FROM `bi-fcom-drmb-local-pe-sbx.Dragonite_SX_KPIs.reporte_comprobantes` \n",
    "        WHERE ticket_solicitud IS NOT NULL\n",
    "        AND caseStatus!='Closed'\n",
    "        AND status_comprobante!='Enviado'\n",
    "    )\n",
    "    ORDER BY dateCreatedAt DESC\n",
    "\"\"\"\n",
    "\n",
    "# Query execution\n",
    "query_job = client.query(query, job_config=job_config)\n",
    "query_job.result()\n",
    "data = query_job.to_dataframe()"
   ]
  },
  {
   "cell_type": "markdown",
   "metadata": {},
   "source": [
    "### **Variables**"
   ]
  },
  {
   "cell_type": "code",
   "execution_count": 14,
   "metadata": {},
   "outputs": [],
   "source": [
    "# Correo\n",
    "\n",
    "correo_usuario = 'sleona@falabella.com'\n",
    "contrasena = 'I$H#pm3457'\n",
    "asuntos_base = [\n",
    "    'F.COM | 🚨 ENVÍA TUS COMPROBANTES PENDIENTES 🚨'\n",
    "]\n",
    "\n",
    "# Columnas\n",
    "\n",
    "columnas = [\n",
    "    'sellerName',\n",
    "    'dateCreatedAt','deliveryOrderNumber', 'monto_total','tipo_documento', \n",
    "    'razon_social', 'direccion', 'region', 'provincia',\n",
    "    'persona_fiscal', 'tipo_de_documento', 'identificacion_legal',\n",
    "    'actividad_economica', 'digito_verificador', 'distrito',\n",
    "    'correo_electronico', 'telefono', 'codigo_postal'\n",
    "]\n",
    "\n",
    "# Variables iniciales\n",
    "\n",
    "# NOMBRE, DIRECCION, DNI, FECHA DE EMISION, "
   ]
  },
  {
   "cell_type": "markdown",
   "metadata": {},
   "source": [
    "### **Funciones**"
   ]
  },
  {
   "cell_type": "code",
   "execution_count": 15,
   "metadata": {},
   "outputs": [
    {
     "data": {
      "text/plain": [
       "\"\\ndef send_email(correo_seller, html_message, seller_email, seller_name, seller_id, seller_phone, seller_link, sender_email, sender_password):\\n    # Set up the SMTP server\\n    server = smtplib.SMTP('smtp.office365.com', 587)\\n    server.starttls()\\n\\n    # Log in to the SMTP server\\n    server.login(correo_usuario, contrasena)\\n\\n    # Set up the message\\n    msg = MIMEMultipart()\\n    msg['From'] = 'fcomlogisticasx@falabella.com'\\n    msg['To'] = correo_seller\\n    msg['Subject'] = asunto\\n    msg['CC'] = 'soporteperufcom@falabella.com'\\n\\n    # Attach the HTML message\\n    msg.attach(MIMEText(html_message, 'html'))\\n\\n    # Send the email\\n    server.sendmail(sender_email, seller_email, msg.as_string())\\n\\n    # Close the SMTP connection\\n    server.quit()\\n\""
      ]
     },
     "execution_count": 15,
     "metadata": {},
     "output_type": "execute_result"
    }
   ],
   "source": [
    "\"\"\"\n",
    "def send_email(correo_seller, html_message, seller_email, seller_name, seller_id, seller_phone, seller_link, sender_email, sender_password):\n",
    "    # Set up the SMTP server\n",
    "    server = smtplib.SMTP('smtp.office365.com', 587)\n",
    "    server.starttls()\n",
    "\n",
    "    # Log in to the SMTP server\n",
    "    server.login(correo_usuario, contrasena)\n",
    "\n",
    "    # Set up the message\n",
    "    msg = MIMEMultipart()\n",
    "    msg['From'] = 'fcomlogisticasx@falabella.com'\n",
    "    msg['To'] = correo_seller\n",
    "    msg['Subject'] = asunto\n",
    "    msg['CC'] = 'soporteperufcom@falabella.com'\n",
    "\n",
    "    # Attach the HTML message\n",
    "    msg.attach(MIMEText(html_message, 'html'))\n",
    "\n",
    "    # Send the email\n",
    "    server.sendmail(sender_email, seller_email, msg.as_string())\n",
    "\n",
    "    # Close the SMTP connection\n",
    "    server.quit()\n",
    "\"\"\""
   ]
  },
  {
   "cell_type": "markdown",
   "metadata": {},
   "source": [
    "### **Mensajes**"
   ]
  },
  {
   "cell_type": "code",
   "execution_count": null,
   "metadata": {},
   "outputs": [],
   "source": []
  },
  {
   "cell_type": "markdown",
   "metadata": {},
   "source": [
    "### **Data**"
   ]
  },
  {
   "cell_type": "code",
   "execution_count": 16,
   "metadata": {},
   "outputs": [],
   "source": [
    "# Leer el registro desde un archivo Excel\n",
    "data = data.query(\"sellerEmail.str.contains('@')\")"
   ]
  },
  {
   "cell_type": "markdown",
   "metadata": {},
   "source": [
    "### **Condicionales**"
   ]
  },
  {
   "cell_type": "code",
   "execution_count": 237,
   "metadata": {},
   "outputs": [],
   "source": [
    "# Correos\n",
    "\n",
    "## 1. AAA\n",
    "data_1 = (\n",
    "            data\n",
    "            .query(\"segmento == 'AAA' and \"\n",
    "                   \"accion not in ['No accionar', 'Cancelar', 'Cambio de estado', 'Comunicar envío día siguiente'] and \"\n",
    "                   \"carrierCode != 'dropoff'\")\n",
    "        )\n",
    "\n",
    "## 2. Other Sellers no AAA\n",
    "data_2 = (\n",
    "            data\n",
    "            .query(\"(segmento != 'AAA') and \"\n",
    "                   \"(Speech == 'Speech_2') and \"\n",
    "                   \"(accion not in ['No accionar', 'Cancelar', 'Cambio de estado', 'Comunicar envío día siguiente']) and \"\n",
    "                   \"(carrierCode != 'dropoff')\")\n",
    "        )\n",
    "\n",
    "# WhatsApp\n",
    "\n",
    "## 1. AAA\n",
    "data_3 = (\n",
    "            data\n",
    "            .query(\"(segmento != 'AAA') and \"\n",
    "                   \"(Speech == 'Speech_3') and \"\n",
    "                   \"(accion not in ['No accionar', 'Cancelar', 'Cambio de estado', 'Comunicar envío día siguiente']) and \"\n",
    "                   \"(carrierCode != 'dropoff')\")\n",
    "        )\n"
   ]
  },
  {
   "cell_type": "markdown",
   "metadata": {},
   "source": [
    "### **Envío de correos**"
   ]
  },
  {
   "cell_type": "markdown",
   "metadata": {},
   "source": [
    "#### **1. AAA**"
   ]
  },
  {
   "cell_type": "code",
   "execution_count": 238,
   "metadata": {},
   "outputs": [
    {
     "data": {
      "text/plain": [
       "(221, b'2.0.0 Service closing transmission channel')"
      ]
     },
     "execution_count": 238,
     "metadata": {},
     "output_type": "execute_result"
    }
   ],
   "source": [
    "# Establecer la conexión con el servidor SMTP de Outlook\n",
    "server = smtplib.SMTP('smtp.office365.com', 587)\n",
    "server.starttls()\n",
    "\n",
    "# Iniciar sesión en el servidor SMTP\n",
    "server.login(correo_usuario, contrasena)\n",
    "\n",
    "# Iterar sobre las tiendas únicas en el DataFrame\n",
    "for seller in data['sellerId'].unique():\n",
    "    \n",
    "    # Filtrar dataframe por tienda\n",
    "    df_seller = data[data['sellerId'] == seller]\n",
    "\n",
    "    # Obtener datos por tienda\n",
    "    correo_seller = df_seller['sellerEmail'].iloc[0]\n",
    "    phone_asignado = df_seller['loyaltyPhone'].iloc[0]\n",
    "    link_phone = df_seller['EnlaceAAA'].iloc[0]\n",
    "    sellerName = df_seller['sellerName'].iloc[0]\n",
    "\n",
    "    # Seleccionar columnas específicas para mostrar en el cuerpo del correo\n",
    "    df_seller =  (\n",
    "                    df_seller[columnas]\n",
    "                    .drop_duplicates()\n",
    "                    .sort_values(by='Estatusenvio', ascending=False)\n",
    "                    .rename(columns={\n",
    "                              'sellerName': 'Nombre del seller',\n",
    "                              'deliveryOrderNumber': 'Número de orden',\n",
    "                              'trackingCode': 'Rastreo',\n",
    "                              'description': 'Descripción',\n",
    "                              'promisedBySeller': 'Fecha de promesa',\n",
    "                              'Estatusenvio': 'Estado del envío'\n",
    "                    })\n",
    "                  )\n",
    "    \n",
    "    # Configurar el mensaje\n",
    "    msg = MIMEMultipart()\n",
    "    msg['From'] = 'fcomlogisticasx@falabella.com'\n",
    "    msg['To'] = correo_seller\n",
    "    msg['Subject'] = asuntos_base[0].format(seller)\n",
    "    msg['CC'] = 'soporteperufcom@falabella.com'\n",
    "\n",
    "    # Crear el cuerpo del correo en formato HTML\n",
    "    mensaje_html = f\"\"\"\n",
    "      <html>\n",
    "        <head>\n",
    "          <style>\n",
    "            table {{\n",
    "              border-collapse: collapse;\n",
    "              width: 100%;\n",
    "            }}\n",
    "            th, td {{\n",
    "              border: 1px solid black;\n",
    "              padding: 8px;\n",
    "              text-align: left;\n",
    "            }}\n",
    "            th {{\n",
    "              background-color: #74B700;\n",
    "              color: white;\n",
    "              font-size: 16px;\n",
    "              font-weight: bold;\n",
    "              text-align: center;\n",
    "            }}\n",
    "          </style>\n",
    "        </head>\n",
    "        <body>\n",
    "          <p><h2><strong>Hola {sellerName}, con ID {seller}!</strong> Recuerda subir los comprobantes de los siguientes pedidos: </h2></p>\n",
    "          \n",
    "          <br>\n",
    "          {df_seller.to_html(index=False)}\n",
    "          <br>\n",
    "          <p>Para cada orden debes subir la boleta o factura emitida a Falabella Seller Center.</p>\n",
    "              <ol>\n",
    "                  <li>Revisa nuestro tutorial de facturación: <a href=\"https://ayudaseller.falabella.com/s/article/Generacion-de-boletas-y-facturas-Peru\">Tutorial de facturación</a>.</li>\n",
    "                  <li>Revisa nuestro tutorial de carga de documentos: <a href=\"https://ayudaseller.falabella.com/s/article/Carga-de-documentos-tributarios\">Tutorial de carga de comprobantes</a>.</li>\n",
    "              </ol>\n",
    "                            \n",
    "          <p>🚨 Este paso es obligatorio 🚨 de no hacerlo podrías caer en penalidades.</p>\n",
    "          <p>🚨 Recuerda que los datos de empresa deben coincidir con tus datos de Falabella Seller Center 🚨.</p>\n",
    "\n",
    "          <p>Podrás revisar tus órdenes con comprobante pendiente en Falabella Seller Center desde <a href= \"https://sellercenter.falabella.com/order/invoice#/purchased-order-list\">aquí</a>.</p>\n",
    "\n",
    "          <p>🌟 Si necesitas soporte personalizado a través de WhatsApp, contáctanos en el {phone_asignado} o <a href=\"{link_phone}\">ingresando al siguiente link</a>.</p>\n",
    "          \n",
    "          <p>¡Gracias!</p> \n",
    "        </body>\n",
    "      </html>\n",
    "    \"\"\"\n",
    "\n",
    "    # Adjuntar el cuerpo del correo en formato HTML\n",
    "    msg.attach(MIMEText(mensaje_html, 'html'))\n",
    "\n",
    "    # Enviar el correo electrónico\n",
    "    server.sendmail(correo_usuario, correo_seller, msg.as_string())\n",
    "\n",
    "# Cerrar la conexión con el servidor SMTP\n",
    "server.quit()"
   ]
  },
  {
   "cell_type": "markdown",
   "metadata": {},
   "source": [
    "#### **2. Others sellers no AAA**"
   ]
  },
  {
   "cell_type": "code",
   "execution_count": 239,
   "metadata": {},
   "outputs": [
    {
     "data": {
      "text/plain": [
       "(221, b'2.0.0 Service closing transmission channel')"
      ]
     },
     "execution_count": 239,
     "metadata": {},
     "output_type": "execute_result"
    }
   ],
   "source": [
    "# Convertir todas las columnas a cadenas para evitar el error de 'float' object has no attribute 'encode'\n",
    "data_2= data_2.map(lambda x: str(x))\n",
    "\n",
    "# Establecer la conexión con el servidor SMTP de Outlook\n",
    "server = smtplib.SMTP('smtp.office365.com', 587)\n",
    "server.starttls()\n",
    "\n",
    "# Iniciar sesión en el servidor SMTP\n",
    "server.login(correo_usuario, contrasena)\n",
    "\n",
    "# Iterar sobre las tiendas únicas en el DataFrame\n",
    "for seller in data_2['sellerId'].unique():\n",
    "    \n",
    "    # Filtrar el DataFrame para la tienda actual\n",
    "    df_seller = data_2[data_2['sellerId'] == seller]\n",
    "\n",
    "    # Obtener datos por tienda\n",
    "    correo_seller = df_seller['sellerEmail'].iloc[0]\n",
    "    phone_asignado = df_seller['loyaltyPhone'].iloc[0]\n",
    "    link_phone = df_seller['EnlaceAAA'].iloc[0]\n",
    "    sellerName = df_seller['sellerName'].iloc[0]\n",
    "\n",
    "    # Seleccionar columnas específicas para mostrar en el cuerpo del correo\n",
    "    df_seller =  (\n",
    "                    df_seller[columnas]\n",
    "                    .drop_duplicates()\n",
    "                    .sort_values(by='Estatusenvio', ascending=False)\n",
    "                    .rename(columns={\n",
    "                              'sellerName': 'Nombre del seller',\n",
    "                              'deliveryOrderNumber': 'Número de orden',\n",
    "                              'trackingCode': 'Rastreo',\n",
    "                              'description': 'Descripción',\n",
    "                              'promisedBySeller': 'Fecha de promesa',\n",
    "                              'Estatusenvio': 'Estado del envío'\n",
    "                    })\n",
    "                  )\n",
    "\n",
    "    # Configurar el mensaje\n",
    "    msg = MIMEMultipart()\n",
    "    msg['From'] = 'fcomlogisticasx@falabella.com'\n",
    "    msg['To'] = correo_seller\n",
    "    msg['Subject'] = asuntos_base[1].format(seller)\n",
    "    msg['CC'] = 'soporteperufcom@falabella.com'\n",
    "\n",
    "    # Crear el cuerpo del correo en formato HTML\n",
    "    mensaje_html = f\"\"\"\n",
    "      <html>\n",
    "        <head>\n",
    "          <style>\n",
    "            table {{\n",
    "              border-collapse: collapse;\n",
    "              width: 100%;\n",
    "            }}\n",
    "            th, td {{\n",
    "              border: 1px solid black;\n",
    "              padding: 8px;\n",
    "              text-align: left;\n",
    "            }}\n",
    "            th {{\n",
    "              background-color: green;\n",
    "              color: white;\n",
    "              font-size: 16px;\n",
    "              font-weight: bold;\n",
    "              text-align: center;\n",
    "            }}\n",
    "          </style>\n",
    "        </head>\n",
    "        <body>\n",
    "          <p><h2><strong>Hola {sellerName}, con ID {seller}!</strong> Estas son las órdenes que recolectaremos hoy  </h2></p></p>\n",
    "          \n",
    "          <br>\n",
    "          {df_seller.to_html(index=False)}\n",
    "          <br>\n",
    "          <p>*Tener en cuenta que si tienes ordenes con días de retraso ya están impactando el cumplimiento de tus indicadores. Recuerda que tu nivel de cumplimiento se relaciona directamente con la cantidad cobrada por cofinanciamiento logístico. Si necesitas más detalles sobre estos cobros, haz clic aqui :<a href=\"https://www.falabellasellers.com/comisiones-y-costos\">https://www.falabellasellers.com/comisiones-y-costos</a></li></p>\n",
    "          <p>*Las ordenes con 3 días de retraso de no ser entregadas será cancelada el día de hoy.</p>\n",
    "          <br>\n",
    "\n",
    "          <p><h2>🚨 🚨 Por otro lado, detectamos que tienes <strong>órdenes pendientes</strong> por colocar \"listo para despachar\"</h2></p>\n",
    "          <p>Recuerda que debes cambiar el estado de estas órdenes a Listo para despachar un día previo de la fecha límite de despacho, como máximo hasta las 10 pm, para que podamos incluirlas en la ruta de recolección</p>\n",
    "          \n",
    "          <p>Queremos reforzar contigo el proceso para gestionarlas:</p>\n",
    "          <ol>\n",
    "              <li>Podrás revisar tus órdenes en falabella seller center desde <a href= \"https://sellercenter.falabella.com/order\">aquí</a>.</li>\n",
    "              <li>Imprimir y pegar la <em>etiqueta</em> en el exterior de tu empaque. Se visualiza al lado izquierdo del número de orden como <em>Label</em>.</li>\n",
    "              <li>Hacer clic en <em>Listo para despachar</em> - como máximo un día antes de la fecha límite (antes de las 10:00PM).</li>\n",
    "          </ol>\n",
    "          <p>🚚 Revisa nuestro tutorial de despacho: <a href=\"https://youtu.be/lpk1_y9uYDg\">Tutorial de despacho</a>.</p>\n",
    "          \n",
    "          <p>¡No pierdas ventas! Recuerda que si la orden se cancela no habrá lugar a reclamo.</p>\n",
    "\n",
    "          <p>Siguiendo estos pasos estaremos programando la recolección de estos pedidos para el día siguiente. Recuerda que, al llegar a tu almacén, el tiempo de espera del operador logístico es de 10 minutos.</p>\n",
    "          \n",
    "          <p><strong>¡Importante!</strong> </p>\n",
    "              <li>Las órdenes con retraso impactarán en tu indicador de envíos a tiempo afectando tu puntaje operacional. Considera que el cofinanciamiento logístico varía de acuerdo a tu desempeño. Para más información sobre haz clic <a href= \"https://www.falabellasellers.com/comisiones-y-costos\">aquí</a>.</li>\n",
    "              <li>Las ordenes con 3 días de retraso de no ser entregadas el día de hoy,serán canceladas.</li>\n",
    "              <li>Este correo es un refuerzo. Siempre debes entregar los pedidos gestionados a tiempo en su respectiva fecha límite de despacho.</li>\n",
    "          \n",
    "          <p>¡Contamos con tu apoyo para mejorar la experiencia de nuestros clientes!</p>\n",
    "              \n",
    "        </body>\n",
    "      </html>\n",
    "    \"\"\"\n",
    "\n",
    "    # Adjuntar el cuerpo del correo en formato HTML\n",
    "    msg.attach(MIMEText(mensaje_html, 'html'))\n",
    "\n",
    "    # Enviar el correo electrónico\n",
    "    server.sendmail(correo_usuario, msg['To'], msg.as_string())\n",
    "\n",
    "# Cerrar la conexión con el servidor SMTP\n",
    "server.quit()"
   ]
  },
  {
   "cell_type": "markdown",
   "metadata": {},
   "source": [
    "### **Envío de Whatsapp**"
   ]
  },
  {
   "cell_type": "markdown",
   "metadata": {},
   "source": [
    "#### **1. AAA**"
   ]
  },
  {
   "cell_type": "code",
   "execution_count": 244,
   "metadata": {},
   "outputs": [],
   "source": [
    "def send_whatsapp_message(seller_data):\n",
    "    mensaje_whatsapp = \"\"\"\n",
    "        *Hola {sellerName}, Hoy estás en la ruta de recolección*\n",
    "\n",
    "        Detectamos que tienes órdenes poseen retraso en la entrega, es importante que las entregues hoy al operador logístico.\n",
    "\n",
    "        Para mayor detalle te hemos enviado un mail al correo *{correo}* con asunto \"F.COM | 🚨 HOY ESTAS EN RUTA🚨\"\n",
    "\n",
    "        🚚 Aquí podrás revisar el tutorial de gestión de órdenes: https://youtu.be/lpk1_y9uYDg\n",
    "\n",
    "        Queremos reforzar contigo el proceso para gestionarlas:\n",
    "\n",
    "        📦 Para que podamos recolectar tu orden deberás:\n",
    "\n",
    "        1-\tPodrás revisar tus órdenes en falabella seller center desde aquí: https://sellercenter.falabella.com/order\n",
    "        2-\tRecuerda hacer clic en “Listo para despachar” como máximo un día antes de la fecha límite de despacho (antes de las 10p.m.)\n",
    "\n",
    "        🌟Si necesitas soporte personalizado a través de WhatsApp, contáctanos en el *{Phone}* o haz clic aquí {link_phone}\n",
    "\n",
    "        ¡Gracias!\n",
    "    \"\"\"\n",
    "    whatsapp_message = mensaje_whatsapp.format(\n",
    "        sellerName=seller_data['sellerName'],\n",
    "        correo=seller_data['sellerEmail'],\n",
    "        Phone=seller_data['sellerPhone'],\n",
    "        link_phone=seller_data['loyaltyPhone'],\n",
    "    )\n",
    "    \n",
    "    pywhatkit.sendwhatmsg_instantly(seller_data['sellerPhone'], whatsapp_message)"
   ]
  },
  {
   "cell_type": "code",
   "execution_count": 245,
   "metadata": {},
   "outputs": [],
   "source": [
    "lista = data_5.groupby(['sellerId'],dropna=False).agg(orders=('deliveryOrderNumber','count')).reset_index().sort_values(['orders'], ascending=False)\n",
    "sellers_lista = lista[lista['orders']>=5]['sellerId'].to_list()\n",
    "data_5_final = data_5[data_5['sellerId'].isin(sellers_lista)]"
   ]
  },
  {
   "cell_type": "code",
   "execution_count": 246,
   "metadata": {},
   "outputs": [
    {
     "data": {
      "text/plain": [
       "21"
      ]
     },
     "execution_count": 246,
     "metadata": {},
     "output_type": "execute_result"
    }
   ],
   "source": [
    "data_5_final['sellerId'].drop_duplicates().count()"
   ]
  },
  {
   "cell_type": "code",
   "execution_count": 247,
   "metadata": {},
   "outputs": [],
   "source": [
    "# Batch processing\n",
    "threads = []\n",
    "for seller_id, seller_data in data_5_final.groupby('sellerId'):\n",
    "    seller_data = seller_data.iloc[0]  # Assuming each seller has the same data\n",
    "    thread = threading.Thread(target=send_whatsapp_message, args=(seller_data,))\n",
    "    threads.append(thread)\n",
    "    thread.start()\n",
    "    time.sleep(12)  # Add delay between starting threads\n",
    "\n",
    "# Wait for all threads to finish\n",
    "for thread in threads:\n",
    "    thread.join()"
   ]
  }
 ],
 "metadata": {
  "kernelspec": {
   "display_name": "Python 3",
   "language": "python",
   "name": "python3"
  },
  "language_info": {
   "codemirror_mode": {
    "name": "ipython",
    "version": 3
   },
   "file_extension": ".py",
   "mimetype": "text/x-python",
   "name": "python",
   "nbconvert_exporter": "python",
   "pygments_lexer": "ipython3",
   "version": "3.9.5"
  }
 },
 "nbformat": 4,
 "nbformat_minor": 2
}
