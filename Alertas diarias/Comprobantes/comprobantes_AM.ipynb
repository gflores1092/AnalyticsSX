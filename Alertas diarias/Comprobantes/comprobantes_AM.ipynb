{
 "cells": [
  {
   "cell_type": "markdown",
   "metadata": {},
   "source": [
    "### **Librerías**"
   ]
  },
  {
   "cell_type": "code",
   "execution_count": 133,
   "metadata": {},
   "outputs": [],
   "source": [
    "import os\n",
    "import math\n",
    "import time\n",
    "import smtplib\n",
    "\n",
    "import pyautogui\n",
    "import threading\n",
    "import pywhatkit\n",
    "\n",
    "import numpy as np\n",
    "import pandas as pd\n",
    "\n",
    "from email.mime.application import MIMEApplication\n",
    "from email.mime.text import MIMEText\n",
    "from email.mime.multipart import MIMEMultipart\n",
    "\n",
    "from google.cloud import bigquery"
   ]
  },
  {
   "cell_type": "markdown",
   "metadata": {},
   "source": [
    "### **BigQuery**"
   ]
  },
  {
   "cell_type": "code",
   "execution_count": 134,
   "metadata": {},
   "outputs": [
    {
     "name": "stderr",
     "output_type": "stream",
     "text": [
      "c:\\Users\\gfloress\\AppData\\Local\\Programs\\Python\\Python39\\lib\\site-packages\\google\\auth\\_default.py:76: UserWarning: Your application has authenticated using end user credentials from Google Cloud SDK without a quota project. You might receive a \"quota exceeded\" or \"API not enabled\" error. See the following page for troubleshooting: https://cloud.google.com/docs/authentication/adc-troubleshooting/user-creds. \n",
      "  warnings.warn(_CLOUD_SDK_CREDENTIALS_WARNING)\n"
     ]
    }
   ],
   "source": [
    "# Proyecto y cliente\n",
    "project_id='bi-fcom-drmb-local-pe-sbx'\n",
    "client = bigquery.Client(project=project_id)\n",
    "\n",
    "# Configuración job\n",
    "job_config = bigquery.QueryJobConfig()\n",
    "job_config.query_parameters = (bigquery.ScalarQueryParameter(\"limit\", \"INT64\", 1000),)\n",
    "\n",
    "query = \"\"\"\n",
    "    SELECT DISTINCT\n",
    "        dateCreatedAt,\n",
    "        sellerId,\n",
    "        sellerName,\n",
    "        segmento,\n",
    "        deliveryOrderNumber,\n",
    "        sellerPhone,\n",
    "        sellerEmail,\n",
    "        clientDNI,\n",
    "        clientName,\n",
    "        clientPhone,\n",
    "        clientEmail,\n",
    "        shipping_fee,\n",
    "        TotalPrecio,\n",
    "        monto_total,\n",
    "        department,\n",
    "        province,\n",
    "        district,\n",
    "        tipo_documento,\n",
    "        razon_social,\n",
    "        direccion,\n",
    "        region,\n",
    "        provincia,\n",
    "        persona_fiscal,\n",
    "        tipo_de_documento,\n",
    "        identificacion_legal,\n",
    "        actividad_economica,\n",
    "        digito_verificador,\n",
    "        distrito,\n",
    "        correo_electronico,\n",
    "        telefono,\n",
    "        codigo_postal,\n",
    "        invoiceDate,\n",
    "        invoiceType,\n",
    "        invoiceNumber,\n",
    "        fecha_solicitud,\n",
    "        ticket_solicitud,\n",
    "        caseTipification,\n",
    "        caseStatus,\n",
    "        fecha_inicio_solicitud,\n",
    "        fecha_final_solicitud,\n",
    "        status_comprobante,\n",
    "        dias_comprobante,\n",
    "        dias_solicitud,\n",
    "        n_solicitudes,\n",
    "        loyaltyPhone,\n",
    "        EnlaceAAA\n",
    "    FROM (\n",
    "        SELECT * FROM `bi-fcom-drmb-local-pe-sbx.Dragonite_SX_KPIs.reporte_comprobantes` \n",
    "        WHERE invoiceDate IS NULL\n",
    "        AND DATE_DIFF(CURRENT_DATE(),datecreatedAt,DAY)<=15\n",
    "        AND dias_comprobante>0\n",
    "        AND integrado='No'\n",
    "        UNION ALL\n",
    "        SELECT * FROM `bi-fcom-drmb-local-pe-sbx.Dragonite_SX_KPIs.reporte_comprobantes` \n",
    "        WHERE ticket_solicitud IS NOT NULL\n",
    "        AND caseStatus!='Closed'\n",
    "        AND status_comprobante!='Enviado'\n",
    "    )\n",
    "    ORDER BY dateCreatedAt DESC\n",
    "\"\"\"\n",
    "\n",
    "# Query execution\n",
    "query_job = client.query(query, job_config=job_config)\n",
    "query_job.result()\n",
    "data = query_job.to_dataframe()"
   ]
  },
  {
   "cell_type": "markdown",
   "metadata": {},
   "source": [
    "### **Variables**"
   ]
  },
  {
   "cell_type": "code",
   "execution_count": 135,
   "metadata": {},
   "outputs": [],
   "source": [
    "# Correo\n",
    "\n",
    "correo_usuario = 'sleona@falabella.com'\n",
    "contrasena = 'Ingreso2024$$'\n",
    "asuntos_base = [\n",
    "    'F.COM | 🚨 ENVÍA TUS COMPROBANTES PENDIENTES 🚨'\n",
    "]\n",
    "\n",
    "# Columnas\n",
    "\n",
    "columnas = [\n",
    "    'sellerId','sellerName',\n",
    "    'dateCreatedAt','deliveryOrderNumber', \n",
    "    'shipping_fee','TotalPrecio','monto_total',\n",
    "    'tipo_documento', \n",
    "    'tipo_de_documento', 'identificacion_legal',\n",
    "    'razon_social', \n",
    "    'region', 'provincia', 'distrito', 'direccion',\n",
    "    #'correo_electronico', 'telefono',  \n",
    "    #'persona_fiscal',  \n",
    "    #'actividad_economica', 'digito_verificador', \n",
    "    #'codigo_postal'\n",
    "]\n",
    "\n",
    "# Variables iniciales\n",
    "\n",
    "# NOMBRE, DIRECCION, DNI, FECHA DE EMISION, "
   ]
  },
  {
   "cell_type": "markdown",
   "metadata": {},
   "source": [
    "### **Funciones**"
   ]
  },
  {
   "cell_type": "code",
   "execution_count": 136,
   "metadata": {},
   "outputs": [
    {
     "data": {
      "text/plain": [
       "\"\\ndef send_email(correo_seller, html_message, seller_email, seller_name, seller_id, seller_phone, seller_link, sender_email, sender_password):\\n    # Set up the SMTP server\\n    server = smtplib.SMTP('smtp.office365.com', 587)\\n    server.starttls()\\n\\n    # Log in to the SMTP server\\n    server.login(correo_usuario, contrasena)\\n\\n    # Set up the message\\n    msg = MIMEMultipart()\\n    msg['From'] = 'fcomlogisticasx@falabella.com'\\n    msg['To'] = correo_seller\\n    msg['Subject'] = asunto\\n    msg['CC'] = 'soporteperufcom@falabella.com'\\n\\n    # Attach the HTML message\\n    msg.attach(MIMEText(html_message, 'html'))\\n\\n    # Send the email\\n    server.sendmail(sender_email, seller_email, msg.as_string())\\n\\n    # Close the SMTP connection\\n    server.quit()\\n\""
      ]
     },
     "execution_count": 136,
     "metadata": {},
     "output_type": "execute_result"
    }
   ],
   "source": [
    "\"\"\"\n",
    "def send_email(correo_seller, html_message, seller_email, seller_name, seller_id, seller_phone, seller_link, sender_email, sender_password):\n",
    "    # Set up the SMTP server\n",
    "    server = smtplib.SMTP('smtp.office365.com', 587)\n",
    "    server.starttls()\n",
    "\n",
    "    # Log in to the SMTP server\n",
    "    server.login(correo_usuario, contrasena)\n",
    "\n",
    "    # Set up the message\n",
    "    msg = MIMEMultipart()\n",
    "    msg['From'] = 'fcomlogisticasx@falabella.com'\n",
    "    msg['To'] = correo_seller\n",
    "    msg['Subject'] = asunto\n",
    "    msg['CC'] = 'soporteperufcom@falabella.com'\n",
    "\n",
    "    # Attach the HTML message\n",
    "    msg.attach(MIMEText(html_message, 'html'))\n",
    "\n",
    "    # Send the email\n",
    "    server.sendmail(sender_email, seller_email, msg.as_string())\n",
    "\n",
    "    # Close the SMTP connection\n",
    "    server.quit()\n",
    "\"\"\""
   ]
  },
  {
   "cell_type": "markdown",
   "metadata": {},
   "source": [
    "### **Mensajes**"
   ]
  },
  {
   "cell_type": "markdown",
   "metadata": {},
   "source": [
    "### **Data**"
   ]
  },
  {
   "cell_type": "code",
   "execution_count": 138,
   "metadata": {},
   "outputs": [],
   "source": [
    "# Leer el registro desde un archivo Excel\n",
    "data_1 = (\n",
    "        data\n",
    "        .query(\"sellerEmail.str.contains('@')\")\n",
    "        .assign(**{\n",
    "            'shipping_fee': lambda x: round(pd.to_numeric(x['shipping_fee']),2),\n",
    "            'TotalPrecio': lambda x: round(pd.to_numeric(x['TotalPrecio']),2),\n",
    "            'monto_total': lambda x: round(pd.to_numeric(x['monto_total']),2),\n",
    "            'tipo_de_documento': lambda x: np.where(x['tipo_documento']=='Boleta','DNI',x['tipo_de_documento']),\n",
    "            'identificacion_legal': lambda x: np.where(x['tipo_documento']=='Boleta',x['clientDNI'],x['identificacion_legal']),\n",
    "            'razon_social': lambda x: np.where(x['tipo_documento']=='Boleta',x['clientName'],x['razon_social']),\n",
    "            'region': lambda x: np.where(x['tipo_documento']=='Boleta',x['department'],x['region']),\n",
    "            'provincia': lambda x: np.where(x['tipo_documento']=='Boleta',x['province'],x['provincia']),\n",
    "            'distrito': lambda x: np.where(x['tipo_documento']=='Boleta',x['district'],x['distrito'])\n",
    "        })\n",
    ")"
   ]
  },
  {
   "cell_type": "markdown",
   "metadata": {},
   "source": [
    "### **Condicionales**"
   ]
  },
  {
   "cell_type": "code",
   "execution_count": 121,
   "metadata": {},
   "outputs": [],
   "source": [
    "# Correos\n"
   ]
  },
  {
   "cell_type": "code",
   "execution_count": 161,
   "metadata": {},
   "outputs": [
    {
     "data": {
      "text/plain": [
       "array(['SC254A4', 'SCEB684', 'SC4BF65', 'SC7B531', 'SCA910D', 'SCAC0C5',\n",
       "       'SC20D42', 'SC81979', 'SCE7889', 'SC51B27', 'SC20C84', 'SC11B4E',\n",
       "       'SC0E8DC', 'SC8E697', 'SCAEEA9', 'SC89997', 'SC6B3EF', 'SC283FE',\n",
       "       'SC4FF3F', 'SC86D9F', 'SC5B573', 'SC7F9F0', 'SCC6988', 'SC43058',\n",
       "       'SC6D2D7', 'SCB2C51', 'SCBDBA8', 'SCECA03', 'SC86419', 'SC78B43',\n",
       "       'SC9BF2B', 'SC09B32', 'SC9AF38', 'SCC0340', 'SC762D3', 'SC63F89',\n",
       "       'SC3249A', 'SC35BB9', 'SCDC69D', 'SC66CE6', 'SCCF80F', 'SC05EE9',\n",
       "       'SC90DBD', 'SC9714B', 'SCC7361', 'SCE237C', 'SC6C67C', 'SCC95F0',\n",
       "       'SC1F7BE', 'SCA06B3', 'SC27E46', 'SC0E8DE', 'SCC5C99', 'SCC37A0',\n",
       "       'SC577E6', 'SC53BA4', 'SC94765', 'SCAF160', 'SC86825', 'SCC2EB9',\n",
       "       'SC85409', 'SCA47B1', 'SCAB2CC', 'SC7F032', 'SCC3631', 'SCC15EE',\n",
       "       'SC9B360', 'SCC20BE', 'SC8CD37', 'SC5E0DE', 'SC87A21', 'SC884DD',\n",
       "       'SC8EB99', 'SC63791', 'SC9DE01', 'SC6ABA0', 'SC659EC', 'SC6A5A4',\n",
       "       'SC67012', 'SCB7B09', 'SC537D4', 'SC933EE', 'SCE9199', 'SCF3CD0',\n",
       "       'SC1D033', 'SCE4285', 'SC380B6', 'SC38304', 'SCE6118', 'SC19F1A',\n",
       "       'SCD3DAB', 'SCF025C', 'SC28CAB', 'SC288E1', 'SC1A881', 'SCECEC3',\n",
       "       'SCD192C', 'SCD1016', 'SC43FBC', 'SC45570', 'SCEBE3B', 'SC46DD5',\n",
       "       'SCF28AD', 'SCA72EE', 'SCA2BB4', 'SCF293A', 'SCA3EC7', 'SCA5BB3',\n",
       "       'SCF0713', 'SCA6101', 'SCA69FB', 'SCEEA92', 'SCF2FC3', 'SCF2A87',\n",
       "       'SCF510D', 'SCA092D', 'SC9B41A', 'SC94A8F', 'SC94CA6', 'SC95588',\n",
       "       'SCFCDA5', 'SC98552', 'SCFC5EE', 'SCFBA50', 'SCF9F0A', 'SCF8ED8',\n",
       "       'SCF78B7', 'SCF3CA5', 'SC9BC83', 'SCF7299', 'SCF65E1', 'SC9C2CE',\n",
       "       'SC9C72A', 'SC9DA49', 'SCF5FAA', 'SC9E49A', 'SC9F316', 'SCA774F',\n",
       "       'SCC9A77', 'SCECBE4', 'SCC476B', 'SCC059F', 'SCC150B', 'SCD4312',\n",
       "       'SCC20A5', 'SCD41CE', 'SCC3546', 'SCD39FB', 'SCC40A2', 'SCD1FCE',\n",
       "       'SCDD963', 'SCC4D60', 'SCC5226', 'SCC5C61', 'SCD14AA', 'SCCBAAA',\n",
       "       'SCC6B9A', 'SCC73A7', 'SCCAA0C', 'SCD5146', 'SCDDAB5', 'SCA951B',\n",
       "       'SCB1037', 'SCEC8F0', 'SCAC9E3', 'SCACF55', 'SCEB022', 'SCC8574',\n",
       "       'SCE9934', 'SCAEFB3', 'SCE8ED9', 'SCB11B3', 'SCBBEC5', 'SCE2499',\n",
       "       'SCB2453', 'SCB2494', 'SCE02C8', 'SCE0069', 'SCB8158', 'SCDFF75',\n",
       "       'SCDF594', 'SCEADCD', 'SC0082A', 'SC92848', 'SC29300', 'SC2C694',\n",
       "       'SC2C7CD', 'SC2C7D2', 'SC2E455', 'SC2F41B', 'SC30621', 'SC32130',\n",
       "       'SC34386', 'SC35014', 'SC365F3', 'SC36B8E', 'SC379E2', 'SC37D76',\n",
       "       'SC385B8', 'SC39F64', 'SC3AC3B', 'SC3B18F', 'SC3B80E', 'SC3BEE0',\n",
       "       'SC3CBFD', 'SC41A83', 'SC45260', 'SC489FC', 'SC4AD73', 'SC4AE1A',\n",
       "       'SC4BE6F', 'SC4C1F8', 'SC2C693', 'SC262F1', 'SC92460', 'SC25D34',\n",
       "       'SC01049', 'SC010E8', 'SC03BC2', 'SC0665B', 'SC06F96', 'SC0761A',\n",
       "       'SC08143', 'SC08281', 'SC0857D', 'SC0889B', 'SC0F4FD', 'SC0FA65',\n",
       "       'SC12D3C', 'SC1606B', 'SC1668F', 'SC17FFC', 'SC18534', 'SC1A769',\n",
       "       'SC1B420', 'SC1BFD7', 'SC1E556', 'SC1F1EE', 'SC1F8F9', 'SC1FBB2',\n",
       "       'SC23AAF', 'SC2406B', 'SC25ADC', 'SC4C9C6', 'SC4CA68', 'SC505D8',\n",
       "       'SC52916', 'SC710CF', 'SC759D8', 'SC76D39', 'SC772B8', 'SC77516',\n",
       "       'SC79AF0', 'SC7C650', 'SC7E5D8', 'SC83F7A', 'SC00B13', 'SC86D0E',\n",
       "       'SC87B88', 'SC8810F', 'SC884F7', 'SC8850A', 'SC8A47C', 'SC8AC30',\n",
       "       'SC8BAF8', 'SC8C5BF', 'SC8E242', 'SC8E538', 'SC8E8EE', 'SC8ED89',\n",
       "       'SC8F4D6', 'SC91209', 'SC91F6D', 'SC92323', 'SC706AB', 'SC6F3CA',\n",
       "       'SC6E6AC', 'SC5CBD1', 'SC5607E', 'SC57151', 'SC572E8', 'SC58A3B',\n",
       "       'SC58EEC', 'SC5949C', 'SC59B9A', 'SC59C9F', 'SC5B3B7', 'SC5BCDD',\n",
       "       'SC5BEDD', 'SC5C2A0', 'SC5DD82', 'SC6B27B', 'SC61111', 'SC614D5',\n",
       "       'SC62269', 'SC6475A', 'SC64ADA', 'SC64B72', 'SC64DB9', 'SC65628',\n",
       "       'SC66A00', 'SC674BE', 'SC68AA9', 'SC6A60A', 'SCFEE27'],\n",
       "      dtype=object)"
      ]
     },
     "execution_count": 161,
     "metadata": {},
     "output_type": "execute_result"
    }
   ],
   "source": [
    "(\n",
    "    data_1\n",
    "    .query(\"ticket_solicitud.notnull()\")\n",
    "    .groupby('sellerId', dropna=False)\n",
    "    .agg(orders=('deliveryOrderNumber','nunique'))\n",
    "    .reset_index()\n",
    "    .sort_values(['orders'], ascending=False)['sellerId'].unique()\n",
    ")"
   ]
  },
  {
   "cell_type": "markdown",
   "metadata": {},
   "source": [
    "### **Envío de correos**"
   ]
  },
  {
   "cell_type": "markdown",
   "metadata": {},
   "source": [
    "#### **1. AAA**"
   ]
  },
  {
   "cell_type": "code",
   "execution_count": null,
   "metadata": {},
   "outputs": [],
   "source": [
    "# Establecer la conexión con el servidor SMTP de Outlook\n",
    "server = smtplib.SMTP('smtp.office365.com', 587)\n",
    "server.starttls()\n",
    "\n",
    "# Iniciar sesión en el servidor SMTP\n",
    "server.login(correo_usuario, contrasena)\n",
    "\n",
    "# Tiendas únicas en el DataFrame\n",
    "\n",
    "#sellers = data_1['sellerId'].unique()\n",
    "\n",
    "sellers = (\n",
    "    data_1\n",
    "    .query(\"ticket_solicitud.notnull()\")\n",
    "    .groupby('sellerId', dropna=False)\n",
    "    .agg(orders=('deliveryOrderNumber','nunique'))\n",
    "    .reset_index()\n",
    "    .sort_values(['orders'], ascending=False)['sellerId'].unique()\n",
    ")\n",
    "\n",
    "# Iterar sobre las tiendas únicas en el DataFrame\n",
    "for seller in sellers:\n",
    "    \n",
    "    # Filtrar dataframe por tienda\n",
    "    df_seller = data_1[data_1['sellerId'] == seller]\n",
    "\n",
    "    # Obtener datos por tienda\n",
    "    correo_seller = df_seller['sellerEmail'].iloc[0]\n",
    "    phone_asignado = df_seller['loyaltyPhone'].iloc[0]\n",
    "    link_phone = df_seller['EnlaceAAA'].iloc[0]\n",
    "    sellerName = df_seller['sellerName'].iloc[0]\n",
    "\n",
    "    # Seleccionar columnas específicas para mostrar en el cuerpo del correo\n",
    "    df_seller =  (                 \n",
    "                    df_seller\n",
    "                    .drop_duplicates()\n",
    "                    .sort_values(by='dateCreatedAt', ascending=False)\n",
    "                    .loc[:,columnas]\n",
    "                    .rename(columns={\n",
    "                              'sellerName': 'Nombre del seller',\n",
    "                              'dateCreatedAt': 'Fecha de orden',\n",
    "                              'deliveryOrderNumber': 'Número de orden',\n",
    "                              'shipping_fee': 'Valor de envío',\n",
    "                              'TotalPrecio': 'Valor de productos',\n",
    "                              'monto_total': 'Valor total',\n",
    "                              'tipo_documento': 'Tipo de comprobante',\n",
    "                              'tipo_de_documento': 'Tipo de documento',\n",
    "                              'identificacion_legal': 'Número de documento',\n",
    "                              'razon_social': 'Razón social',\n",
    "                              'region': 'Región',\n",
    "                              'provincia': 'Provincia',\n",
    "                              'distrito': 'Distrito',\n",
    "                              'direccion': 'Dirección'\n",
    "                    })\n",
    "    )\n",
    "    \n",
    "    # Configurar el mensaje\n",
    "    msg = MIMEMultipart()\n",
    "    msg['From'] = 'fcomlogisticasx@falabella.com'\n",
    "    msg['To'] = correo_seller\n",
    "    msg['Subject'] = asuntos_base[0].format(seller)\n",
    "    msg['CC'] = 'soporteperufcom@falabella.com'\n",
    "\n",
    "    # Crear el cuerpo del correo en formato HTML\n",
    "    mensaje_html = f\"\"\"\n",
    "      <html>\n",
    "        <head>\n",
    "          <style>\n",
    "            table {{\n",
    "              border-collapse: collapse;\n",
    "              width: 100%;\n",
    "            }}\n",
    "            th, td {{\n",
    "              border: 1px solid black;\n",
    "              padding: 8px;\n",
    "              text-align: left;\n",
    "            }}\n",
    "            th {{\n",
    "              background-color: #74B700;\n",
    "              color: white;\n",
    "              font-size: 16px;\n",
    "              font-weight: bold;\n",
    "              text-align: center;\n",
    "            }}\n",
    "          </style>\n",
    "        </head>\n",
    "        <body>\n",
    "          <p><h2><strong>Hola {sellerName}, con ID {seller}!</strong> Recuerda subir los comprobantes de los siguientes pedidos: </h2></p>\n",
    "          \n",
    "          <br>\n",
    "          {df_seller.to_html(index=False)}\n",
    "          <br>\n",
    "          <p>Para cada orden debes subir la boleta o factura emitida a Falabella Seller Center.</p>\n",
    "              <ol>\n",
    "                  <li>Revisa nuestro tutorial de facturación: <a href=\"https://ayudaseller.falabella.com/s/article/Generacion-de-boletas-y-facturas-Peru\">Tutorial de facturación</a>.</li>\n",
    "                  <li>Revisa nuestro tutorial de carga de documentos: <a href=\"https://ayudaseller.falabella.com/s/article/Carga-de-documentos-tributarios\">Tutorial de carga de comprobantes</a>.</li>\n",
    "              </ol>\n",
    "                            \n",
    "          <p>🚨 Este paso es obligatorio 🚨 de no hacerlo podrías caer en penalidades.</p>\n",
    "          <p>🚨 Recuerda que los datos de empresa deben coincidir con tus datos de Falabella Seller Center 🚨.</p>\n",
    "\n",
    "          <p>Podrás revisar tus órdenes con comprobante pendiente en Falabella Seller Center desde <a href= \"https://sellercenter.falabella.com/order/invoice#/purchased-order-list\">aquí</a>.</p>\n",
    "\n",
    "          <p>¡Gracias!</p> \n",
    "        </body>\n",
    "      </html>\n",
    "    \"\"\"\n",
    "\n",
    "    # Adjuntar el cuerpo del correo en formato HTML\n",
    "    msg.attach(MIMEText(mensaje_html, 'html'))\n",
    "\n",
    "    # Enviar el correo electrónico\n",
    "    server.sendmail(correo_usuario, correo_seller, msg.as_string())\n",
    "\n",
    "# Cerrar la conexión con el servidor SMTP\n",
    "server.quit()"
   ]
  },
  {
   "cell_type": "code",
   "execution_count": null,
   "metadata": {},
   "outputs": [],
   "source": [
    "#<p>🌟 Si necesitas soporte personalizado a través de WhatsApp, contáctanos en el {phone_asignado} o <a href=\"{link_phone}\">ingresando al siguiente link</a>.</p>\n",
    "        "
   ]
  },
  {
   "cell_type": "markdown",
   "metadata": {},
   "source": [
    "### **Envío de Whatsapp**"
   ]
  },
  {
   "cell_type": "markdown",
   "metadata": {},
   "source": [
    "#### **1. AAA**"
   ]
  },
  {
   "cell_type": "code",
   "execution_count": 244,
   "metadata": {},
   "outputs": [],
   "source": [
    "def send_whatsapp_message(seller_data):\n",
    "    mensaje_whatsapp = \"\"\"\n",
    "        *Hola {sellerName}, Hoy estás en la ruta de recolección*\n",
    "\n",
    "        Detectamos que tienes órdenes poseen retraso en la entrega, es importante que las entregues hoy al operador logístico.\n",
    "\n",
    "        Para mayor detalle te hemos enviado un mail al correo *{correo}* con asunto \"F.COM | 🚨 HOY ESTAS EN RUTA🚨\"\n",
    "\n",
    "        🚚 Aquí podrás revisar el tutorial de gestión de órdenes: https://youtu.be/lpk1_y9uYDg\n",
    "\n",
    "        Queremos reforzar contigo el proceso para gestionarlas:\n",
    "\n",
    "        📦 Para que podamos recolectar tu orden deberás:\n",
    "\n",
    "        1-\tPodrás revisar tus órdenes en falabella seller center desde aquí: https://sellercenter.falabella.com/order\n",
    "        2-\tRecuerda hacer clic en “Listo para despachar” como máximo un día antes de la fecha límite de despacho (antes de las 10p.m.)\n",
    "\n",
    "        🌟Si necesitas soporte personalizado a través de WhatsApp, contáctanos en el *{Phone}* o haz clic aquí {link_phone}\n",
    "\n",
    "        ¡Gracias!\n",
    "    \"\"\"\n",
    "    whatsapp_message = mensaje_whatsapp.format(\n",
    "        sellerName=seller_data['sellerName'],\n",
    "        correo=seller_data['sellerEmail'],\n",
    "        Phone=seller_data['sellerPhone'],\n",
    "        link_phone=seller_data['loyaltyPhone'],\n",
    "    )\n",
    "    \n",
    "    pywhatkit.sendwhatmsg_instantly(seller_data['sellerPhone'], whatsapp_message)"
   ]
  },
  {
   "cell_type": "code",
   "execution_count": 245,
   "metadata": {},
   "outputs": [],
   "source": [
    "\"\"\"\n",
    "lista = data_5.groupby(['sellerId'],dropna=False).agg(orders=('deliveryOrderNumber','count')).reset_index().sort_values(['orders'], ascending=False)\n",
    "sellers_lista = lista[lista['orders']>=5]['sellerId'].to_list()\n",
    "data_5_final = data_5[data_5['sellerId'].isin(sellers_lista)]\n",
    "\"\"\""
   ]
  },
  {
   "cell_type": "code",
   "execution_count": 247,
   "metadata": {},
   "outputs": [],
   "source": [
    "\"\"\"\n",
    "# Batch processing\n",
    "threads = []\n",
    "for seller_id, seller_data in data_5_final.groupby('sellerId'):\n",
    "    seller_data = seller_data.iloc[0]  # Assuming each seller has the same data\n",
    "    thread = threading.Thread(target=send_whatsapp_message, args=(seller_data,))\n",
    "    threads.append(thread)\n",
    "    thread.start()\n",
    "    time.sleep(12)  # Add delay between starting threads\n",
    "\n",
    "# Wait for all threads to finish\n",
    "for thread in threads:\n",
    "    thread.join()\n",
    "\"\"\""
   ]
  }
 ],
 "metadata": {
  "kernelspec": {
   "display_name": "Python 3",
   "language": "python",
   "name": "python3"
  },
  "language_info": {
   "codemirror_mode": {
    "name": "ipython",
    "version": 3
   },
   "file_extension": ".py",
   "mimetype": "text/x-python",
   "name": "python",
   "nbconvert_exporter": "python",
   "pygments_lexer": "ipython3",
   "version": "3.9.5"
  }
 },
 "nbformat": 4,
 "nbformat_minor": 2
}
