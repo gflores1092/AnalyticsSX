{
  "nbformat": 4,
  "nbformat_minor": 0,
  "metadata": {
    "colab": {
      "provenance": []
    },
    "kernelspec": {
      "name": "python3",
      "display_name": "Python 3"
    },
    "language_info": {
      "name": "python"
    }
  },
  "cells": [
    {
      "cell_type": "code",
      "source": [
        "!pip install schedule\n"
      ],
      "metadata": {
        "colab": {
          "base_uri": "https://localhost:8080/"
        },
        "id": "-rSV7h9D3hHD",
        "outputId": "7b9fa47a-e9b2-4f8b-dbc3-ec02b9597e5d"
      },
      "execution_count": null,
      "outputs": [
        {
          "output_type": "stream",
          "name": "stdout",
          "text": [
            "Collecting schedule\n",
            "  Downloading schedule-1.2.1-py2.py3-none-any.whl (11 kB)\n",
            "Installing collected packages: schedule\n",
            "Successfully installed schedule-1.2.1\n"
          ]
        }
      ]
    },
    {
      "cell_type": "code",
      "source": [
        "import schedule\n",
        "import time\n",
        "\n",
        "def enviar_correos():\n",
        "\n",
        "\n",
        "  import pandas as pd\n",
        "  import smtplib\n",
        "  from email.mime.text import MIMEText\n",
        "  from email.mime.multipart import MIMEMultipart\n",
        "  from email.mime.image import MIMEImage\n",
        "\n",
        "  # Importación del archivo Excel data1\n",
        "  df = pd.read_excel(\"/content/data 1.xlsx\")\n",
        "\n",
        "  # Filtrar los pedidos cancelados\n",
        "  canceled_orders = df[df[\"Status\"] == \"Canceled\"]\n",
        "\n",
        "  # Se obtiene las direcciones de correo electrónico de los pedidos cancelados\n",
        "  email_addresses = canceled_orders[\"Email\"].tolist()\n",
        "\n",
        "  # Configuracion del servidor de correo electrónico de Outlook\n",
        "  outlook_server = \"smtp.office365.com\"\n",
        "  outlook_port = 587\n",
        "  outlook_email = \"user@Falabella.com\"\n",
        "  outlook_password = \"contraseña\"\n",
        "\n",
        "  # Configuración el servidor de correo electrónico\n",
        "  server = smtplib.SMTP(outlook_server, outlook_port)\n",
        "  server.starttls()\n",
        "\n",
        "  # Inicia sesión en el servidor de Outlook\n",
        "  server.login(outlook_email, outlook_password)\n",
        "\n",
        "  # Itera a través de los pedidos cancelados y envía el correo a cada destinatario\n",
        "  for index, row in canceled_orders.iterrows():\n",
        "      # Crea un mensaje de correo electrónico para cada destinatario\n",
        "      message = MIMEMultipart()\n",
        "      message[\"From\"] = outlook_email\n",
        "      message[\"Subject\"] = \"SKU Status: Canceled\"\n",
        "\n",
        "      # Cuerpo del mensaje en formato HTML con la firma al final\n",
        "      body = f\"\"\"\n",
        "      <html>\n",
        "      <body>\n",
        "          <p>Estimado <strong>{row['sellerName']}</strong>,</p>\n",
        "          <p>Su pedido asociado al SKU <strong>{row['Sku']}</strong> está <strong>{row['Status']}</strong>.</p>\n",
        "          <p>Gracias por su atención.</p>\n",
        "          <p>---</p>\n",
        "          <p><img src=\"cid:firma_image\"></p>\n",
        "      </body>\n",
        "      </html>\n",
        "      \"\"\"\n",
        "      message.attach(MIMEText(body, \"html\"))\n",
        "\n",
        "      # Adjunta la imagen de la firma\n",
        "      with open(\"/content/Firma.png\", \"rb\") as image_file:\n",
        "          firma_image = MIMEImage(image_file.read())\n",
        "          firma_image.add_header(\"Content-ID\", \"<firma_image>\")\n",
        "          message.attach(firma_image)\n",
        "\n",
        "      # Envía el correo electrónico\n",
        "      message[\"To\"] = row[\"Email\"]\n",
        "      server.sendmail(outlook_email, row[\"Email\"], message.as_string())\n",
        "\n",
        "  # Cierra la conexión con el servidor de correo electrónico\n",
        "  server.quit()\n",
        "\n",
        "# Programar la ejecución del código todos los días a las 13:40\n",
        "schedule.every(2).minutes.do(enviar_correos)\n",
        "\n",
        "# Ejecutar el programa de planificación en un bucle infinito\n",
        "try:\n",
        "    while True:\n",
        "        schedule.run_pending()\n",
        "        time.sleep(1)  # Esperar 6 segundos antes de verificar si hay tareas programadas\n",
        "except KeyboardInterrupt:\n",
        "    print(\"Programa detenido por el usuario\")"
      ],
      "metadata": {
        "id": "d9bg_zLY0t5-"
      },
      "execution_count": null,
      "outputs": []
    }
  ]
}