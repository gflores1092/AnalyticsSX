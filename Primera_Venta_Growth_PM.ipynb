{
 "cells": [
  {
   "cell_type": "markdown",
   "metadata": {},
   "source": [
    "# LIBRERIAS"
   ]
  },
  {
   "cell_type": "code",
   "execution_count": 15,
   "metadata": {},
   "outputs": [],
   "source": [
    "import pandas as pd\n",
    "from google.cloud import bigquery\n",
    "import pywhatkit\n",
    "import time\n",
    "import pyautogui\n",
    "import time\n",
    "from datetime import datetime, timedelta"
   ]
  },
  {
   "cell_type": "markdown",
   "metadata": {},
   "source": [
    "# EXTRAYENDO DATA DE BIG QUERY Y CONVIRTIENDOLO EN DF"
   ]
  },
  {
   "cell_type": "code",
   "execution_count": 16,
   "metadata": {},
   "outputs": [],
   "source": [
    "# Conexión Google Cloud SDK\n",
    "# https://cloud.google.com/appengine/docs/standard/setting-up-environment?tab=python&hl=es-419\n",
    "\n",
    "# Ejecutar lo siguiente en Powershell\n",
    "## (New-Object Net.WebClient).DownloadFile(\"https://dl.google.com/dl/cloudsdk/channels/rapid/GoogleCloudSDKInstaller.exe\", \"$env:Temp\\GoogleCloudSDKInstaller.exe\") & $env:Temp\\GoogleCloudSDKInstaller.exe\n",
    "## gcloud auth application-default login"
   ]
  },
  {
   "cell_type": "code",
   "execution_count": 17,
   "metadata": {},
   "outputs": [
    {
     "name": "stderr",
     "output_type": "stream",
     "text": [
      "c:\\Users\\jalopezz\\AppData\\Local\\Programs\\Python\\Python311\\Lib\\site-packages\\google\\auth\\_default.py:78: UserWarning: Your application has authenticated using end user credentials from Google Cloud SDK without a quota project. You might receive a \"quota exceeded\" or \"API not enabled\" error. See the following page for troubleshooting: https://cloud.google.com/docs/authentication/adc-troubleshooting/user-creds. \n",
      "  warnings.warn(_CLOUD_SDK_CREDENTIALS_WARNING)\n"
     ]
    },
    {
     "name": "stdout",
     "output_type": "stream",
     "text": [
      "      src_id                        name    order_nr  \\\n",
      "0    SC71F50                DURANGO PERU  2177140044   \n",
      "1    SC75600                 SANDDER TNT  2176225222   \n",
      "2    SCC0AED            TUTTO COLLECTION  2174514253   \n",
      "3    SC1E35A  ONLINE DISTRIBUTIONS PERU.  2177169166   \n",
      "4    SC65C6E               JolkShop Peru  2175353098   \n",
      "..       ...                         ...         ...   \n",
      "112  SCD3FFE              MUEBLES WALTER  2178887479   \n",
      "113  SC06F60   importaciones tukuy rikuy  2174828244   \n",
      "114  SC634B5                   FullHouse  2180681239   \n",
      "115  SC69546         ACUARIUM LOS OLIVOS  2179077128   \n",
      "116  SC888DC                       DARNA  2175233824   \n",
      "\n",
      "    shipping_provider_product             src_status         fecha_venta  \\\n",
      "0                        ibis              delivered 2024-03-11 03:56:54   \n",
      "1                        ibis              delivered 2024-03-09 01:08:42   \n",
      "2                        ibis              delivered 2024-03-05 12:03:37   \n",
      "3                        ibis              delivered 2024-03-11 13:21:41   \n",
      "4                        ibis                shipped 2024-03-07 03:03:07   \n",
      "..                        ...                    ...                 ...   \n",
      "112                      ibis  packed_by_marketplace 2024-03-14 22:09:53   \n",
      "113                      ibis              delivered 2024-03-06 01:15:03   \n",
      "114                      ibis  packed_by_marketplace 2024-03-18 21:22:51   \n",
      "115                      ibis                shipped 2024-03-15 05:25:50   \n",
      "116                      ibis              delivered 2024-03-06 22:11:19   \n",
      "\n",
      "         target_to_ship fecha_primera_venta Telefono_Concat    origen  \\\n",
      "0   2024-03-12 23:30:00 2024-03-11 03:56:54    +51964514290  nacional   \n",
      "1   2024-03-12 23:30:00 2024-03-09 01:08:42    +51952464866  nacional   \n",
      "2   2024-03-06 23:30:00 2024-03-05 12:03:37    +51994678941  nacional   \n",
      "3   2024-03-13 23:30:00 2024-03-11 13:21:42    +51964727232  nacional   \n",
      "4   2024-03-08 23:30:00 2024-03-07 03:03:07    +51991104599  nacional   \n",
      "..                  ...                 ...             ...       ...   \n",
      "112 2024-03-26 23:30:00 2024-03-14 22:09:53    +51978124274  nacional   \n",
      "113 2024-03-07 23:30:00 2024-02-10 03:06:16    +51980787958  nacional   \n",
      "114 2024-04-01 23:30:00 2024-03-18 21:22:52    +51958954852  nacional   \n",
      "115 2024-03-18 23:30:00 2024-03-15 05:25:50    +51949076613  nacional   \n",
      "116 2024-03-07 23:30:00 2024-03-06 22:11:20    +51926192519  nacional   \n",
      "\n",
      "    account_status  \n",
      "0           Activo  \n",
      "1           Activo  \n",
      "2           Activo  \n",
      "3           Activo  \n",
      "4           Activo  \n",
      "..             ...  \n",
      "112         Activo  \n",
      "113         Activo  \n",
      "114         Activo  \n",
      "115         Activo  \n",
      "116         Activo  \n",
      "\n",
      "[117 rows x 11 columns]\n"
     ]
    }
   ],
   "source": [
    "# Especifica el ID del proyecto de Google Cloud\n",
    "project_id = 'bi-fcom-drmb-local-pe-sbx'\n",
    "\n",
    "# Crea una instancia del cliente de BigQuery con el ID del proyecto especificado\n",
    "client = bigquery.Client(project=project_id)\n",
    "\n",
    "# ID del conjunto de datos que contiene la tabla\n",
    "dataset_id = 'Snorlax_SellerJourney'\n",
    "\n",
    "# Nombre de la tabla a la que deseas acceder\n",
    "table_id = 'sellers_registered_ventas'\n",
    "\n",
    "# Consulta SQL para obtener datos de la tabla\n",
    "query = f\"\"\"\n",
    "SELECT\n",
    "  src_id,\n",
    "  name,\n",
    "  order_nr,\n",
    "  shipping_provider_product,\n",
    "  src_status,\n",
    "  fecha_venta,\n",
    "  target_to_ship,\n",
    "  fecha_primera_venta,\n",
    "  CONCAT('+51', Telefono) AS Telefono_Concat,\n",
    "  origen,\n",
    "  account_status\n",
    "FROM (\n",
    "  SELECT\n",
    "    *\n",
    "  FROM (\n",
    "    SELECT\n",
    "      *,\n",
    "      ROW_NUMBER() OVER (PARTITION BY src_id ORDER BY fecha_venta ASC ) AS tt\n",
    "    FROM (\n",
    "      SELECT\n",
    "        *\n",
    "      FROM\n",
    "        `bi-fcom-drmb-local-pe-sbx.Snorlax_SellerJourney.sellers_registered_ventas`\n",
    "      WHERE\n",
    "        src_status NOT IN( 'canceled',\n",
    "          'return_shipped_by_customer',\n",
    "          'failed_delivery',\n",
    "          'return_waiting_for_approval',\n",
    "          'return_rejected',\n",
    "          'returned')))\n",
    "  WHERE\n",
    "    tt = 1)\n",
    "WHERE\n",
    "  fecha_venta BETWEEN '2024-03-05'AND '2024-03-31'\n",
    "  AND origen ='nacional'\n",
    "  AND account_status = 'Activo'\n",
    "\"\"\"\n",
    "\n",
    "# Ejecutar la consulta y obtener los resultados\n",
    "query_job = client.query(query)\n",
    "# Convertir los resultados a un DataFrame\n",
    "df = query_job.to_dataframe()\n",
    "print(df)"
   ]
  },
  {
   "cell_type": "markdown",
   "metadata": {},
   "source": [
    "# DEFINIENDO EL DATA FRAME Y CAMPO FECHA_VENTA"
   ]
  },
  {
   "cell_type": "code",
   "execution_count": 18,
   "metadata": {},
   "outputs": [],
   "source": [
    "# Crear DataFrame y especificar que columnas con tipo str\n",
    "info_data = pd.DataFrame(df, columns=[\"src_id\",\"name\", \"order_nr\", \"shipping_provider_product\", \"src_status\", \"fecha_venta\",\"target_to_ship\",\"fecha_primera_venta\",\"Telefono_Concat\"], dtype=str)\n",
    "# Convertir fechas en formato de cadena a objetos datetime\n",
    "info_data['fecha_venta'] = pd.to_datetime(info_data['fecha_venta'])"
   ]
  },
  {
   "cell_type": "markdown",
   "metadata": {},
   "source": [
    "# DEFINIENDO PARAMETROS DE DÍAS Y HORAS"
   ]
  },
  {
   "cell_type": "code",
   "execution_count": 19,
   "metadata": {},
   "outputs": [],
   "source": [
    "\n",
    "# Obtener la fecha de ayer y de hoy\n",
    "hoy = datetime.today().date()\n",
    "ayer = hoy - timedelta(days=1)\n",
    "\n",
    "# Establecer las horas límite para los envíos\n",
    "hora_limite_am_inicio = ayer.strftime('%Y-%m-%d') + \" 18:00:00\"  # 6 PM de ayer\n",
    "hora_limite_am_fin = hoy.strftime('%Y-%m-%d') + \" 08:00:00\"       # 8 AM de hoy\n",
    "hora_limite_pm_inicio = hoy.strftime('%Y-%m-%d') + \" 08:00:00\"   # 8 AM de hoy\n",
    "hora_limite_pm_fin = hoy.strftime('%Y-%m-%d') + \" 18:00:00\"      # 6 PM de hoy"
   ]
  },
  {
   "cell_type": "markdown",
   "metadata": {},
   "source": [
    "# CONDICIONALES "
   ]
  },
  {
   "cell_type": "code",
   "execution_count": 20,
   "metadata": {},
   "outputs": [],
   "source": [
    "# Filtrar las órdenes para el envío por la tarde\n",
    "info_data_primera_venta_enviopm = info_data[\n",
    "    ((info_data['fecha_venta'] >= pd.to_datetime(hora_limite_pm_inicio)) &\n",
    "    (info_data['fecha_venta'] < pd.to_datetime(hora_limite_pm_fin)))\n",
    "]"
   ]
  },
  {
   "cell_type": "markdown",
   "metadata": {},
   "source": [
    "# ENVIO WHATS APP"
   ]
  },
  {
   "cell_type": "markdown",
   "metadata": {},
   "source": [
    "# CORTE PM."
   ]
  },
  {
   "cell_type": "code",
   "execution_count": 21,
   "metadata": {},
   "outputs": [
    {
     "ename": "KeyboardInterrupt",
     "evalue": "",
     "output_type": "error",
     "traceback": [
      "\u001b[1;31m---------------------------------------------------------------------------\u001b[0m",
      "\u001b[1;31mKeyboardInterrupt\u001b[0m                         Traceback (most recent call last)",
      "Cell \u001b[1;32mIn[21], line 44\u001b[0m\n\u001b[0;32m     39\u001b[0m whatsapp_message \u001b[38;5;241m=\u001b[39m mensaje_whatsapp_pm\u001b[38;5;241m.\u001b[39mformat(\n\u001b[0;32m     40\u001b[0m                 Seller\u001b[38;5;241m=\u001b[39mdf_seller_1[\u001b[38;5;124m\"\u001b[39m\u001b[38;5;124mname\u001b[39m\u001b[38;5;124m\"\u001b[39m]\u001b[38;5;241m.\u001b[39miloc[\u001b[38;5;241m0\u001b[39m],\n\u001b[0;32m     41\u001b[0m                 fecha_límite\u001b[38;5;241m=\u001b[39mdf_seller_1[\u001b[38;5;124m\"\u001b[39m\u001b[38;5;124mtarget_to_ship\u001b[39m\u001b[38;5;124m\"\u001b[39m]\u001b[38;5;241m.\u001b[39miloc[\u001b[38;5;241m0\u001b[39m],                    \n\u001b[0;32m     42\u001b[0m         )\n\u001b[0;32m     43\u001b[0m \u001b[38;5;66;03m#Enviar el mensaje de WhatsApp\u001b[39;00m\n\u001b[1;32m---> 44\u001b[0m \u001b[43mpywhatkit\u001b[49m\u001b[38;5;241;43m.\u001b[39;49m\u001b[43msendwhatmsg_instantly\u001b[49m\u001b[43m(\u001b[49m\u001b[43mNumero\u001b[49m\u001b[43m,\u001b[49m\u001b[43m \u001b[49m\u001b[43mwhatsapp_message\u001b[49m\u001b[43m)\u001b[49m\n\u001b[0;32m     45\u001b[0m time\u001b[38;5;241m.\u001b[39msleep(\u001b[38;5;241m10\u001b[39m)    \n",
      "File \u001b[1;32mc:\\Users\\jalopezz\\AppData\\Local\\Programs\\Python\\Python311\\Lib\\site-packages\\pywhatkit\\whats.py:31\u001b[0m, in \u001b[0;36msendwhatmsg_instantly\u001b[1;34m(phone_no, message, wait_time, tab_close, close_time)\u001b[0m\n\u001b[0;32m     29\u001b[0m time\u001b[38;5;241m.\u001b[39msleep(\u001b[38;5;241m4\u001b[39m)\n\u001b[0;32m     30\u001b[0m pg\u001b[38;5;241m.\u001b[39mclick(core\u001b[38;5;241m.\u001b[39mWIDTH \u001b[38;5;241m/\u001b[39m \u001b[38;5;241m2\u001b[39m, core\u001b[38;5;241m.\u001b[39mHEIGHT \u001b[38;5;241m/\u001b[39m \u001b[38;5;241m2\u001b[39m)\n\u001b[1;32m---> 31\u001b[0m \u001b[43mtime\u001b[49m\u001b[38;5;241;43m.\u001b[39;49m\u001b[43msleep\u001b[49m\u001b[43m(\u001b[49m\u001b[43mwait_time\u001b[49m\u001b[43m \u001b[49m\u001b[38;5;241;43m-\u001b[39;49m\u001b[43m \u001b[49m\u001b[38;5;241;43m4\u001b[39;49m\u001b[43m)\u001b[49m\n\u001b[0;32m     32\u001b[0m pg\u001b[38;5;241m.\u001b[39mpress(\u001b[38;5;124m\"\u001b[39m\u001b[38;5;124menter\u001b[39m\u001b[38;5;124m\"\u001b[39m)\n\u001b[0;32m     33\u001b[0m log\u001b[38;5;241m.\u001b[39mlog_message(_time\u001b[38;5;241m=\u001b[39mtime\u001b[38;5;241m.\u001b[39mlocaltime(), receiver\u001b[38;5;241m=\u001b[39mphone_no, message\u001b[38;5;241m=\u001b[39mmessage)\n",
      "\u001b[1;31mKeyboardInterrupt\u001b[0m: "
     ]
    }
   ],
   "source": [
    "mensaje_whatsapp_pm = \"\"\"\n",
    "¡Hola! *{Seller}* has recibido una venta 🎉 Queremos reforzar contigo el proceso para gestionarla:      \n",
    " \n",
    "Tutorial despacho: https://youtu.be/lpk1_y9uYDg   \n",
    "    \n",
    "_*Instrucciones:*_  \n",
    " \n",
    "Revisa tus órdenes aquí: https://sellercenter.falabella.com/order    \n",
    " \n",
    "📦 Para gestionar tu pedido debes:      \n",
    " \n",
    "1- Imprimir la *etiqueta* que pegarás al exterior de tu empaque. Se visualiza al lado izquierdo como *Label*. \n",
    "   \n",
    "2- Hacer clic en *Listo para despachar* - máximo un día antes de la fecha límite (antes de las 8:00PM).   \n",
    "   \n",
    "3- El *{fecha_límite}* recolectaremos las órdenes en tu almacén 🤝  \n",
    " \n",
    "🚨 Recuerda que:  \n",
    " \n",
    "1- El horario de recolección es entre *8:00 a 17:00 hrs*. El transporte te llamará al llegar (espera: 10 minutos) \n",
    " \n",
    "2- Emitir la *boleta electrónica* en SUNAT por el \"Gran total\" y adjuntarla en Ordenes - Documentos Tributarios\n",
    " \n",
    "3- Instructivo de embalaje y etiquetado: https://www.falabellasellers.com/embalaje-y-etiquetado \n",
    " \n",
    "*4- Siempre enviamos las alertas de pedidos por correo, remitente: noreply@mail.sellercenter.falabella.com*\n",
    "\"\"\"\n",
    "\n",
    "\n",
    "\n",
    "for seller in info_data_primera_venta_enviopm['src_id'].unique():\n",
    "    # Filtrar el DataFrame para la tienda actual\n",
    "    df_seller_1 = info_data_primera_venta_enviopm[info_data_primera_venta_enviopm['src_id'] == seller]\n",
    "    \n",
    "    \n",
    "    Numero = df_seller_1['Telefono_Concat'].iloc[0]\n",
    "    \n",
    "    \n",
    "    whatsapp_message = mensaje_whatsapp_pm.format(\n",
    "                    Seller=df_seller_1[\"name\"].iloc[0],\n",
    "                    fecha_límite=df_seller_1[\"target_to_ship\"].iloc[0],                    \n",
    "            )\n",
    "    #Enviar el mensaje de WhatsApp\n",
    "    pywhatkit.sendwhatmsg_instantly(Numero, whatsapp_message)\n",
    "    time.sleep(10)    "
   ]
  }
 ],
 "metadata": {
  "kernelspec": {
   "display_name": "Python 3",
   "language": "python",
   "name": "python3"
  },
  "language_info": {
   "codemirror_mode": {
    "name": "ipython",
    "version": 3
   },
   "file_extension": ".py",
   "mimetype": "text/x-python",
   "name": "python",
   "nbconvert_exporter": "python",
   "pygments_lexer": "ipython3",
   "version": "3.11.4"
  }
 },
 "nbformat": 4,
 "nbformat_minor": 2
}
