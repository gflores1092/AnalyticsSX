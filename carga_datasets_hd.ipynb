{
 "cells": [
  {
   "cell_type": "code",
   "execution_count": 1,
   "metadata": {},
   "outputs": [],
   "source": [
    "usuario = r'gfloress'\n",
    "\n",
    "ruta_mkp = r'MARKETPLACE PERÚ - Documents'\n",
    "ruta_hd = r'PU - Transporte HomeDelivery - SX'"
   ]
  },
  {
   "cell_type": "code",
   "execution_count": 2,
   "metadata": {},
   "outputs": [],
   "source": [
    "import pyarrow\n",
    "import fastparquet"
   ]
  },
  {
   "cell_type": "code",
   "execution_count": 3,
   "metadata": {},
   "outputs": [],
   "source": [
    "# Importar librerías de funciones\n",
    "import os # Para trabajar con rutas\n",
    "import glob # Para jalar todo los archivos en una carpeta\n",
    "import warnings # Para evitar que salgan errores en formatos de archivo (no altera el producto)\n",
    "import numpy as np # Para operaciones matemáticas\n",
    "import pandas as pd # Para transformar la data\n",
    "from pandas import ExcelWriter # Para exportar tabla a Excel\n",
    "\n",
    "# Opciones\n",
    "warnings.filterwarnings(action='ignore') # Eliminar mensajes de warning (no elimina mensajes de error)\n",
    "pd.set_option('display.expand_frame_repr', False)\n",
    "#pd.options.display.float_format = '{:.2f}'.format # Suprimir notación científica para números\n",
    "\n",
    "# Rutas base\n",
    "ruta_base_mkp = r'C:\\\\Users\\\\' + usuario + r'\\\\Falabella\\\\' + ruta_mkp\n",
    "ruta_base_hd = r'C:\\\\Users\\\\' + usuario + r'\\\\Falabella\\\\' + ruta_hd\n",
    "\n",
    "ruta_planificacion_sx = ruta_base_mkp + r'\\\\2. Operaciones\\\\6. F.com\\\\DataHD\\\\Historico Planificacion'\n",
    "ruta_ing_no_planif_sx = ruta_base_mkp + r'\\\\2. Operaciones\\\\6. F.com\\\\DataHD\\\\Historico Ingreso No Planificado'\n",
    "\n",
    "ruta_planificacion = ruta_base_hd + r'\\\\Historico Planificacion'\n",
    "ruta_ing_no_planif = ruta_base_hd + r'\\\\Historico Ingreso No Planificado'"
   ]
  },
  {
   "cell_type": "code",
   "execution_count": 4,
   "metadata": {},
   "outputs": [],
   "source": [
    "planificacion_files = glob.glob(os.path.join(ruta_planificacion, \"[0-9]*.csv\"))\n",
    "planificacion = pd.DataFrame()\n",
    "x = pd.DataFrame()\n",
    "for i in range(len(planificacion_files)):\n",
    "    x = pd.read_csv(planificacion_files[i], sep=\",\", encoding='latin-1', dtype={'rastreo': str})\n",
    "    planificacion = pd.concat([planificacion,x], axis=0)\n",
    "\n",
    "ing_no_planif_files = glob.glob(os.path.join(ruta_ing_no_planif, \"[0-9]*.csv\"))\n",
    "ing_no_planif = pd.DataFrame()\n",
    "x = pd.DataFrame()\n",
    "for i in range(len(ing_no_planif_files)):\n",
    "    x = pd.read_csv(ing_no_planif_files[i], sep=\",\", encoding='latin-1', dtype={'Rastreo': str})\n",
    "    ing_no_planif = pd.concat([ing_no_planif,x], axis=0)"
   ]
  },
  {
   "cell_type": "code",
   "execution_count": 5,
   "metadata": {},
   "outputs": [],
   "source": [
    "planificacion = (\n",
    "    planificacion\n",
    "    .drop(['supplier_name','supplier_id','ruc'], axis=1)\n",
    "    .assign(**{\n",
    "        'Fecha Planificación': lambda x: pd.to_datetime(x['Fecha Planificación'], infer_datetime_format=True, errors='coerce').dt.date,\n",
    "        'rastreo': lambda x: x['rastreo'].astype(str).str.replace('(\\.0$)', ''),\n",
    "        })\n",
    "    .sort_values(['Fecha Planificación'])\n",
    ")\n",
    "\n",
    "ing_no_planif = (\n",
    "    ing_no_planif\n",
    "    .assign(Rastreo=lambda df: df['Rastreo'].apply(lambda x: f\"{x:.0f}\" if isinstance(x, float) else str(x)))\n",
    "    .assign(**{\n",
    "        'Fecha Registro': lambda x: pd.to_datetime(x['Fecha Registro'], infer_datetime_format=True, errors='coerce').dt.date,\n",
    "        'Rastreo': lambda x: x['Rastreo'].astype(str).str.replace('(\\.0$)', ''),\n",
    "        })\n",
    "    .sort_values(['Fecha Registro'])\n",
    ")"
   ]
  },
  {
   "cell_type": "code",
   "execution_count": 11,
   "metadata": {},
   "outputs": [],
   "source": [
    "enero = planificacion[\n",
    "            (planificacion['Fecha Planificación']>=pd.to_datetime('2024-01-01').date()) & (planificacion['Fecha Planificación']<pd.to_datetime('2024-02-01').date()) \n",
    "        ]\n",
    "\n",
    "febrero = planificacion[\n",
    "            (planificacion['Fecha Planificación']>=pd.to_datetime('2024-02-01').date()) & (planificacion['Fecha Planificación']<pd.to_datetime('2024-03-01').date()) \n",
    "        ]\n",
    "\n",
    "marzo = planificacion[\n",
    "            (planificacion['Fecha Planificación']>=pd.to_datetime('2024-03-01').date()) & (planificacion['Fecha Planificación']<pd.to_datetime('2024-04-01').date()) \n",
    "        ]\n",
    "\n",
    "abril = planificacion[\n",
    "            (planificacion['Fecha Planificación']>=pd.to_datetime('2024-04-01').date()) & (planificacion['Fecha Planificación']<pd.to_datetime('2024-05-01').date()) \n",
    "        ]\n",
    "\n",
    "mayo = planificacion[\n",
    "            (planificacion['Fecha Planificación']>=pd.to_datetime('2024-05-01').date()) & (planificacion['Fecha Planificación']<pd.to_datetime('2024-06-01').date()) \n",
    "        ]\n",
    "\n",
    "junio = planificacion[\n",
    "            (planificacion['Fecha Planificación']>=pd.to_datetime('2024-06-01').date()) & (planificacion['Fecha Planificación']<pd.to_datetime('2024-07-01').date()) \n",
    "        ]"
   ]
  },
  {
   "cell_type": "code",
   "execution_count": 12,
   "metadata": {},
   "outputs": [],
   "source": [
    "enero.to_parquet(os.path.join(ruta_planificacion_sx,'2024_01.parquet'), index=False)\n",
    "febrero.to_parquet(os.path.join(ruta_planificacion_sx,'2024_02.parquet'), index=False)\n",
    "marzo.to_parquet(os.path.join(ruta_planificacion_sx,'2024_03.parquet'), index=False)\n",
    "abril.to_parquet(os.path.join(ruta_planificacion_sx,'2024_04.parquet'), index=False)\n",
    "mayo.to_parquet(os.path.join(ruta_planificacion_sx,'2024_05.parquet'), index=False)\n",
    "junio.to_parquet(os.path.join(ruta_planificacion_sx,'2024_06.parquet'), index=False)"
   ]
  },
  {
   "cell_type": "code",
   "execution_count": 8,
   "metadata": {},
   "outputs": [],
   "source": [
    "enero = ing_no_planif[\n",
    "            (ing_no_planif['Fecha Registro']>=pd.to_datetime('2024-01-01').date()) & (ing_no_planif['Fecha Registro']<pd.to_datetime('2024-02-01').date()) \n",
    "        ]\n",
    "\n",
    "febrero = ing_no_planif[\n",
    "            (ing_no_planif['Fecha Registro']>=pd.to_datetime('2024-02-01').date()) & (ing_no_planif['Fecha Registro']<pd.to_datetime('2024-03-01').date()) \n",
    "        ]\n",
    "\n",
    "marzo = ing_no_planif[\n",
    "            (ing_no_planif['Fecha Registro']>=pd.to_datetime('2024-03-01').date()) & (ing_no_planif['Fecha Registro']<pd.to_datetime('2024-04-01').date()) \n",
    "        ]\n",
    "\n",
    "abril = ing_no_planif[\n",
    "            (ing_no_planif['Fecha Registro']>=pd.to_datetime('2024-04-01').date()) & (ing_no_planif['Fecha Registro']<pd.to_datetime('2024-05-01').date()) \n",
    "        ]\n",
    "\n",
    "mayo = ing_no_planif[\n",
    "            (ing_no_planif['Fecha Registro']>=pd.to_datetime('2024-05-01').date()) & (ing_no_planif['Fecha Registro']<pd.to_datetime('2024-06-01').date()) \n",
    "        ]\n",
    "\n",
    "junio = ing_no_planif[\n",
    "            (ing_no_planif['Fecha Registro']>=pd.to_datetime('2024-06-01').date()) & (ing_no_planif['Fecha Registro']<pd.to_datetime('2024-07-01').date()) \n",
    "        ]"
   ]
  },
  {
   "cell_type": "code",
   "execution_count": 9,
   "metadata": {},
   "outputs": [],
   "source": [
    "enero.to_parquet(os.path.join(ruta_ing_no_planif_sx,'2024_01.parquet'), index=False)\n",
    "febrero.to_parquet(os.path.join(ruta_ing_no_planif_sx,'2024_02.parquet'), index=False)\n",
    "marzo.to_parquet(os.path.join(ruta_ing_no_planif_sx,'2024_03.parquet'), index=False)\n",
    "abril.to_parquet(os.path.join(ruta_ing_no_planif_sx,'2024_04.parquet'), index=False)\n",
    "mayo.to_parquet(os.path.join(ruta_ing_no_planif_sx,'2024_05.parquet'), index=False)\n",
    "junio.to_parquet(os.path.join(ruta_ing_no_planif_sx,'2024_06.parquet'), index=False)"
   ]
  },
  {
   "cell_type": "code",
   "execution_count": 10,
   "metadata": {},
   "outputs": [],
   "source": [
    "enero = planificacion[\n",
    "            (planificacion['Fecha Planificación']>=pd.to_datetime('2024-01-01').date()) & (planificacion['Fecha Planificación']<pd.to_datetime('2024-02-01').date()) \n",
    "        ]\n",
    "\n",
    "febrero = planificacion[\n",
    "            (planificacion['Fecha Planificación']>=pd.to_datetime('2024-02-01').date()) & (planificacion['Fecha Planificación']<pd.to_datetime('2024-03-01').date()) \n",
    "        ]\n",
    "\n",
    "marzo = planificacion[\n",
    "            (planificacion['Fecha Planificación']>=pd.to_datetime('2024-03-01').date()) & (planificacion['Fecha Planificación']<pd.to_datetime('2024-04-01').date()) \n",
    "        ]\n",
    "\n",
    "abril = planificacion[\n",
    "            (planificacion['Fecha Planificación']>=pd.to_datetime('2024-04-01').date()) & (planificacion['Fecha Planificación']<pd.to_datetime('2024-05-01').date()) \n",
    "        ]\n",
    "\n",
    "mayo = planificacion[\n",
    "            (planificacion['Fecha Planificación']>=pd.to_datetime('2024-05-01').date()) & (planificacion['Fecha Planificación']<pd.to_datetime('2024-06-01').date()) \n",
    "        ]\n",
    "\n",
    "junio = planificacion[\n",
    "            (planificacion['Fecha Planificación']>=pd.to_datetime('2024-06-01').date()) & (planificacion['Fecha Planificación']<pd.to_datetime('2024-07-01').date()) \n",
    "        ]"
   ]
  }
 ],
 "metadata": {
  "kernelspec": {
   "display_name": "Python 3",
   "language": "python",
   "name": "python3"
  },
  "language_info": {
   "codemirror_mode": {
    "name": "ipython",
    "version": 3
   },
   "file_extension": ".py",
   "mimetype": "text/x-python",
   "name": "python",
   "nbconvert_exporter": "python",
   "pygments_lexer": "ipython3",
   "version": "3.9.5"
  }
 },
 "nbformat": 4,
 "nbformat_minor": 2
}
