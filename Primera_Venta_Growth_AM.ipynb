{
 "cells": [
  {
   "cell_type": "markdown",
   "metadata": {},
   "source": [
    "# LIBRERIAS"
   ]
  },
  {
   "cell_type": "code",
   "execution_count": 8,
   "metadata": {},
   "outputs": [],
   "source": [
    "import pandas as pd\n",
    "from google.cloud import bigquery\n",
    "import pywhatkit\n",
    "import time\n",
    "import pyautogui\n",
    "import time\n",
    "from datetime import datetime, timedelta"
   ]
  },
  {
   "cell_type": "markdown",
   "metadata": {},
   "source": [
    "# EXTRAYENDO DATA DE BIG QUERY Y CONVIRTIENDOLO EN DF"
   ]
  },
  {
   "cell_type": "code",
   "execution_count": 9,
   "metadata": {},
   "outputs": [],
   "source": [
    "# Conexión Google Cloud SDK\n",
    "# https://cloud.google.com/appengine/docs/standard/setting-up-environment?tab=python&hl=es-419\n",
    "\n",
    "# Ejecutar lo siguiente en Powershell\n",
    "## (New-Object Net.WebClient).DownloadFile(\"https://dl.google.com/dl/cloudsdk/channels/rapid/GoogleCloudSDKInstaller.exe\", \"$env:Temp\\GoogleCloudSDKInstaller.exe\") & $env:Temp\\GoogleCloudSDKInstaller.exe\n",
    "## gcloud auth application-default login"
   ]
  },
  {
   "cell_type": "code",
   "execution_count": 10,
   "metadata": {},
   "outputs": [
    {
     "name": "stderr",
     "output_type": "stream",
     "text": [
      "c:\\Users\\jalopezz\\AppData\\Local\\Programs\\Python\\Python311\\Lib\\site-packages\\google\\auth\\_default.py:78: UserWarning: Your application has authenticated using end user credentials from Google Cloud SDK without a quota project. You might receive a \"quota exceeded\" or \"API not enabled\" error. See the following page for troubleshooting: https://cloud.google.com/docs/authentication/adc-troubleshooting/user-creds. \n",
      "  warnings.warn(_CLOUD_SDK_CREDENTIALS_WARNING)\n"
     ]
    },
    {
     "name": "stdout",
     "output_type": "stream",
     "text": [
      "      src_id                        name    order_nr  \\\n",
      "0    SC71F50                DURANGO PERU  2177140044   \n",
      "1    SC75600                 SANDDER TNT  2176225222   \n",
      "2    SCC0AED            TUTTO COLLECTION  2174514253   \n",
      "3    SC1E35A  ONLINE DISTRIBUTIONS PERU.  2177169166   \n",
      "4    SC65C6E               JolkShop Peru  2175353098   \n",
      "..       ...                         ...         ...   \n",
      "112  SCD3FFE              MUEBLES WALTER  2178887479   \n",
      "113  SC06F60   importaciones tukuy rikuy  2174828244   \n",
      "114  SC634B5                   FullHouse  2180681239   \n",
      "115  SC69546         ACUARIUM LOS OLIVOS  2179077128   \n",
      "116  SC888DC                       DARNA  2175233824   \n",
      "\n",
      "    shipping_provider_product             src_status         fecha_venta  \\\n",
      "0                        ibis              delivered 2024-03-11 03:56:54   \n",
      "1                        ibis              delivered 2024-03-09 01:08:42   \n",
      "2                        ibis              delivered 2024-03-05 12:03:37   \n",
      "3                        ibis              delivered 2024-03-11 13:21:41   \n",
      "4                        ibis                shipped 2024-03-07 03:03:07   \n",
      "..                        ...                    ...                 ...   \n",
      "112                      ibis  packed_by_marketplace 2024-03-14 22:09:53   \n",
      "113                      ibis              delivered 2024-03-06 01:15:03   \n",
      "114                      ibis  packed_by_marketplace 2024-03-18 21:22:51   \n",
      "115                      ibis                shipped 2024-03-15 05:25:50   \n",
      "116                      ibis              delivered 2024-03-06 22:11:19   \n",
      "\n",
      "         target_to_ship fecha_primera_venta Telefono_Concat    origen  \\\n",
      "0   2024-03-12 23:30:00 2024-03-11 03:56:54    +51964514290  nacional   \n",
      "1   2024-03-12 23:30:00 2024-03-09 01:08:42    +51952464866  nacional   \n",
      "2   2024-03-06 23:30:00 2024-03-05 12:03:37    +51994678941  nacional   \n",
      "3   2024-03-13 23:30:00 2024-03-11 13:21:42    +51964727232  nacional   \n",
      "4   2024-03-08 23:30:00 2024-03-07 03:03:07    +51991104599  nacional   \n",
      "..                  ...                 ...             ...       ...   \n",
      "112 2024-03-26 23:30:00 2024-03-14 22:09:53    +51978124274  nacional   \n",
      "113 2024-03-07 23:30:00 2024-02-10 03:06:16    +51980787958  nacional   \n",
      "114 2024-04-01 23:30:00 2024-03-18 21:22:52    +51958954852  nacional   \n",
      "115 2024-03-18 23:30:00 2024-03-15 05:25:50    +51949076613  nacional   \n",
      "116 2024-03-07 23:30:00 2024-03-06 22:11:20    +51926192519  nacional   \n",
      "\n",
      "    account_status  \n",
      "0           Activo  \n",
      "1           Activo  \n",
      "2           Activo  \n",
      "3           Activo  \n",
      "4           Activo  \n",
      "..             ...  \n",
      "112         Activo  \n",
      "113         Activo  \n",
      "114         Activo  \n",
      "115         Activo  \n",
      "116         Activo  \n",
      "\n",
      "[117 rows x 11 columns]\n"
     ]
    }
   ],
   "source": [
    "# Especifica el ID del proyecto de Google Cloud\n",
    "project_id = 'bi-fcom-drmb-local-pe-sbx'\n",
    "\n",
    "# Crea una instancia del cliente de BigQuery con el ID del proyecto especificado\n",
    "client = bigquery.Client(project=project_id)\n",
    "\n",
    "# ID del conjunto de datos que contiene la tabla\n",
    "dataset_id = 'Snorlax_SellerJourney'\n",
    "\n",
    "# Nombre de la tabla a la que deseas acceder\n",
    "table_id = 'sellers_registered_ventas'\n",
    "\n",
    "# Consulta SQL para obtener datos de la tabla\n",
    "query = f\"\"\"\n",
    "SELECT\n",
    "  src_id,\n",
    "  name,\n",
    "  order_nr,\n",
    "  shipping_provider_product,\n",
    "  src_status,\n",
    "  fecha_venta,\n",
    "  target_to_ship,\n",
    "  fecha_primera_venta,\n",
    "  CONCAT('+51', Telefono) AS Telefono_Concat,\n",
    "  origen,\n",
    "  account_status\n",
    "FROM (\n",
    "  SELECT\n",
    "    *\n",
    "  FROM (\n",
    "    SELECT\n",
    "      *,\n",
    "      ROW_NUMBER() OVER (PARTITION BY src_id ORDER BY fecha_venta ASC ) AS tt\n",
    "    FROM (\n",
    "      SELECT\n",
    "        *\n",
    "      FROM\n",
    "        `bi-fcom-drmb-local-pe-sbx.Snorlax_SellerJourney.sellers_registered_ventas`\n",
    "      WHERE\n",
    "        src_status NOT IN( 'canceled',\n",
    "          'return_shipped_by_customer',\n",
    "          'failed_delivery',\n",
    "          'return_waiting_for_approval',\n",
    "          'return_rejected',\n",
    "          'returned')))\n",
    "  WHERE\n",
    "    tt = 1)\n",
    "WHERE\n",
    "  fecha_venta BETWEEN '2024-03-05'AND '2024-03-31'\n",
    "  AND origen ='nacional'\n",
    "  AND account_status = 'Activo'\n",
    "\"\"\"\n",
    "\n",
    "# Ejecutar la consulta y obtener los resultados\n",
    "query_job = client.query(query)\n",
    "# Convertir los resultados a un DataFrame\n",
    "df = query_job.to_dataframe()\n",
    "print(df)"
   ]
  },
  {
   "cell_type": "markdown",
   "metadata": {},
   "source": [
    "# DEFINIENDO EL DATA FRAME Y CAMPO FECHA_VENTA"
   ]
  },
  {
   "cell_type": "code",
   "execution_count": 11,
   "metadata": {},
   "outputs": [],
   "source": [
    "# Crear DataFrame y especificar que columnas con tipo str\n",
    "info_data = pd.DataFrame(df, columns=[\"src_id\",\"name\", \"order_nr\", \"shipping_provider_product\", \"src_status\", \"fecha_venta\",\"target_to_ship\",\"fecha_primera_venta\",\"Telefono_Concat\"], dtype=str)\n",
    "# Convertir fechas en formato de cadena a objetos datetime\n",
    "info_data['fecha_venta'] = pd.to_datetime(info_data['fecha_venta'])"
   ]
  },
  {
   "cell_type": "markdown",
   "metadata": {},
   "source": [
    "# DEFINIENDO PARAMETROS DE DÍAS Y HORAS"
   ]
  },
  {
   "cell_type": "code",
   "execution_count": 12,
   "metadata": {},
   "outputs": [],
   "source": [
    "# Obtener la fecha de hoy y ayer\n",
    "hoy = datetime.today().date()\n",
    "ayer = hoy - timedelta(days=1)\n",
    "\n",
    "# Establecer las horas límite para los envíos\n",
    "if hoy.weekday() != 0:  # Si no es lunes\n",
    "    hora_limite_am_inicio = ayer.strftime('%Y-%m-%d') + \" 18:00:00\"  # 6 PM de ayer\n",
    "    hora_limite_am_fin = hoy.strftime('%Y-%m-%d') + \" 08:00:00\"       # 8 AM de hoy\n",
    "else:  # Si es lunes\n",
    "    viernes_pasado = hoy - timedelta(days=(hoy.weekday() + 3) % 7)  # Obtener el viernes pasado\n",
    "    hora_limite_am_inicio = viernes_pasado.strftime('%Y-%m-%d') + \" 18:00:00\"  # 6 PM del viernes pasado\n",
    "    hora_limite_am_fin = hoy.strftime('%Y-%m-%d') + \" 08:00:00\"                 # 8 AM de hoy\n",
    "\n",
    "# Convertir fechas en formato de cadena a objetos datetime\n",
    "info_data['fecha_venta'] = pd.to_datetime(info_data['fecha_venta'])"
   ]
  },
  {
   "cell_type": "markdown",
   "metadata": {},
   "source": [
    "# CONDICIONALES "
   ]
  },
  {
   "cell_type": "code",
   "execution_count": 13,
   "metadata": {},
   "outputs": [
    {
     "name": "stdout",
     "output_type": "stream",
     "text": [
      "      src_id                           name    order_nr  \\\n",
      "19   SC5CFFD  INVERSIONES ALDOS PERU S.A.C.  2180727787   \n",
      "25   SC1FCA5                       HAPPYPEE  2180645640   \n",
      "36   SC77FAC                    Merary Perú  2180688365   \n",
      "38   SC81A70                        MAHATMA  2180735506   \n",
      "59   SC14EA3                         Bhamzz  2180639100   \n",
      "67   SCA543E                INTERIORES PERU  2180826664   \n",
      "85   SCCB615                   LuiNet Store  2180797994   \n",
      "91   SCAF2F9                    JM PROJECTS  2180828819   \n",
      "107  SC12FF3                      Xclusive.  2180780157   \n",
      "114  SC634B5                      FullHouse  2180681239   \n",
      "\n",
      "    shipping_provider_product             src_status         fecha_venta  \\\n",
      "19                       ibis  packed_by_marketplace 2024-03-18 23:30:34   \n",
      "25                       ibis                shipped 2024-03-18 19:49:13   \n",
      "36                       ibis          ready_to_ship 2024-03-18 21:41:12   \n",
      "38                       ibis  packed_by_marketplace 2024-03-18 23:49:58   \n",
      "59                       ibis  packed_by_marketplace 2024-03-18 19:29:43   \n",
      "67                       ibis  packed_by_marketplace 2024-03-19 03:30:04   \n",
      "85                       ibis  packed_by_marketplace 2024-03-19 02:26:42   \n",
      "91                       ibis          ready_to_ship 2024-03-19 03:35:16   \n",
      "107                      ibis              delivered 2024-03-19 01:41:27   \n",
      "114                      ibis  packed_by_marketplace 2024-03-18 21:22:51   \n",
      "\n",
      "          target_to_ship  fecha_primera_venta Telefono_Concat  \n",
      "19   2024-03-20 23:30:00  2023-10-13 14:30:55    +51984359314  \n",
      "25   2024-03-19 23:30:00  2024-03-18 19:49:14    +51955856505  \n",
      "36   2024-03-20 23:30:00  2024-03-18 21:41:13    +51982061588  \n",
      "38   2024-03-20 23:30:00  2024-03-18 23:49:58    +51976369968  \n",
      "59   2024-03-19 23:30:00  2024-03-18 19:29:44    +51995112537  \n",
      "67   2024-03-20 23:30:00  2024-03-19 03:30:04    +51962297566  \n",
      "85   2024-03-20 23:30:00  2024-03-05 04:11:05    +51981454078  \n",
      "91   2024-03-20 23:30:00  2024-03-19 03:35:17    +51987753085  \n",
      "107  2024-03-19 01:30:00  2024-03-19 01:41:27    +51902552038  \n",
      "114  2024-04-01 23:30:00  2024-03-18 21:22:52    +51958954852  \n"
     ]
    }
   ],
   "source": [
    "# Filtrar las órdenes para el envío por la mañana\n",
    "info_data_primera_venta_envioam = info_data[\n",
    "    ((info_data['fecha_venta'] >= pd.to_datetime(hora_limite_am_inicio)) &\n",
    "    (info_data['fecha_venta'] < pd.to_datetime(hora_limite_am_fin)))\n",
    "]\n",
    "\n",
    "\n",
    "print (info_data_primera_venta_envioam)"
   ]
  },
  {
   "cell_type": "markdown",
   "metadata": {},
   "source": [
    "# ENVIO WHATS APP"
   ]
  },
  {
   "cell_type": "code",
   "execution_count": 14,
   "metadata": {},
   "outputs": [
    {
     "ename": "KeyboardInterrupt",
     "evalue": "",
     "output_type": "error",
     "traceback": [
      "\u001b[1;31m---------------------------------------------------------------------------\u001b[0m",
      "\u001b[1;31mKeyboardInterrupt\u001b[0m                         Traceback (most recent call last)",
      "Cell \u001b[1;32mIn[14], line 44\u001b[0m\n\u001b[0;32m     39\u001b[0m whatsapp_message \u001b[38;5;241m=\u001b[39m mensaje_whatsapp_am\u001b[38;5;241m.\u001b[39mformat(\n\u001b[0;32m     40\u001b[0m                 Seller\u001b[38;5;241m=\u001b[39mdf_seller[\u001b[38;5;124m\"\u001b[39m\u001b[38;5;124mname\u001b[39m\u001b[38;5;124m\"\u001b[39m]\u001b[38;5;241m.\u001b[39miloc[\u001b[38;5;241m0\u001b[39m],\n\u001b[0;32m     41\u001b[0m                 fecha_límite\u001b[38;5;241m=\u001b[39mdf_seller[\u001b[38;5;124m\"\u001b[39m\u001b[38;5;124mtarget_to_ship\u001b[39m\u001b[38;5;124m\"\u001b[39m]\u001b[38;5;241m.\u001b[39miloc[\u001b[38;5;241m0\u001b[39m],                    \n\u001b[0;32m     42\u001b[0m         )\n\u001b[0;32m     43\u001b[0m \u001b[38;5;66;03m#Enviar el mensaje de WhatsApp\u001b[39;00m\n\u001b[1;32m---> 44\u001b[0m \u001b[43mpywhatkit\u001b[49m\u001b[38;5;241;43m.\u001b[39;49m\u001b[43msendwhatmsg_instantly\u001b[49m\u001b[43m(\u001b[49m\u001b[43mNumero\u001b[49m\u001b[43m,\u001b[49m\u001b[43m \u001b[49m\u001b[43mwhatsapp_message\u001b[49m\u001b[43m)\u001b[49m\n\u001b[0;32m     45\u001b[0m time\u001b[38;5;241m.\u001b[39msleep(\u001b[38;5;241m10\u001b[39m)    \n",
      "File \u001b[1;32mc:\\Users\\jalopezz\\AppData\\Local\\Programs\\Python\\Python311\\Lib\\site-packages\\pywhatkit\\whats.py:31\u001b[0m, in \u001b[0;36msendwhatmsg_instantly\u001b[1;34m(phone_no, message, wait_time, tab_close, close_time)\u001b[0m\n\u001b[0;32m     29\u001b[0m time\u001b[38;5;241m.\u001b[39msleep(\u001b[38;5;241m4\u001b[39m)\n\u001b[0;32m     30\u001b[0m pg\u001b[38;5;241m.\u001b[39mclick(core\u001b[38;5;241m.\u001b[39mWIDTH \u001b[38;5;241m/\u001b[39m \u001b[38;5;241m2\u001b[39m, core\u001b[38;5;241m.\u001b[39mHEIGHT \u001b[38;5;241m/\u001b[39m \u001b[38;5;241m2\u001b[39m)\n\u001b[1;32m---> 31\u001b[0m \u001b[43mtime\u001b[49m\u001b[38;5;241;43m.\u001b[39;49m\u001b[43msleep\u001b[49m\u001b[43m(\u001b[49m\u001b[43mwait_time\u001b[49m\u001b[43m \u001b[49m\u001b[38;5;241;43m-\u001b[39;49m\u001b[43m \u001b[49m\u001b[38;5;241;43m4\u001b[39;49m\u001b[43m)\u001b[49m\n\u001b[0;32m     32\u001b[0m pg\u001b[38;5;241m.\u001b[39mpress(\u001b[38;5;124m\"\u001b[39m\u001b[38;5;124menter\u001b[39m\u001b[38;5;124m\"\u001b[39m)\n\u001b[0;32m     33\u001b[0m log\u001b[38;5;241m.\u001b[39mlog_message(_time\u001b[38;5;241m=\u001b[39mtime\u001b[38;5;241m.\u001b[39mlocaltime(), receiver\u001b[38;5;241m=\u001b[39mphone_no, message\u001b[38;5;241m=\u001b[39mmessage)\n",
      "\u001b[1;31mKeyboardInterrupt\u001b[0m: "
     ]
    }
   ],
   "source": [
    "mensaje_whatsapp_am = \"\"\"\n",
    "¡Hola! *{Seller}* has recibido una venta 🎉 Queremos reforzar contigo el proceso para gestionarla:      \n",
    " \n",
    "Tutorial despacho: https://youtu.be/lpk1_y9uYDg   \n",
    "    \n",
    "_*Instrucciones:*_  \n",
    " \n",
    "Revisa tus órdenes aquí: https://sellercenter.falabella.com/order    \n",
    " \n",
    "📦 Para gestionar tu pedido debes:      \n",
    " \n",
    "1- Imprimir la *etiqueta* que pegarás al exterior de tu empaque. Se visualiza al lado izquierdo como *Label*. \n",
    "   \n",
    "2- Hacer clic en *Listo para despachar* - máximo un día antes de la fecha límite (antes de las 8:00PM).   \n",
    "   \n",
    "3- El *{fecha_límite}* recolectaremos las órdenes en tu almacén 🤝  \n",
    " \n",
    "🚨 Recuerda que:  \n",
    " \n",
    "1- El horario de recolección es entre *8:00 a 17:00 hrs*. El transporte te llamará al llegar (espera: 10 minutos) \n",
    " \n",
    "2- Emitir la *boleta electrónica* en SUNAT por el \"Gran total\" y adjuntarla en Ordenes - Documentos Tributarios.\n",
    " \n",
    "3- Instructivo de embalaje y etiquetado: https://www.falabellasellers.com/embalaje-y-etiquetado \n",
    " \n",
    "*4- Siempre enviamos las alertas de pedidos por correo, remitente: noreply@mail.sellercenter.falabella.com*\n",
    "\"\"\"\n",
    "\n",
    "\n",
    "\n",
    "for seller in info_data_primera_venta_envioam['src_id'].unique():\n",
    "    # Filtrar el DataFrame para la tienda actual\n",
    "    df_seller = info_data_primera_venta_envioam[info_data_primera_venta_envioam['src_id'] == seller]\n",
    "    \n",
    "    \n",
    "    Numero = df_seller['Telefono_Concat'].iloc[0]\n",
    "    \n",
    "    \n",
    "    whatsapp_message = mensaje_whatsapp_am.format(\n",
    "                    Seller=df_seller[\"name\"].iloc[0],\n",
    "                    fecha_límite=df_seller[\"target_to_ship\"].iloc[0],                    \n",
    "            )\n",
    "    #Enviar el mensaje de WhatsApp\n",
    "    pywhatkit.sendwhatmsg_instantly(Numero, whatsapp_message)\n",
    "    time.sleep(10)    "
   ]
  }
 ],
 "metadata": {
  "kernelspec": {
   "display_name": "Python 3",
   "language": "python",
   "name": "python3"
  },
  "language_info": {
   "codemirror_mode": {
    "name": "ipython",
    "version": 3
   },
   "file_extension": ".py",
   "mimetype": "text/x-python",
   "name": "python",
   "nbconvert_exporter": "python",
   "pygments_lexer": "ipython3",
   "version": "3.11.4"
  }
 },
 "nbformat": 4,
 "nbformat_minor": 2
}
