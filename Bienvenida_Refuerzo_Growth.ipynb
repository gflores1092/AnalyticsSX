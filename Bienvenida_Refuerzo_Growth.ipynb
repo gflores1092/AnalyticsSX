{
 "cells": [
  {
   "cell_type": "markdown",
   "metadata": {},
   "source": [
    "# LIBRERIAS"
   ]
  },
  {
   "cell_type": "code",
   "execution_count": 3,
   "metadata": {},
   "outputs": [],
   "source": [
    "import pandas as pd\n",
    "from google.cloud import bigquery\n",
    "import pywhatkit\n",
    "import time\n",
    "import pyautogui\n",
    "import time\n",
    "import threading\n",
    "from datetime import datetime, timedelta"
   ]
  },
  {
   "cell_type": "markdown",
   "metadata": {},
   "source": [
    "# BIG QUERY"
   ]
  },
  {
   "cell_type": "code",
   "execution_count": null,
   "metadata": {},
   "outputs": [],
   "source": [
    "# Conexión Google Cloud SDK\n",
    "# https://cloud.google.com/appengine/docs/standard/setting-up-environment?tab=python&hl=es-419\n",
    "\n",
    "# Ejecutar lo siguiente en Powershell\n",
    "## (New-Object Net.WebClient).DownloadFile(\"https://dl.google.com/dl/cloudsdk/channels/rapid/GoogleCloudSDKInstaller.exe\", \"$env:Temp\\GoogleCloudSDKInstaller.exe\") & $env:Temp\\GoogleCloudSDKInstaller.exe\n",
    "## gcloud auth application-default login"
   ]
  },
  {
   "cell_type": "code",
   "execution_count": 4,
   "metadata": {},
   "outputs": [
    {
     "name": "stderr",
     "output_type": "stream",
     "text": [
      "c:\\Users\\jalopezz\\AppData\\Local\\Programs\\Python\\Python311\\Lib\\site-packages\\google\\auth\\_default.py:78: UserWarning: Your application has authenticated using end user credentials from Google Cloud SDK without a quota project. You might receive a \"quota exceeded\" or \"API not enabled\" error. See the following page for troubleshooting: https://cloud.google.com/docs/authentication/adc-troubleshooting/user-creds. \n",
      "  warnings.warn(_CLOUD_SDK_CREDENTIALS_WARNING)\n"
     ]
    },
    {
     "name": "stdout",
     "output_type": "stream",
     "text": [
      "      fecha_creacion Telefono_Concat  Activos   src_id                  name  \\\n",
      "0         2022-09-26    +51940163325       72  SC382A6             DATO S.A.   \n",
      "1         2024-01-26    +51933350638     1291  SCCBAAA             Modelarq.   \n",
      "2         2023-04-25    +51994134666      156  SCB4AC8  TIENDA OFICIAL BOSCH   \n",
      "3         2023-01-18    +51950746561       30  SCB2B9D   CROSLAND AUTOMOTRIZ   \n",
      "4         2023-09-20    +51914909019      263  SCC9A55        AION HOME PERU   \n",
      "...              ...             ...      ...      ...                   ...   \n",
      "10018     2022-09-21    +51969959450       29  SC81941               Evaflex   \n",
      "10019     2023-11-30    +51960241218       29  SC2B98C            SuperVenta   \n",
      "10020     2022-11-15    +51987806150       29  SC957F6   Lomo Plateado Store   \n",
      "10021     2023-11-06    +51940624134       29  SC00526    LA TABERNA DE BACO   \n",
      "10022     2023-09-14    +51981071976       29  SC7DD9D                   KYM   \n",
      "\n",
      "                                     correo_seller    origen account_status  \n",
      "0                        luisleon@datosoftware.com  nacional         Activo  \n",
      "1      corporativo.contihogar@hogaryspacios.com.pe  nacional         Activo  \n",
      "2                      waldir.pereyra-ext@bshg.com  nacional         Activo  \n",
      "3             atencioncomercial_2R@crosland.com.pe  nacional         Activo  \n",
      "4                            eduaragon27@gmail.com  nacional         Activo  \n",
      "...                                            ...       ...            ...  \n",
      "10018                   socialmedia@evaflex.com.pe  nacional         Activo  \n",
      "10019                    superventabruno@gmail.com  nacional         Activo  \n",
      "10020                  lomoplateadostore@gmail.com  nacional         Activo  \n",
      "10021                       carla06salas@gmail.com  nacional         Activo  \n",
      "10022                        kymperuinfo@gmail.com  nacional         Activo  \n",
      "\n",
      "[10023 rows x 8 columns]\n"
     ]
    }
   ],
   "source": [
    "# Especifica el ID del proyecto de Google Cloud\n",
    "project_id = 'bi-fcom-drmb-local-pe-sbx'\n",
    "\n",
    "# Crea una instancia del cliente de BigQuery con el ID del proyecto especificado\n",
    "client = bigquery.Client(project=project_id)\n",
    "\n",
    "# ID del conjunto de datos que contiene la tabla\n",
    "dataset_id = 'Snorlax_SellerJourney'\n",
    "\n",
    "# Nombre de la tabla a la que deseas acceder\n",
    "table_id = 'sellers_registered'\n",
    "\n",
    "# Consulta SQL para obtener datos de la tabla\n",
    "query = f\"\"\"\n",
    "        SELECT DATE(created_at) AS fecha_creacion,CONCAT('+51', Telefono) AS Telefono_Concat, Activos,src_id, name, correo_seller,origen,account_status,\n",
    "        FROM `{project_id}.{dataset_id}.{table_id}`\n",
    "        WHERE account_status ='Activo'\n",
    "        AND origen ='nacional'\n",
    "\"\"\"\n",
    "\n",
    "# Ejecutar la consulta y obtener los resultados\n",
    "query_job = client.query(query)\n",
    "    \n",
    "# Convertir los resultados a un DataFrame\n",
    "df = query_job.to_dataframe()\n",
    "\n",
    "# Mostrar el DataFrame\n",
    "print(df)"
   ]
  },
  {
   "cell_type": "markdown",
   "metadata": {},
   "source": [
    "# VARIABLE DE DÍAS"
   ]
  },
  {
   "cell_type": "code",
   "execution_count": null,
   "metadata": {},
   "outputs": [],
   "source": [
    "# Obtener la fecha de ayer, antes de ayer y antes pasado ayer\n",
    "ayer = datetime.today().date() - timedelta(days=1)\n",
    "ayer_str = ayer.strftime('%Y-%m-%d')\n",
    "\n",
    "antes_de_ayer = ayer - timedelta(days=1)\n",
    "antes_de_ayer_str = antes_de_ayer.strftime('%Y-%m-%d')\n",
    "\n",
    "antes_antes_de_ayer = antes_de_ayer - timedelta(days=1)\n",
    "antes_antes_de_ayer_str = antes_antes_de_ayer.strftime('%Y-%m-%d')"
   ]
  },
  {
   "cell_type": "markdown",
   "metadata": {},
   "source": [
    "# CONDICIONALES "
   ]
  },
  {
   "cell_type": "code",
   "execution_count": null,
   "metadata": {},
   "outputs": [],
   "source": [
    "# Crear DataFrame y especificar que 'Activos' y 'Telefono' son de tipo str\n",
    "info_data = pd.DataFrame(df, columns=[\"fecha_creacion\",\"Activos\", \"src_id\", \"Telefono_Concat\", \"name\", \"correo_seller\",\"origen\",\"account_status\"], dtype=str)\n",
    "\n",
    "# Filtrar el DataFrame para obtener solo las filas donde la fecha coincide con hoy\n",
    "#info_data_bienvenida = info_data[info_data['fecha_creacion'].str.slice(0, 10) == ayer_str]\n",
    "\n",
    "info_data_bienvenida = info_data[info_data['fecha_creacion'].between('2024-03-12', '2024-03-15')]\n",
    "\n",
    "# Filtrar el DataFrame para obtener solo las filas donde 'Activos' es igual a '0'\n",
    "info_data_refuerzo = info_data[(info_data['Activos'] == '0') & \n",
    "                               (info_data['fecha_creacion'].str.slice(0, 10) == antes_antes_de_ayer_str)]\n",
    "\n",
    "# Visualizar los DataFrames resultantes\n",
    "print(\"Datos de bienvenida:\")\n",
    "print(info_data_bienvenida)\n",
    "\n",
    "print(\"\\nDatos de refuerzo:\")\n",
    "print(info_data_refuerzo)"
   ]
  },
  {
   "cell_type": "markdown",
   "metadata": {},
   "source": [
    "# ENVÍO DE WHATS APP"
   ]
  },
  {
   "cell_type": "markdown",
   "metadata": {},
   "source": [
    "# 1. BIENVENIDA"
   ]
  },
  {
   "cell_type": "code",
   "execution_count": null,
   "metadata": {},
   "outputs": [],
   "source": [
    "mensaje_whatsapp_1 = \"\"\"\n",
    "Hola {Seller}, te damos la bienvenida a falabella.com 👋  \n",
    " \n",
    "Impulsa tus ventas online este Verano 2024 ¿Cómo? Publicando tu catálogo y colocando tus mejores ofertas.  \n",
    " \n",
    "👉 Manual para crear productos: https://bit.ly/productosFSC  \n",
    " \n",
    "👉 Costos y comisiones: https://bit.ly/CostosFSC  \n",
    " \n",
    "Soy Vania, si tienes alguna duda estoy para apoyarte.  \n",
    " \n",
    "🟠 Ingreso a falabella seller center: https://sellercenter.falabella.com/  \n",
    " \n",
    "_Nos encantaría conocer un poco más sobre tu negocio, confírmanos el llenado de esta encuesta por favor_\n",
    " \n",
    "Encuesta: https://forms.office.com/r/Qyqad6cgrF\"\"\"\n",
    "\n",
    "\n",
    "\n",
    "for seller in info_data_bienvenida['src_id'].unique():\n",
    "    # Filtrar el DataFrame para la tienda actual\n",
    "    df_seller = info_data_bienvenida[info_data_bienvenida['src_id'] == seller]\n",
    "    \n",
    "    Numero = df_seller['Telefono_Concat'].iloc[0]\n",
    "    \n",
    "    whatsapp_message = mensaje_whatsapp_1.format(\n",
    "                    seller=df_seller[\"name\"].iloc[0],                    \n",
    "            )\n",
    "    #Enviar el mensaje de WhatsApp\n",
    "    pywhatkit.sendwhatmsg_instantly(Numero, whatsapp_message)\n",
    "    time.sleep(10)"
   ]
  },
  {
   "cell_type": "markdown",
   "metadata": {},
   "source": [
    "# 2. REFUERZO "
   ]
  },
  {
   "cell_type": "code",
   "execution_count": null,
   "metadata": {},
   "outputs": [],
   "source": [
    "mensaje_whatsapp_1 = \"\"\"\n",
    "¡Hola {seller}! \n",
    " \n",
    "*Sabias que el 60% de clientes prefieren Retiro en tienda como medio de entrega* 📦 \n",
    "  \n",
    "Publica tu catálogo y activaremos esta opción para tu cuenta 🤩 \n",
    "  \n",
    "👉 Tutorial para crear productos: https://bit.ly/Tutoriales-FalabellaSellers \n",
    "  \n",
    "Soy Diego, si tienes alguna consulta no dudes en escribirme.  \n",
    "  \n",
    "🟠 Ingreso a falabella seller center: https://sellercenter.falabella.com/   \n",
    "\"\"\"\n",
    "\n",
    "\n",
    "\n",
    "for seller in info_data_refuerzo['src_id'].unique():\n",
    "    # Filtrar el DataFrame para la tienda actual\n",
    "    df_seller_1 = info_data_refuerzo[info_data_refuerzo['src_id'] == seller]\n",
    "    \n",
    "    Numero = df_seller_1['Telefono_Concat'].iloc[0]\n",
    "    \n",
    "    whatsapp_message = mensaje_whatsapp_1.format(\n",
    "                    seller=df_seller_1[\"name\"].iloc[0],                    \n",
    "            )\n",
    "    #Enviar el mensaje de WhatsApp\n",
    "    pywhatkit.sendwhatmsg_instantly(Numero, whatsapp_message)\n",
    "    time.sleep(10)   "
   ]
  }
 ],
 "metadata": {
  "kernelspec": {
   "display_name": "Python 3",
   "language": "python",
   "name": "python3"
  },
  "language_info": {
   "codemirror_mode": {
    "name": "ipython",
    "version": 3
   },
   "file_extension": ".py",
   "mimetype": "text/x-python",
   "name": "python",
   "nbconvert_exporter": "python",
   "pygments_lexer": "ipython3",
   "version": "3.11.4"
  }
 },
 "nbformat": 4,
 "nbformat_minor": 2
}
