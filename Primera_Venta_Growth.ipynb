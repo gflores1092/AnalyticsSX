{
 "cells": [
  {
   "cell_type": "markdown",
   "metadata": {},
   "source": [
    "# LIBRERIAS"
   ]
  },
  {
   "cell_type": "code",
   "execution_count": null,
   "metadata": {},
   "outputs": [],
   "source": [
    "import pandas as pd\n",
    "from google.cloud import bigquery\n",
    "import pywhatkit\n",
    "import time\n",
    "import pyautogui\n",
    "import time\n",
    "from datetime import datetime, timedelta"
   ]
  },
  {
   "cell_type": "markdown",
   "metadata": {},
   "source": [
    "# BIG QUERY "
   ]
  },
  {
   "cell_type": "code",
   "execution_count": null,
   "metadata": {},
   "outputs": [],
   "source": [
    "# Conexión Google Cloud SDK\n",
    "# https://cloud.google.com/appengine/docs/standard/setting-up-environment?tab=python&hl=es-419\n",
    "\n",
    "# Ejecutar lo siguiente en Powershell\n",
    "## (New-Object Net.WebClient).DownloadFile(\"https://dl.google.com/dl/cloudsdk/channels/rapid/GoogleCloudSDKInstaller.exe\", \"$env:Temp\\GoogleCloudSDKInstaller.exe\") & $env:Temp\\GoogleCloudSDKInstaller.exe\n",
    "## gcloud auth application-default login"
   ]
  },
  {
   "cell_type": "code",
   "execution_count": null,
   "metadata": {},
   "outputs": [],
   "source": [
    "# Especifica el ID del proyecto de Google Cloud\n",
    "project_id = 'bi-fcom-drmb-local-pe-sbx'\n",
    "\n",
    "# Crea una instancia del cliente de BigQuery con el ID del proyecto especificado\n",
    "client = bigquery.Client(project=project_id)\n",
    "\n",
    "# ID del conjunto de datos que contiene la tabla\n",
    "dataset_id = 'Snorlax_SellerJourney'\n",
    "\n",
    "# Nombre de la tabla a la que deseas acceder\n",
    "table_id = 'sellers_registered'\n",
    "\n",
    "# Consulta SQL para obtener datos de la tabla\n",
    "query = f\"\"\"\n",
    "        SELECT DATE(created_at) AS fecha_creacion,CONCAT('+51', Telefono) AS Telefono_Concat, Activos,src_id, name, correo_seller,origen,account_status,\n",
    "        FROM `{project_id}.{dataset_id}.{table_id}`\n",
    "        WHERE account_status ='Activo'\n",
    "        AND origen ='nacional'\n",
    "\"\"\"\n"
   ]
  },
  {
   "cell_type": "markdown",
   "metadata": {},
   "source": [
    "# CONVERSIÓN A UN DATA FRAME Y SELECCIONANDO LAS COLUMNAS "
   ]
  },
  {
   "cell_type": "code",
   "execution_count": null,
   "metadata": {},
   "outputs": [],
   "source": [
    "# Ejecutar la consulta y obtener los resultados\n",
    "query_job = client.query(query)\n",
    "    \n",
    "# Convertir los resultados a un DataFrame\n",
    "df = query_job.to_dataframe()\n",
    "\n",
    "# Crear DataFrame y especificar que columnas con tipo str\n",
    "info_data = pd.DataFrame(df, columns=[\"src_id\",\"name\", \"order_nr\", \"shipping_provider_product\", \"src_status\", \"fecha_venta\",\"target_to_ship\",\"fecha_primera_venta\",\"Telefono_Concat\"], dtype=str)"
   ]
  },
  {
   "cell_type": "markdown",
   "metadata": {},
   "source": [
    "# DEFINIENDO PARAMETROS DE DÍAS Y HORAS"
   ]
  },
  {
   "cell_type": "code",
   "execution_count": null,
   "metadata": {},
   "outputs": [],
   "source": [
    "# Obtener la fecha de ayer y de hoy\n",
    "hoy = datetime.today().date()\n",
    "ayer = hoy - timedelta(days=1)\n",
    "\n",
    "# Establecer las horas límite para los envíos\n",
    "hora_limite_am_inicio = ayer.strftime('%Y-%m-%d') + \" 18:00:00\"  # 6 PM de ayer\n",
    "hora_limite_am_fin = hoy.strftime('%Y-%m-%d') + \" 08:00:00\"       # 8 AM de hoy\n",
    "hora_limite_pm_inicio = hoy.strftime('%Y-%m-%d') + \" 08:00:00\"   # 8 AM de hoy\n",
    "hora_limite_pm_fin = hoy.strftime('%Y-%m-%d') + \" 18:00:00\"      # 6 PM de hoy\n",
    "\n",
    "# Convertir fechas en formato de cadena a objetos datetime\n",
    "info_data['fecha_venta'] = pd.to_datetime(info_data['fecha_venta'])"
   ]
  },
  {
   "cell_type": "markdown",
   "metadata": {},
   "source": [
    "# CONDICIONALES "
   ]
  },
  {
   "cell_type": "code",
   "execution_count": null,
   "metadata": {},
   "outputs": [],
   "source": [
    "# Filtrar las órdenes para el envío por la mañana\n",
    "info_data_primera_venta_envioam = info_data[\n",
    "    ((info_data['fecha_venta'] >= pd.to_datetime(hora_limite_am_inicio)) &\n",
    "    (info_data['fecha_venta'] < pd.to_datetime(hora_limite_am_fin)))\n",
    "]\n",
    "\n",
    "# Filtrar las órdenes para el envío por la tarde\n",
    "info_data_primera_venta_enviopm = info_data[\n",
    "    ((info_data['fecha_venta'] >= pd.to_datetime(hora_limite_pm_inicio)) &\n",
    "    (info_data['fecha_venta'] < pd.to_datetime(hora_limite_pm_fin)))\n",
    "]"
   ]
  },
  {
   "cell_type": "markdown",
   "metadata": {},
   "source": [
    "# ENVÍO WHATS APP "
   ]
  },
  {
   "cell_type": "code",
   "execution_count": null,
   "metadata": {},
   "outputs": [],
   "source": [
    "mensaje_whatsapp_am = \"\"\"\n",
    "¡Hola! *{Seller}* has recibido una venta 🎉 Queremos reforzar contigo el proceso para gestionarla:      \n",
    " \n",
    "Tutorial despacho: https://youtu.be/lpk1_y9uYDg   \n",
    "    \n",
    "_*Instrucciones:*_  \n",
    " \n",
    "Revisa tus órdenes aquí: https://sellercenter.falabella.com/order    \n",
    " \n",
    "📦 Para gestionar tu pedido debes:      \n",
    " \n",
    "1- Imprimir la *etiqueta* que pegarás al exterior de tu empaque. Se visualiza al lado izquierdo como *Label*. \n",
    "   \n",
    "2- Hacer clic en *Listo para despachar* - máximo un día antes de la fecha límite (antes de las 8:00PM).   \n",
    "   \n",
    "3- El *{fecha_límite}* recolectaremos las órdenes en tu almacén 🤝  \n",
    " \n",
    "🚨 Recuerda que:  \n",
    " \n",
    "1- El horario de recolección es entre *8:00 a 17:00 hrs*. El transporte te llamará al llegar (espera: 10 minutos) \n",
    " \n",
    "_2- Emitir la *boleta electrónica* en SUNAT por el \"Gran total\" y adjuntarla en Ordenes - Documentos Tributarios_\n",
    " \n",
    "3- Instructivo de embalaje y etiquetado: https://www.falabellasellers.com/embalaje-y-etiquetado \n",
    " \n",
    "*4- Siempre enviamos las alertas de pedidos por correo, remitente: noreply@mail.sellercenter.falabella.com*\n",
    "\"\"\"\n",
    "\n",
    "\n",
    "\n",
    "for seller in info_data_primera_venta_envioam['src_id'].unique():\n",
    "    # Filtrar el DataFrame para la tienda actual\n",
    "    df_seller = info_data_primera_venta_envioam[info_data_primera_venta_envioam['src_id'] == seller]\n",
    "    \n",
    "    \n",
    "    Numero = df_seller['Telefono_Concat'].iloc[0]\n",
    "    \n",
    "    \n",
    "    whatsapp_message = mensaje_whatsapp_am.format(\n",
    "                    Seller=df_seller[\"name\"].iloc[0],\n",
    "                    fecha_límite=df_seller[\"target_to_ship\"].iloc[0],                    \n",
    "            )\n",
    "    #Enviar el mensaje de WhatsApp\n",
    "    pywhatkit.sendwhatmsg_instantly(Numero, whatsapp_message)\n",
    "    time.sleep(10)    "
   ]
  },
  {
   "cell_type": "code",
   "execution_count": null,
   "metadata": {},
   "outputs": [],
   "source": [
    "mensaje_whatsapp_pm = \"\"\"\n",
    "¡Hola! *{Seller}* has recibido una venta 🎉 Queremos reforzar contigo el proceso para gestionarla:      \n",
    " \n",
    "Tutorial despacho: https://youtu.be/lpk1_y9uYDg   \n",
    "    \n",
    "_*Instrucciones:*_  \n",
    " \n",
    "Revisa tus órdenes aquí: https://sellercenter.falabella.com/order    \n",
    " \n",
    "📦 Para gestionar tu pedido debes:      \n",
    " \n",
    "1- Imprimir la *etiqueta* que pegarás al exterior de tu empaque. Se visualiza al lado izquierdo como *Label*. \n",
    "   \n",
    "2- Hacer clic en *Listo para despachar* - máximo un día antes de la fecha límite (antes de las 8:00PM).   \n",
    "   \n",
    "3- El *{fecha_límite}* recolectaremos las órdenes en tu almacén 🤝  \n",
    " \n",
    "🚨 Recuerda que:  \n",
    " \n",
    "1- El horario de recolección es entre *8:00 a 17:00 hrs*. El transporte te llamará al llegar (espera: 10 minutos) \n",
    " \n",
    "_2- Emitir la *boleta electrónica* en SUNAT por el \"Gran total\" y adjuntarla en Ordenes - Documentos Tributarios_\n",
    " \n",
    "3- Instructivo de embalaje y etiquetado: https://www.falabellasellers.com/embalaje-y-etiquetado \n",
    " \n",
    "*4- Siempre enviamos las alertas de pedidos por correo, remitente: noreply@mail.sellercenter.falabella.com*\n",
    "\"\"\"\n",
    "\n",
    "\n",
    "\n",
    "for seller in info_data_primera_venta_enviopm['src_id'].unique():\n",
    "    # Filtrar el DataFrame para la tienda actual\n",
    "    df_seller_1 = info_data_primera_venta_enviopm[info_data_primera_venta_enviopm['src_id'] == seller]\n",
    "    \n",
    "    \n",
    "    Numero = df_seller_1['Telefono_Concat'].iloc[0]\n",
    "    \n",
    "    \n",
    "    whatsapp_message = mensaje_whatsapp_pm.format(\n",
    "                    Seller=df_seller_1[\"name\"].iloc[0],\n",
    "                    fecha_límite=df_seller_1[\"target_to_ship\"].iloc[0],                    \n",
    "            )\n",
    "    #Enviar el mensaje de WhatsApp\n",
    "    pywhatkit.sendwhatmsg_instantly(Numero, whatsapp_message)\n",
    "    time.sleep(10)    "
   ]
  }
 ],
 "metadata": {
  "kernelspec": {
   "display_name": "Python 3",
   "language": "python",
   "name": "python3"
  },
  "language_info": {
   "name": "python",
   "version": "3.11.4"
  }
 },
 "nbformat": 4,
 "nbformat_minor": 2
}
