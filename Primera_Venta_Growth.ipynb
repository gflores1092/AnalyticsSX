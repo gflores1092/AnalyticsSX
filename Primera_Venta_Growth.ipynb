{
 "cells": [
  {
   "cell_type": "markdown",
   "metadata": {},
   "source": [
    "# LIBRERIAS"
   ]
  },
  {
   "cell_type": "code",
   "execution_count": 31,
   "metadata": {},
   "outputs": [],
   "source": [
    "import pandas as pd\n",
    "from google.cloud import bigquery\n",
    "import pywhatkit\n",
    "import time\n",
    "import pyautogui\n",
    "import time\n",
    "from datetime import datetime, timedelta"
   ]
  },
  {
   "cell_type": "markdown",
   "metadata": {},
   "source": [
    "# EXTRAYENDO DATA DE BIG QUERY Y CONVIRTIENDOLO EN DF"
   ]
  },
  {
   "cell_type": "code",
   "execution_count": 32,
   "metadata": {},
   "outputs": [],
   "source": [
    "# Conexión Google Cloud SDK\n",
    "# https://cloud.google.com/appengine/docs/standard/setting-up-environment?tab=python&hl=es-419\n",
    "\n",
    "# Ejecutar lo siguiente en Powershell\n",
    "## (New-Object Net.WebClient).DownloadFile(\"https://dl.google.com/dl/cloudsdk/channels/rapid/GoogleCloudSDKInstaller.exe\", \"$env:Temp\\GoogleCloudSDKInstaller.exe\") & $env:Temp\\GoogleCloudSDKInstaller.exe\n",
    "## gcloud auth application-default login"
   ]
  },
  {
   "cell_type": "code",
   "execution_count": 33,
   "metadata": {},
   "outputs": [
    {
     "ename": "KeyboardInterrupt",
     "evalue": "",
     "output_type": "error",
     "traceback": [
      "\u001b[1;31m---------------------------------------------------------------------------\u001b[0m",
      "\u001b[1;31mKeyboardInterrupt\u001b[0m                         Traceback (most recent call last)",
      "Cell \u001b[1;32mIn[33], line 5\u001b[0m\n\u001b[0;32m      2\u001b[0m project_id \u001b[38;5;241m=\u001b[39m \u001b[38;5;124m'\u001b[39m\u001b[38;5;124mbi-fcom-drmb-local-pe-sbx\u001b[39m\u001b[38;5;124m'\u001b[39m\n\u001b[0;32m      4\u001b[0m \u001b[38;5;66;03m# Crea una instancia del cliente de BigQuery con el ID del proyecto especificado\u001b[39;00m\n\u001b[1;32m----> 5\u001b[0m client \u001b[38;5;241m=\u001b[39m \u001b[43mbigquery\u001b[49m\u001b[38;5;241;43m.\u001b[39;49m\u001b[43mClient\u001b[49m\u001b[43m(\u001b[49m\u001b[43mproject\u001b[49m\u001b[38;5;241;43m=\u001b[39;49m\u001b[43mproject_id\u001b[49m\u001b[43m)\u001b[49m\n\u001b[0;32m      7\u001b[0m \u001b[38;5;66;03m# ID del conjunto de datos que contiene la tabla\u001b[39;00m\n\u001b[0;32m      8\u001b[0m dataset_id \u001b[38;5;241m=\u001b[39m \u001b[38;5;124m'\u001b[39m\u001b[38;5;124mSnorlax_SellerJourney\u001b[39m\u001b[38;5;124m'\u001b[39m\n",
      "File \u001b[1;32mc:\\Users\\jalopezz\\AppData\\Local\\Programs\\Python\\Python311\\Lib\\site-packages\\google\\cloud\\bigquery\\client.py:241\u001b[0m, in \u001b[0;36mClient.__init__\u001b[1;34m(self, project, credentials, _http, location, default_query_job_config, default_load_job_config, client_info, client_options)\u001b[0m\n\u001b[0;32m    230\u001b[0m \u001b[38;5;28;01mdef\u001b[39;00m \u001b[38;5;21m__init__\u001b[39m(\n\u001b[0;32m    231\u001b[0m     \u001b[38;5;28mself\u001b[39m,\n\u001b[0;32m    232\u001b[0m     project\u001b[38;5;241m=\u001b[39m\u001b[38;5;28;01mNone\u001b[39;00m,\n\u001b[1;32m   (...)\u001b[0m\n\u001b[0;32m    239\u001b[0m     client_options\u001b[38;5;241m=\u001b[39m\u001b[38;5;28;01mNone\u001b[39;00m,\n\u001b[0;32m    240\u001b[0m ) \u001b[38;5;241m-\u001b[39m\u001b[38;5;241m>\u001b[39m \u001b[38;5;28;01mNone\u001b[39;00m:\n\u001b[1;32m--> 241\u001b[0m     \u001b[38;5;28;43msuper\u001b[39;49m\u001b[43m(\u001b[49m\u001b[43mClient\u001b[49m\u001b[43m,\u001b[49m\u001b[43m \u001b[49m\u001b[38;5;28;43mself\u001b[39;49m\u001b[43m)\u001b[49m\u001b[38;5;241;43m.\u001b[39;49m\u001b[38;5;21;43m__init__\u001b[39;49m\u001b[43m(\u001b[49m\n\u001b[0;32m    242\u001b[0m \u001b[43m        \u001b[49m\u001b[43mproject\u001b[49m\u001b[38;5;241;43m=\u001b[39;49m\u001b[43mproject\u001b[49m\u001b[43m,\u001b[49m\n\u001b[0;32m    243\u001b[0m \u001b[43m        \u001b[49m\u001b[43mcredentials\u001b[49m\u001b[38;5;241;43m=\u001b[39;49m\u001b[43mcredentials\u001b[49m\u001b[43m,\u001b[49m\n\u001b[0;32m    244\u001b[0m \u001b[43m        \u001b[49m\u001b[43mclient_options\u001b[49m\u001b[38;5;241;43m=\u001b[39;49m\u001b[43mclient_options\u001b[49m\u001b[43m,\u001b[49m\n\u001b[0;32m    245\u001b[0m \u001b[43m        \u001b[49m\u001b[43m_http\u001b[49m\u001b[38;5;241;43m=\u001b[39;49m\u001b[43m_http\u001b[49m\u001b[43m,\u001b[49m\n\u001b[0;32m    246\u001b[0m \u001b[43m    \u001b[49m\u001b[43m)\u001b[49m\n\u001b[0;32m    248\u001b[0m     kw_args \u001b[38;5;241m=\u001b[39m {\u001b[38;5;124m\"\u001b[39m\u001b[38;5;124mclient_info\u001b[39m\u001b[38;5;124m\"\u001b[39m: client_info}\n\u001b[0;32m    249\u001b[0m     bq_host \u001b[38;5;241m=\u001b[39m _get_bigquery_host()\n",
      "File \u001b[1;32mc:\\Users\\jalopezz\\AppData\\Local\\Programs\\Python\\Python311\\Lib\\site-packages\\google\\cloud\\client\\__init__.py:321\u001b[0m, in \u001b[0;36mClientWithProject.__init__\u001b[1;34m(self, project, credentials, client_options, _http)\u001b[0m\n\u001b[0;32m    319\u001b[0m \u001b[38;5;28;01mdef\u001b[39;00m \u001b[38;5;21m__init__\u001b[39m(\u001b[38;5;28mself\u001b[39m, project\u001b[38;5;241m=\u001b[39m\u001b[38;5;28;01mNone\u001b[39;00m, credentials\u001b[38;5;241m=\u001b[39m\u001b[38;5;28;01mNone\u001b[39;00m, client_options\u001b[38;5;241m=\u001b[39m\u001b[38;5;28;01mNone\u001b[39;00m, _http\u001b[38;5;241m=\u001b[39m\u001b[38;5;28;01mNone\u001b[39;00m):\n\u001b[0;32m    320\u001b[0m     _ClientProjectMixin\u001b[38;5;241m.\u001b[39m\u001b[38;5;21m__init__\u001b[39m(\u001b[38;5;28mself\u001b[39m, project\u001b[38;5;241m=\u001b[39mproject, credentials\u001b[38;5;241m=\u001b[39mcredentials)\n\u001b[1;32m--> 321\u001b[0m     \u001b[43mClient\u001b[49m\u001b[38;5;241;43m.\u001b[39;49m\u001b[38;5;21;43m__init__\u001b[39;49m\u001b[43m(\u001b[49m\n\u001b[0;32m    322\u001b[0m \u001b[43m        \u001b[49m\u001b[38;5;28;43mself\u001b[39;49m\u001b[43m,\u001b[49m\u001b[43m \u001b[49m\u001b[43mcredentials\u001b[49m\u001b[38;5;241;43m=\u001b[39;49m\u001b[43mcredentials\u001b[49m\u001b[43m,\u001b[49m\u001b[43m \u001b[49m\u001b[43mclient_options\u001b[49m\u001b[38;5;241;43m=\u001b[39;49m\u001b[43mclient_options\u001b[49m\u001b[43m,\u001b[49m\u001b[43m \u001b[49m\u001b[43m_http\u001b[49m\u001b[38;5;241;43m=\u001b[39;49m\u001b[43m_http\u001b[49m\n\u001b[0;32m    323\u001b[0m \u001b[43m    \u001b[49m\u001b[43m)\u001b[49m\n",
      "File \u001b[1;32mc:\\Users\\jalopezz\\AppData\\Local\\Programs\\Python\\Python311\\Lib\\site-packages\\google\\cloud\\client\\__init__.py:178\u001b[0m, in \u001b[0;36mClient.__init__\u001b[1;34m(self, credentials, _http, client_options)\u001b[0m\n\u001b[0;32m    174\u001b[0m         credentials, _ \u001b[38;5;241m=\u001b[39m google\u001b[38;5;241m.\u001b[39mauth\u001b[38;5;241m.\u001b[39mload_credentials_from_file(\n\u001b[0;32m    175\u001b[0m             client_options\u001b[38;5;241m.\u001b[39mcredentials_file, scopes\u001b[38;5;241m=\u001b[39mscopes\n\u001b[0;32m    176\u001b[0m         )\n\u001b[0;32m    177\u001b[0m     \u001b[38;5;28;01melse\u001b[39;00m:\n\u001b[1;32m--> 178\u001b[0m         credentials, _ \u001b[38;5;241m=\u001b[39m \u001b[43mgoogle\u001b[49m\u001b[38;5;241;43m.\u001b[39;49m\u001b[43mauth\u001b[49m\u001b[38;5;241;43m.\u001b[39;49m\u001b[43mdefault\u001b[49m\u001b[43m(\u001b[49m\u001b[43mscopes\u001b[49m\u001b[38;5;241;43m=\u001b[39;49m\u001b[43mscopes\u001b[49m\u001b[43m)\u001b[49m\n\u001b[0;32m    180\u001b[0m \u001b[38;5;28mself\u001b[39m\u001b[38;5;241m.\u001b[39m_credentials \u001b[38;5;241m=\u001b[39m google\u001b[38;5;241m.\u001b[39mauth\u001b[38;5;241m.\u001b[39mcredentials\u001b[38;5;241m.\u001b[39mwith_scopes_if_required(\n\u001b[0;32m    181\u001b[0m     credentials, scopes\u001b[38;5;241m=\u001b[39mscopes\n\u001b[0;32m    182\u001b[0m )\n\u001b[0;32m    184\u001b[0m \u001b[38;5;28;01mif\u001b[39;00m client_options\u001b[38;5;241m.\u001b[39mquota_project_id:\n",
      "File \u001b[1;32mc:\\Users\\jalopezz\\AppData\\Local\\Programs\\Python\\Python311\\Lib\\site-packages\\google\\auth\\_default.py:659\u001b[0m, in \u001b[0;36mdefault\u001b[1;34m(scopes, request, quota_project_id, default_scopes)\u001b[0m\n\u001b[0;32m    647\u001b[0m checkers \u001b[38;5;241m=\u001b[39m (\n\u001b[0;32m    648\u001b[0m     \u001b[38;5;66;03m# Avoid passing scopes here to prevent passing scopes to user credentials.\u001b[39;00m\n\u001b[0;32m    649\u001b[0m     \u001b[38;5;66;03m# with_scopes_if_required() below will ensure scopes/default scopes are\u001b[39;00m\n\u001b[1;32m   (...)\u001b[0m\n\u001b[0;32m    655\u001b[0m     \u001b[38;5;28;01mlambda\u001b[39;00m: _get_gce_credentials(request, quota_project_id\u001b[38;5;241m=\u001b[39mquota_project_id),\n\u001b[0;32m    656\u001b[0m )\n\u001b[0;32m    658\u001b[0m \u001b[38;5;28;01mfor\u001b[39;00m checker \u001b[38;5;129;01min\u001b[39;00m checkers:\n\u001b[1;32m--> 659\u001b[0m     credentials, project_id \u001b[38;5;241m=\u001b[39m \u001b[43mchecker\u001b[49m\u001b[43m(\u001b[49m\u001b[43m)\u001b[49m\n\u001b[0;32m    660\u001b[0m     \u001b[38;5;28;01mif\u001b[39;00m credentials \u001b[38;5;129;01mis\u001b[39;00m \u001b[38;5;129;01mnot\u001b[39;00m \u001b[38;5;28;01mNone\u001b[39;00m:\n\u001b[0;32m    661\u001b[0m         credentials \u001b[38;5;241m=\u001b[39m with_scopes_if_required(\n\u001b[0;32m    662\u001b[0m             credentials, scopes, default_scopes\u001b[38;5;241m=\u001b[39mdefault_scopes\n\u001b[0;32m    663\u001b[0m         )\n",
      "File \u001b[1;32mc:\\Users\\jalopezz\\AppData\\Local\\Programs\\Python\\Python311\\Lib\\site-packages\\google\\auth\\_default.py:653\u001b[0m, in \u001b[0;36mdefault.<locals>.<lambda>\u001b[1;34m()\u001b[0m\n\u001b[0;32m    641\u001b[0m \u001b[38;5;28;01mfrom\u001b[39;00m \u001b[38;5;21;01mgoogle\u001b[39;00m\u001b[38;5;21;01m.\u001b[39;00m\u001b[38;5;21;01mauth\u001b[39;00m\u001b[38;5;21;01m.\u001b[39;00m\u001b[38;5;21;01mcredentials\u001b[39;00m \u001b[38;5;28;01mimport\u001b[39;00m CredentialsWithQuotaProject\n\u001b[0;32m    643\u001b[0m explicit_project_id \u001b[38;5;241m=\u001b[39m os\u001b[38;5;241m.\u001b[39menviron\u001b[38;5;241m.\u001b[39mget(\n\u001b[0;32m    644\u001b[0m     environment_vars\u001b[38;5;241m.\u001b[39mPROJECT, os\u001b[38;5;241m.\u001b[39menviron\u001b[38;5;241m.\u001b[39mget(environment_vars\u001b[38;5;241m.\u001b[39mLEGACY_PROJECT)\n\u001b[0;32m    645\u001b[0m )\n\u001b[0;32m    647\u001b[0m checkers \u001b[38;5;241m=\u001b[39m (\n\u001b[0;32m    648\u001b[0m     \u001b[38;5;66;03m# Avoid passing scopes here to prevent passing scopes to user credentials.\u001b[39;00m\n\u001b[0;32m    649\u001b[0m     \u001b[38;5;66;03m# with_scopes_if_required() below will ensure scopes/default scopes are\u001b[39;00m\n\u001b[0;32m    650\u001b[0m     \u001b[38;5;66;03m# safely set on the returned credentials since requires_scopes will\u001b[39;00m\n\u001b[0;32m    651\u001b[0m     \u001b[38;5;66;03m# guard against setting scopes on user credentials.\u001b[39;00m\n\u001b[0;32m    652\u001b[0m     \u001b[38;5;28;01mlambda\u001b[39;00m: _get_explicit_environ_credentials(quota_project_id\u001b[38;5;241m=\u001b[39mquota_project_id),\n\u001b[1;32m--> 653\u001b[0m     \u001b[38;5;28;01mlambda\u001b[39;00m: \u001b[43m_get_gcloud_sdk_credentials\u001b[49m\u001b[43m(\u001b[49m\u001b[43mquota_project_id\u001b[49m\u001b[38;5;241;43m=\u001b[39;49m\u001b[43mquota_project_id\u001b[49m\u001b[43m)\u001b[49m,\n\u001b[0;32m    654\u001b[0m     _get_gae_credentials,\n\u001b[0;32m    655\u001b[0m     \u001b[38;5;28;01mlambda\u001b[39;00m: _get_gce_credentials(request, quota_project_id\u001b[38;5;241m=\u001b[39mquota_project_id),\n\u001b[0;32m    656\u001b[0m )\n\u001b[0;32m    658\u001b[0m \u001b[38;5;28;01mfor\u001b[39;00m checker \u001b[38;5;129;01min\u001b[39;00m checkers:\n\u001b[0;32m    659\u001b[0m     credentials, project_id \u001b[38;5;241m=\u001b[39m checker()\n",
      "File \u001b[1;32mc:\\Users\\jalopezz\\AppData\\Local\\Programs\\Python\\Python311\\Lib\\site-packages\\google\\auth\\_default.py:244\u001b[0m, in \u001b[0;36m_get_gcloud_sdk_credentials\u001b[1;34m(quota_project_id)\u001b[0m\n\u001b[0;32m    239\u001b[0m credentials, project_id \u001b[38;5;241m=\u001b[39m load_credentials_from_file(\n\u001b[0;32m    240\u001b[0m     credentials_filename, quota_project_id\u001b[38;5;241m=\u001b[39mquota_project_id\n\u001b[0;32m    241\u001b[0m )\n\u001b[0;32m    243\u001b[0m \u001b[38;5;28;01mif\u001b[39;00m \u001b[38;5;129;01mnot\u001b[39;00m project_id:\n\u001b[1;32m--> 244\u001b[0m     project_id \u001b[38;5;241m=\u001b[39m \u001b[43m_cloud_sdk\u001b[49m\u001b[38;5;241;43m.\u001b[39;49m\u001b[43mget_project_id\u001b[49m\u001b[43m(\u001b[49m\u001b[43m)\u001b[49m\n\u001b[0;32m    246\u001b[0m \u001b[38;5;28;01mreturn\u001b[39;00m credentials, project_id\n",
      "File \u001b[1;32mc:\\Users\\jalopezz\\AppData\\Local\\Programs\\Python\\Python311\\Lib\\site-packages\\google\\auth\\_cloud_sdk.py:108\u001b[0m, in \u001b[0;36mget_project_id\u001b[1;34m()\u001b[0m\n\u001b[0;32m    103\u001b[0m     command \u001b[38;5;241m=\u001b[39m _CLOUD_SDK_POSIX_COMMAND\n\u001b[0;32m    105\u001b[0m \u001b[38;5;28;01mtry\u001b[39;00m:\n\u001b[0;32m    106\u001b[0m     \u001b[38;5;66;03m# Ignore the stderr coming from gcloud, so it won't be mixed into the output.\u001b[39;00m\n\u001b[0;32m    107\u001b[0m     \u001b[38;5;66;03m# https://github.com/googleapis/google-auth-library-python/issues/673\u001b[39;00m\n\u001b[1;32m--> 108\u001b[0m     project \u001b[38;5;241m=\u001b[39m \u001b[43m_run_subprocess_ignore_stderr\u001b[49m\u001b[43m(\u001b[49m\n\u001b[0;32m    109\u001b[0m \u001b[43m        \u001b[49m\u001b[43m(\u001b[49m\u001b[43mcommand\u001b[49m\u001b[43m,\u001b[49m\u001b[43m)\u001b[49m\u001b[43m \u001b[49m\u001b[38;5;241;43m+\u001b[39;49m\u001b[43m \u001b[49m\u001b[43m_CLOUD_SDK_CONFIG_GET_PROJECT_COMMAND\u001b[49m\n\u001b[0;32m    110\u001b[0m \u001b[43m    \u001b[49m\u001b[43m)\u001b[49m\n\u001b[0;32m    112\u001b[0m     \u001b[38;5;66;03m# Turn bytes into a string and remove \"\\n\"\u001b[39;00m\n\u001b[0;32m    113\u001b[0m     project \u001b[38;5;241m=\u001b[39m _helpers\u001b[38;5;241m.\u001b[39mfrom_bytes(project)\u001b[38;5;241m.\u001b[39mstrip()\n",
      "File \u001b[1;32mc:\\Users\\jalopezz\\AppData\\Local\\Programs\\Python\\Python311\\Lib\\site-packages\\google\\auth\\_cloud_sdk.py:90\u001b[0m, in \u001b[0;36m_run_subprocess_ignore_stderr\u001b[1;34m(command)\u001b[0m\n\u001b[0;32m     88\u001b[0m \u001b[38;5;250m\u001b[39m\u001b[38;5;124;03m\"\"\" Return subprocess.check_output with the given command and ignores stderr.\"\"\"\u001b[39;00m\n\u001b[0;32m     89\u001b[0m \u001b[38;5;28;01mwith\u001b[39;00m \u001b[38;5;28mopen\u001b[39m(os\u001b[38;5;241m.\u001b[39mdevnull, \u001b[38;5;124m\"\u001b[39m\u001b[38;5;124mw\u001b[39m\u001b[38;5;124m\"\u001b[39m) \u001b[38;5;28;01mas\u001b[39;00m devnull:\n\u001b[1;32m---> 90\u001b[0m     output \u001b[38;5;241m=\u001b[39m \u001b[43msubprocess\u001b[49m\u001b[38;5;241;43m.\u001b[39;49m\u001b[43mcheck_output\u001b[49m\u001b[43m(\u001b[49m\u001b[43mcommand\u001b[49m\u001b[43m,\u001b[49m\u001b[43m \u001b[49m\u001b[43mstderr\u001b[49m\u001b[38;5;241;43m=\u001b[39;49m\u001b[43mdevnull\u001b[49m\u001b[43m)\u001b[49m\n\u001b[0;32m     91\u001b[0m \u001b[38;5;28;01mreturn\u001b[39;00m output\n",
      "File \u001b[1;32mc:\\Users\\jalopezz\\AppData\\Local\\Programs\\Python\\Python311\\Lib\\subprocess.py:466\u001b[0m, in \u001b[0;36mcheck_output\u001b[1;34m(timeout, *popenargs, **kwargs)\u001b[0m\n\u001b[0;32m    463\u001b[0m         empty \u001b[38;5;241m=\u001b[39m \u001b[38;5;124mb\u001b[39m\u001b[38;5;124m'\u001b[39m\u001b[38;5;124m'\u001b[39m\n\u001b[0;32m    464\u001b[0m     kwargs[\u001b[38;5;124m'\u001b[39m\u001b[38;5;124minput\u001b[39m\u001b[38;5;124m'\u001b[39m] \u001b[38;5;241m=\u001b[39m empty\n\u001b[1;32m--> 466\u001b[0m \u001b[38;5;28;01mreturn\u001b[39;00m \u001b[43mrun\u001b[49m\u001b[43m(\u001b[49m\u001b[38;5;241;43m*\u001b[39;49m\u001b[43mpopenargs\u001b[49m\u001b[43m,\u001b[49m\u001b[43m \u001b[49m\u001b[43mstdout\u001b[49m\u001b[38;5;241;43m=\u001b[39;49m\u001b[43mPIPE\u001b[49m\u001b[43m,\u001b[49m\u001b[43m \u001b[49m\u001b[43mtimeout\u001b[49m\u001b[38;5;241;43m=\u001b[39;49m\u001b[43mtimeout\u001b[49m\u001b[43m,\u001b[49m\u001b[43m \u001b[49m\u001b[43mcheck\u001b[49m\u001b[38;5;241;43m=\u001b[39;49m\u001b[38;5;28;43;01mTrue\u001b[39;49;00m\u001b[43m,\u001b[49m\n\u001b[0;32m    467\u001b[0m \u001b[43m           \u001b[49m\u001b[38;5;241;43m*\u001b[39;49m\u001b[38;5;241;43m*\u001b[39;49m\u001b[43mkwargs\u001b[49m\u001b[43m)\u001b[49m\u001b[38;5;241m.\u001b[39mstdout\n",
      "File \u001b[1;32mc:\\Users\\jalopezz\\AppData\\Local\\Programs\\Python\\Python311\\Lib\\subprocess.py:550\u001b[0m, in \u001b[0;36mrun\u001b[1;34m(input, capture_output, timeout, check, *popenargs, **kwargs)\u001b[0m\n\u001b[0;32m    548\u001b[0m \u001b[38;5;28;01mwith\u001b[39;00m Popen(\u001b[38;5;241m*\u001b[39mpopenargs, \u001b[38;5;241m*\u001b[39m\u001b[38;5;241m*\u001b[39mkwargs) \u001b[38;5;28;01mas\u001b[39;00m process:\n\u001b[0;32m    549\u001b[0m     \u001b[38;5;28;01mtry\u001b[39;00m:\n\u001b[1;32m--> 550\u001b[0m         stdout, stderr \u001b[38;5;241m=\u001b[39m \u001b[43mprocess\u001b[49m\u001b[38;5;241;43m.\u001b[39;49m\u001b[43mcommunicate\u001b[49m\u001b[43m(\u001b[49m\u001b[38;5;28;43minput\u001b[39;49m\u001b[43m,\u001b[49m\u001b[43m \u001b[49m\u001b[43mtimeout\u001b[49m\u001b[38;5;241;43m=\u001b[39;49m\u001b[43mtimeout\u001b[49m\u001b[43m)\u001b[49m\n\u001b[0;32m    551\u001b[0m     \u001b[38;5;28;01mexcept\u001b[39;00m TimeoutExpired \u001b[38;5;28;01mas\u001b[39;00m exc:\n\u001b[0;32m    552\u001b[0m         process\u001b[38;5;241m.\u001b[39mkill()\n",
      "File \u001b[1;32mc:\\Users\\jalopezz\\AppData\\Local\\Programs\\Python\\Python311\\Lib\\subprocess.py:1196\u001b[0m, in \u001b[0;36mPopen.communicate\u001b[1;34m(self, input, timeout)\u001b[0m\n\u001b[0;32m   1194\u001b[0m     \u001b[38;5;28mself\u001b[39m\u001b[38;5;241m.\u001b[39m_stdin_write(\u001b[38;5;28minput\u001b[39m)\n\u001b[0;32m   1195\u001b[0m \u001b[38;5;28;01melif\u001b[39;00m \u001b[38;5;28mself\u001b[39m\u001b[38;5;241m.\u001b[39mstdout:\n\u001b[1;32m-> 1196\u001b[0m     stdout \u001b[38;5;241m=\u001b[39m \u001b[38;5;28mself\u001b[39m\u001b[38;5;241m.\u001b[39mstdout\u001b[38;5;241m.\u001b[39mread()\n\u001b[0;32m   1197\u001b[0m     \u001b[38;5;28mself\u001b[39m\u001b[38;5;241m.\u001b[39mstdout\u001b[38;5;241m.\u001b[39mclose()\n\u001b[0;32m   1198\u001b[0m \u001b[38;5;28;01melif\u001b[39;00m \u001b[38;5;28mself\u001b[39m\u001b[38;5;241m.\u001b[39mstderr:\n",
      "\u001b[1;31mKeyboardInterrupt\u001b[0m: "
     ]
    }
   ],
   "source": [
    "# Especifica el ID del proyecto de Google Cloud\n",
    "project_id = 'bi-fcom-drmb-local-pe-sbx'\n",
    "\n",
    "# Crea una instancia del cliente de BigQuery con el ID del proyecto especificado\n",
    "client = bigquery.Client(project=project_id)\n",
    "\n",
    "# ID del conjunto de datos que contiene la tabla\n",
    "dataset_id = 'Snorlax_SellerJourney'\n",
    "\n",
    "# Nombre de la tabla a la que deseas acceder\n",
    "table_id = 'sellers_registered_ventas'\n",
    "\n",
    "# Consulta SQL para obtener datos de la tabla\n",
    "query = f\"\"\"\n",
    "    SELECT\n",
    "  src_id,\n",
    "  name,\n",
    "  order_nr,\n",
    "  shipping_provider_product,\n",
    "  src_status,\n",
    "  fecha_venta,\n",
    "  target_to_ship,\n",
    "  fecha_primera_venta,\n",
    "  CONCAT('+51', Telefono) AS Telefono_Concat,\n",
    "FROM (\n",
    "  SELECT\n",
    "    *\n",
    "  FROM (\n",
    "    SELECT\n",
    "      *,\n",
    "      ROW_NUMBER() OVER (PARTITION BY src_id ORDER BY fecha_venta ASC ) AS tt\n",
    "    FROM (\n",
    "      SELECT\n",
    "        *\n",
    "      FROM `{project_id}.{dataset_id}.{table_id}`\n",
    "      WHERE\n",
    "        src_status NOT IN( 'canceled',\n",
    "          'return_shipped_by_customer',\n",
    "          'failed_delivery',\n",
    "          'return_waiting_for_approval',\n",
    "          'return_rejected',\n",
    "          'returned')))\n",
    "  WHERE\n",
    "    tt = 1)\n",
    "WHERE\n",
    "  fecha_venta BETWEEN '2024-03-05'AND '2024-03-31'\n",
    "\"\"\"\n",
    "\n",
    "# Ejecutar la consulta y obtener los resultados\n",
    "query_job = client.query(query)\n",
    "# Convertir los resultados a un DataFrame\n",
    "df = query_job.to_dataframe()\n",
    "print(df)"
   ]
  },
  {
   "cell_type": "markdown",
   "metadata": {},
   "source": [
    "# DEFINIENDO EL DATA FRAME Y CAMPO FECHA_VENTA"
   ]
  },
  {
   "cell_type": "code",
   "execution_count": null,
   "metadata": {},
   "outputs": [],
   "source": [
    "# Crear DataFrame y especificar que columnas con tipo str\n",
    "info_data = pd.DataFrame(df, columns=[\"src_id\",\"name\", \"order_nr\", \"shipping_provider_product\", \"src_status\", \"fecha_venta\",\"target_to_ship\",\"fecha_primera_venta\",\"Telefono_Concat\"], dtype=str)\n",
    "# Convertir fechas en formato de cadena a objetos datetime\n",
    "info_data['fecha_venta'] = pd.to_datetime(info_data['fecha_venta'])"
   ]
  },
  {
   "cell_type": "markdown",
   "metadata": {},
   "source": [
    "# DEFINIENDO PARAMETROS DE DÍAS Y HORAS"
   ]
  },
  {
   "cell_type": "code",
   "execution_count": null,
   "metadata": {},
   "outputs": [],
   "source": [
    "\n",
    "# Obtener la fecha de ayer y de hoy\n",
    "hoy = datetime.today().date()\n",
    "ayer = hoy - timedelta(days=1)\n",
    "\n",
    "# Establecer las horas límite para los envíos\n",
    "hora_limite_am_inicio = ayer.strftime('%Y-%m-%d') + \" 18:00:00\"  # 6 PM de ayer\n",
    "hora_limite_am_fin = hoy.strftime('%Y-%m-%d') + \" 08:00:00\"       # 8 AM de hoy\n",
    "hora_limite_pm_inicio = hoy.strftime('%Y-%m-%d') + \" 08:00:00\"   # 8 AM de hoy\n",
    "hora_limite_pm_fin = hoy.strftime('%Y-%m-%d') + \" 18:00:00\"      # 6 PM de hoy\n"
   ]
  },
  {
   "cell_type": "markdown",
   "metadata": {},
   "source": [
    "# CONDICIONALES "
   ]
  },
  {
   "cell_type": "code",
   "execution_count": null,
   "metadata": {},
   "outputs": [],
   "source": [
    "# Filtrar las órdenes para el envío por la mañana\n",
    "info_data_primera_venta_envioam = info_data[\n",
    "    ((info_data['fecha_venta'] >= pd.to_datetime(hora_limite_am_inicio)) &\n",
    "    (info_data['fecha_venta'] < pd.to_datetime(hora_limite_am_fin)))\n",
    "]\n",
    "\n",
    "# Filtrar las órdenes para el envío por la tarde\n",
    "info_data_primera_venta_enviopm = info_data[\n",
    "    ((info_data['fecha_venta'] >= pd.to_datetime(hora_limite_pm_inicio)) &\n",
    "    (info_data['fecha_venta'] < pd.to_datetime(hora_limite_pm_fin)))\n",
    "]"
   ]
  },
  {
   "cell_type": "markdown",
   "metadata": {},
   "source": [
    "# ENVIO WHATS APP"
   ]
  },
  {
   "cell_type": "markdown",
   "metadata": {},
   "source": [
    "# CORTE AM "
   ]
  },
  {
   "cell_type": "code",
   "execution_count": null,
   "metadata": {},
   "outputs": [
    {
     "ename": "KeyboardInterrupt",
     "evalue": "",
     "output_type": "error",
     "traceback": [
      "\u001b[1;31m---------------------------------------------------------------------------\u001b[0m",
      "\u001b[1;31mKeyboardInterrupt\u001b[0m                         Traceback (most recent call last)",
      "Cell \u001b[1;32mIn[27], line 44\u001b[0m\n\u001b[0;32m     39\u001b[0m whatsapp_message \u001b[38;5;241m=\u001b[39m mensaje_whatsapp_am\u001b[38;5;241m.\u001b[39mformat(\n\u001b[0;32m     40\u001b[0m                 Seller\u001b[38;5;241m=\u001b[39mdf_seller[\u001b[38;5;124m\"\u001b[39m\u001b[38;5;124mname\u001b[39m\u001b[38;5;124m\"\u001b[39m]\u001b[38;5;241m.\u001b[39miloc[\u001b[38;5;241m0\u001b[39m],\n\u001b[0;32m     41\u001b[0m                 fecha_límite\u001b[38;5;241m=\u001b[39mdf_seller[\u001b[38;5;124m\"\u001b[39m\u001b[38;5;124mtarget_to_ship\u001b[39m\u001b[38;5;124m\"\u001b[39m]\u001b[38;5;241m.\u001b[39miloc[\u001b[38;5;241m0\u001b[39m],                    \n\u001b[0;32m     42\u001b[0m         )\n\u001b[0;32m     43\u001b[0m \u001b[38;5;66;03m#Enviar el mensaje de WhatsApp\u001b[39;00m\n\u001b[1;32m---> 44\u001b[0m \u001b[43mpywhatkit\u001b[49m\u001b[38;5;241;43m.\u001b[39;49m\u001b[43msendwhatmsg_instantly\u001b[49m\u001b[43m(\u001b[49m\u001b[43mNumero\u001b[49m\u001b[43m,\u001b[49m\u001b[43m \u001b[49m\u001b[43mwhatsapp_message\u001b[49m\u001b[43m)\u001b[49m\n\u001b[0;32m     45\u001b[0m time\u001b[38;5;241m.\u001b[39msleep(\u001b[38;5;241m10\u001b[39m)    \n",
      "File \u001b[1;32mc:\\Users\\jalopezz\\AppData\\Local\\Programs\\Python\\Python311\\Lib\\site-packages\\pywhatkit\\whats.py:31\u001b[0m, in \u001b[0;36msendwhatmsg_instantly\u001b[1;34m(phone_no, message, wait_time, tab_close, close_time)\u001b[0m\n\u001b[0;32m     29\u001b[0m time\u001b[38;5;241m.\u001b[39msleep(\u001b[38;5;241m4\u001b[39m)\n\u001b[0;32m     30\u001b[0m pg\u001b[38;5;241m.\u001b[39mclick(core\u001b[38;5;241m.\u001b[39mWIDTH \u001b[38;5;241m/\u001b[39m \u001b[38;5;241m2\u001b[39m, core\u001b[38;5;241m.\u001b[39mHEIGHT \u001b[38;5;241m/\u001b[39m \u001b[38;5;241m2\u001b[39m)\n\u001b[1;32m---> 31\u001b[0m \u001b[43mtime\u001b[49m\u001b[38;5;241;43m.\u001b[39;49m\u001b[43msleep\u001b[49m\u001b[43m(\u001b[49m\u001b[43mwait_time\u001b[49m\u001b[43m \u001b[49m\u001b[38;5;241;43m-\u001b[39;49m\u001b[43m \u001b[49m\u001b[38;5;241;43m4\u001b[39;49m\u001b[43m)\u001b[49m\n\u001b[0;32m     32\u001b[0m pg\u001b[38;5;241m.\u001b[39mpress(\u001b[38;5;124m\"\u001b[39m\u001b[38;5;124menter\u001b[39m\u001b[38;5;124m\"\u001b[39m)\n\u001b[0;32m     33\u001b[0m log\u001b[38;5;241m.\u001b[39mlog_message(_time\u001b[38;5;241m=\u001b[39mtime\u001b[38;5;241m.\u001b[39mlocaltime(), receiver\u001b[38;5;241m=\u001b[39mphone_no, message\u001b[38;5;241m=\u001b[39mmessage)\n",
      "\u001b[1;31mKeyboardInterrupt\u001b[0m: "
     ]
    }
   ],
   "source": [
    "mensaje_whatsapp_am = \"\"\"\n",
    "¡Hola! *{Seller}* has recibido una venta 🎉 Queremos reforzar contigo el proceso para gestionarla:      \n",
    " \n",
    "Tutorial despacho: https://youtu.be/lpk1_y9uYDg   \n",
    "    \n",
    "_*Instrucciones:*_  \n",
    " \n",
    "Revisa tus órdenes aquí: https://sellercenter.falabella.com/order    \n",
    " \n",
    "📦 Para gestionar tu pedido debes:      \n",
    " \n",
    "1- Imprimir la *etiqueta* que pegarás al exterior de tu empaque. Se visualiza al lado izquierdo como *Label*. \n",
    "   \n",
    "2- Hacer clic en *Listo para despachar* - máximo un día antes de la fecha límite (antes de las 8:00PM).   \n",
    "   \n",
    "3- El *{fecha_límite}* recolectaremos las órdenes en tu almacén 🤝  \n",
    " \n",
    "🚨 Recuerda que:  \n",
    " \n",
    "1- El horario de recolección es entre *8:00 a 17:00 hrs*. El transporte te llamará al llegar (espera: 10 minutos) \n",
    " \n",
    "2- Emitir la *boleta electrónica* en SUNAT por el \"Gran total\" y adjuntarla en Ordenes - Documentos Tributarios.\n",
    " \n",
    "3- Instructivo de embalaje y etiquetado: https://www.falabellasellers.com/embalaje-y-etiquetado \n",
    " \n",
    "*4- Siempre enviamos las alertas de pedidos por correo, remitente: noreply@mail.sellercenter.falabella.com*\n",
    "\"\"\"\n",
    "\n",
    "\n",
    "\n",
    "for seller in info_data_primera_venta_envioam['src_id'].unique():\n",
    "    # Filtrar el DataFrame para la tienda actual\n",
    "    df_seller = info_data_primera_venta_envioam[info_data_primera_venta_envioam['src_id'] == seller]\n",
    "    \n",
    "    \n",
    "    Numero = df_seller['Telefono_Concat'].iloc[0]\n",
    "    \n",
    "    \n",
    "    whatsapp_message = mensaje_whatsapp_am.format(\n",
    "                    Seller=df_seller[\"name\"].iloc[0],\n",
    "                    fecha_límite=df_seller[\"target_to_ship\"].iloc[0],                    \n",
    "            )\n",
    "    #Enviar el mensaje de WhatsApp\n",
    "    pywhatkit.sendwhatmsg_instantly(Numero, whatsapp_message)\n",
    "    time.sleep(10)    "
   ]
  },
  {
   "cell_type": "markdown",
   "metadata": {},
   "source": [
    "# CORTE PM."
   ]
  },
  {
   "cell_type": "code",
   "execution_count": null,
   "metadata": {},
   "outputs": [],
   "source": [
    "mensaje_whatsapp_pm = \"\"\"\n",
    "¡Hola! *{Seller}* has recibido una venta 🎉 Queremos reforzar contigo el proceso para gestionarla:      \n",
    " \n",
    "Tutorial despacho: https://youtu.be/lpk1_y9uYDg   \n",
    "    \n",
    "_*Instrucciones:*_  \n",
    " \n",
    "Revisa tus órdenes aquí: https://sellercenter.falabella.com/order    \n",
    " \n",
    "📦 Para gestionar tu pedido debes:      \n",
    " \n",
    "1- Imprimir la *etiqueta* que pegarás al exterior de tu empaque. Se visualiza al lado izquierdo como *Label*. \n",
    "   \n",
    "2- Hacer clic en *Listo para despachar* - máximo un día antes de la fecha límite (antes de las 8:00PM).   \n",
    "   \n",
    "3- El *{fecha_límite}* recolectaremos las órdenes en tu almacén 🤝  \n",
    " \n",
    "🚨 Recuerda que:  \n",
    " \n",
    "1- El horario de recolección es entre *8:00 a 17:00 hrs*. El transporte te llamará al llegar (espera: 10 minutos) \n",
    " \n",
    "2- Emitir la *boleta electrónica* en SUNAT por el \"Gran total\" y adjuntarla en Ordenes - Documentos Tributarios\n",
    " \n",
    "3- Instructivo de embalaje y etiquetado: https://www.falabellasellers.com/embalaje-y-etiquetado \n",
    " \n",
    "*4- Siempre enviamos las alertas de pedidos por correo, remitente: noreply@mail.sellercenter.falabella.com*\n",
    "\"\"\"\n",
    "\n",
    "\n",
    "\n",
    "for seller in info_data_primera_venta_enviopm['src_id'].unique():\n",
    "    # Filtrar el DataFrame para la tienda actual\n",
    "    df_seller_1 = info_data_primera_venta_enviopm[info_data_primera_venta_enviopm['src_id'] == seller]\n",
    "    \n",
    "    \n",
    "    Numero = df_seller_1['Telefono_Concat'].iloc[0]\n",
    "    \n",
    "    \n",
    "    whatsapp_message = mensaje_whatsapp_pm.format(\n",
    "                    Seller=df_seller_1[\"name\"].iloc[0],\n",
    "                    fecha_límite=df_seller_1[\"target_to_ship\"].iloc[0],                    \n",
    "            )\n",
    "    #Enviar el mensaje de WhatsApp\n",
    "    pywhatkit.sendwhatmsg_instantly(Numero, whatsapp_message)\n",
    "    time.sleep(10)    "
   ]
  }
 ],
 "metadata": {
  "kernelspec": {
   "display_name": "Python 3",
   "language": "python",
   "name": "python3"
  },
  "language_info": {
   "codemirror_mode": {
    "name": "ipython",
    "version": 3
   },
   "file_extension": ".py",
   "mimetype": "text/x-python",
   "name": "python",
   "nbconvert_exporter": "python",
   "pygments_lexer": "ipython3",
   "version": "3.11.4"
  }
 },
 "nbformat": 4,
 "nbformat_minor": 2
}
