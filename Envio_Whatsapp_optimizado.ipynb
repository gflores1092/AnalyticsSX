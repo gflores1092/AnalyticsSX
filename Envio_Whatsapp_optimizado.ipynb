{
 "cells": [
  {
   "cell_type": "code",
   "execution_count": 5,
   "metadata": {},
   "outputs": [],
   "source": [
    "import os\n",
    "import math\n",
    "import time\n",
    "import smtplib\n",
    "\n",
    "import pyautogui\n",
    "import threading\n",
    "import pywhatkit\n",
    "\n",
    "import numpy as np\n",
    "import pandas as pd\n",
    "\n",
    "from email.mime.application import MIMEApplication\n",
    "from email.mime.text import MIMEText\n",
    "from email.mime.multipart import MIMEMultipart"
   ]
  },
  {
   "cell_type": "code",
   "execution_count": 6,
   "metadata": {},
   "outputs": [],
   "source": [
    "# Datos\n",
    "data = (\n",
    "            pd.read_excel(r'C:\\Users\\gfloress\\Desktop\\baseFBF.xlsx', dtype={\"seller_name\": str, \"email\": str,\"phone\": str})\n",
    "            .query(\"email.str.contains('@')\")\n",
    "            .assign(**{'phone': lambda x: '+51' + x['phone']})\n",
    "        )"
   ]
  },
  {
   "cell_type": "code",
   "execution_count": 7,
   "metadata": {},
   "outputs": [],
   "source": [
    "def send_whatsapp_message(seller_data):\n",
    "    mensaje_whatsapp = \"\"\"\n",
    "        *Hola {sellerName},*\n",
    "        \n",
    "        Al revisar nuestra base de datos, notamos que aún no has agendado tus productos para FBF. \n",
    "        Nos gustaría conocer la razón detrás de esto para ofrecerte la mejor asistencia. Por favor, responde a través de este enlace:\n",
    "\n",
    "        https://forms.office.com/r/uDFgEfSfUT\n",
    "\n",
    "        ¡Gracias!\n",
    "    \"\"\"\n",
    "    whatsapp_message = mensaje_whatsapp.format(\n",
    "        sellerName=seller_data['seller_name'],\n",
    "        correo=seller_data['email'],\n",
    "        Phone=seller_data['phone']\n",
    "    )\n",
    "    \n",
    "    pywhatkit.sendwhatmsg_instantly(seller_data['phone'], whatsapp_message)"
   ]
  },
  {
   "cell_type": "code",
   "execution_count": 8,
   "metadata": {},
   "outputs": [],
   "source": [
    "# Batch processing\n",
    "threads = []\n",
    "for seller_id, seller_data in data.groupby('seller_id'):\n",
    "    seller_data = seller_data.iloc[0]  # Assuming each seller has the same data\n",
    "    thread = threading.Thread(target=send_whatsapp_message, args=(seller_data,))\n",
    "    threads.append(thread)\n",
    "    thread.start()\n",
    "    time.sleep(12)  # Add delay between starting threads\n",
    "\n",
    "# Wait for all threads to finish\n",
    "for thread in threads:\n",
    "    thread.join()"
   ]
  },
  {
   "cell_type": "code",
   "execution_count": 10,
   "metadata": {},
   "outputs": [
    {
     "name": "stdout",
     "output_type": "stream",
     "text": [
      "Collecting aiohttpNote: you may need to restart the kernel to use updated packages.\n"
     ]
    },
    {
     "name": "stderr",
     "output_type": "stream",
     "text": [
      "WARNING: You are using pip version 21.1.1; however, version 24.0 is available.\n",
      "You should consider upgrading via the 'c:\\Users\\gfloress\\AppData\\Local\\Programs\\Python\\Python39\\python.exe -m pip install --upgrade pip' command.\n"
     ]
    },
    {
     "name": "stdout",
     "output_type": "stream",
     "text": [
      "\n",
      "  Downloading aiohttp-3.9.3-cp39-cp39-win_amd64.whl (366 kB)\n",
      "Collecting yarl<2.0,>=1.0\n",
      "  Downloading yarl-1.9.4-cp39-cp39-win_amd64.whl (76 kB)\n",
      "Collecting aiosignal>=1.1.2\n",
      "  Downloading aiosignal-1.3.1-py3-none-any.whl (7.6 kB)\n",
      "Collecting attrs>=17.3.0\n",
      "  Downloading attrs-23.2.0-py3-none-any.whl (60 kB)\n",
      "Collecting frozenlist>=1.1.1\n",
      "  Downloading frozenlist-1.4.1-cp39-cp39-win_amd64.whl (50 kB)\n",
      "Collecting multidict<7.0,>=4.5\n",
      "  Downloading multidict-6.0.5-cp39-cp39-win_amd64.whl (28 kB)\n",
      "Collecting async-timeout<5.0,>=4.0\n",
      "  Downloading async_timeout-4.0.3-py3-none-any.whl (5.7 kB)\n",
      "Requirement already satisfied: idna>=2.0 in c:\\users\\gfloress\\appdata\\local\\programs\\python\\python39\\lib\\site-packages (from yarl<2.0,>=1.0->aiohttp) (3.6)\n",
      "Installing collected packages: multidict, frozenlist, yarl, attrs, async-timeout, aiosignal, aiohttp\n",
      "Successfully installed aiohttp-3.9.3 aiosignal-1.3.1 async-timeout-4.0.3 attrs-23.2.0 frozenlist-1.4.1 multidict-6.0.5 yarl-1.9.4\n"
     ]
    }
   ],
   "source": [
    "pip install aiohttp"
   ]
  }
 ],
 "metadata": {
  "kernelspec": {
   "display_name": "Python 3",
   "language": "python",
   "name": "python3"
  },
  "language_info": {
   "codemirror_mode": {
    "name": "ipython",
    "version": 3
   },
   "file_extension": ".py",
   "mimetype": "text/x-python",
   "name": "python",
   "nbconvert_exporter": "python",
   "pygments_lexer": "ipython3",
   "version": "3.9.5"
  }
 },
 "nbformat": 4,
 "nbformat_minor": 2
}
