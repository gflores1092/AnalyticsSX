{
 "cells": [
  {
   "cell_type": "markdown",
   "metadata": {},
   "source": [
    "### **Librerías**"
   ]
  },
  {
   "cell_type": "code",
   "execution_count": 3,
   "metadata": {},
   "outputs": [],
   "source": [
    "import os\n",
    "import math\n",
    "import time\n",
    "import smtplib\n",
    "\n",
    "import numpy as np\n",
    "import pandas as pd\n",
    "\n",
    "from email.mime.application import MIMEApplication\n",
    "from email.mime.text import MIMEText\n",
    "from email.mime.multipart import MIMEMultipart\n",
    "\n",
    "from google.cloud import bigquery"
   ]
  },
  {
   "cell_type": "markdown",
   "metadata": {},
   "source": [
    "### **BigQuery**"
   ]
  },
  {
   "cell_type": "code",
   "execution_count": 4,
   "metadata": {},
   "outputs": [],
   "source": [
    "# Proyecto y cliente\n",
    "project_id='bi-fcom-drmb-local-pe-sbx'\n",
    "client = bigquery.Client(project=project_id)\n",
    "\n",
    "# Configuración job\n",
    "job_config = bigquery.QueryJobConfig()\n",
    "job_config.query_parameters = (bigquery.ScalarQueryParameter(\"limit\", \"INT64\", 1000),)\n",
    "\n",
    "query = \"\"\"\n",
    "    SELECT * FROM `bi-fcom-drmb-local-pe-sbx.Dragonite_SX_KPIs.reporte_planificacion_transporte`\n",
    "    WHERE sellerName IS NOT NULL\n",
    "\"\"\"\n",
    "\n",
    "# Query execution\n",
    "query_job = client.query(query, job_config=job_config)\n",
    "query_job.result()\n",
    "data = query_job.to_dataframe()"
   ]
  },
  {
   "cell_type": "markdown",
   "metadata": {},
   "source": [
    "### **Variables**"
   ]
  },
  {
   "cell_type": "code",
   "execution_count": null,
   "metadata": {},
   "outputs": [],
   "source": []
  },
  {
   "cell_type": "markdown",
   "metadata": {},
   "source": [
    "### **Funciones**"
   ]
  },
  {
   "cell_type": "code",
   "execution_count": null,
   "metadata": {},
   "outputs": [
    {
     "data": {
      "text/plain": [
       "\"\\ndef send_email(correo_seller, html_message, seller_email, seller_name, seller_id, seller_phone, seller_link, sender_email, sender_password):\\n    # Set up the SMTP server\\n    server = smtplib.SMTP('smtp.office365.com', 587)\\n    server.starttls()\\n\\n    # Log in to the SMTP server\\n    server.login(correo_usuario, contrasena)\\n\\n    # Set up the message\\n    msg = MIMEMultipart()\\n    msg['From'] = 'fcomlogisticasx@falabella.com'\\n    msg['To'] = correo_seller\\n    msg['Subject'] = asunto\\n    msg['CC'] = 'soporteperufcom@falabella.com'\\n\\n    # Attach the HTML message\\n    msg.attach(MIMEText(html_message, 'html'))\\n\\n    # Send the email\\n    server.sendmail(sender_email, seller_email, msg.as_string())\\n\\n    # Close the SMTP connection\\n    server.quit()\\n\""
      ]
     },
     "execution_count": 96,
     "metadata": {},
     "output_type": "execute_result"
    }
   ],
   "source": []
  },
  {
   "cell_type": "markdown",
   "metadata": {},
   "source": [
    "### **Mensajes**"
   ]
  },
  {
   "cell_type": "code",
   "execution_count": null,
   "metadata": {},
   "outputs": [],
   "source": []
  },
  {
   "cell_type": "markdown",
   "metadata": {},
   "source": [
    "### **Data**"
   ]
  },
  {
   "cell_type": "code",
   "execution_count": null,
   "metadata": {},
   "outputs": [],
   "source": [
    "data"
   ]
  },
  {
   "cell_type": "code",
   "execution_count": null,
   "metadata": {},
   "outputs": [],
   "source": []
  }
 ],
 "metadata": {
  "kernelspec": {
   "display_name": "Python 3",
   "language": "python",
   "name": "python3"
  },
  "language_info": {
   "codemirror_mode": {
    "name": "ipython",
    "version": 3
   },
   "file_extension": ".py",
   "mimetype": "text/x-python",
   "name": "python",
   "nbconvert_exporter": "python",
   "pygments_lexer": "ipython3",
   "version": "3.9.5"
  }
 },
 "nbformat": 4,
 "nbformat_minor": 2
}
