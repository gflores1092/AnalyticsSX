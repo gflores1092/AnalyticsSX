{
 "cells": [
  {
   "cell_type": "markdown",
   "metadata": {},
   "source": [
    "### **Librerías**"
   ]
  },
  {
   "cell_type": "code",
   "execution_count": 1,
   "metadata": {},
   "outputs": [],
   "source": [
    "import os\n",
    "import math\n",
    "import time\n",
    "import smtplib\n",
    "\n",
    "import pyautogui\n",
    "import threading\n",
    "import pywhatkit\n",
    "\n",
    "import numpy as np\n",
    "import pandas as pd\n",
    "\n",
    "from email.mime.application import MIMEApplication\n",
    "from email.mime.text import MIMEText\n",
    "from email.mime.multipart import MIMEMultipart\n",
    "\n",
    "from google.cloud import bigquery"
   ]
  },
  {
   "cell_type": "markdown",
   "metadata": {},
   "source": [
    "### **BigQuery**"
   ]
  },
  {
   "cell_type": "code",
   "execution_count": null,
   "metadata": {},
   "outputs": [],
   "source": []
  },
  {
   "cell_type": "markdown",
   "metadata": {},
   "source": [
    "### **Variables**"
   ]
  },
  {
   "cell_type": "code",
   "execution_count": null,
   "metadata": {},
   "outputs": [],
   "source": [
    "# Correo\n",
    "\n",
    "correo_usuario = 'sleona@falabella.com'\n",
    "contrasena = 'I$H#pm3457'\n",
    "asunto_base = 'F.COM | 🚨 GESTIONA TUS ÓRDENES PENDIENTES 🚨'\n",
    "\n",
    "# Columnas\n",
    "\n",
    "columnas = ['sellerName', 'trackingCode','deliveryOrderNumber', 'sku', 'description', 'promisedBySeller', 'Estatusenvio']\n",
    "\n",
    "# Variables iniciales"
   ]
  },
  {
   "cell_type": "markdown",
   "metadata": {},
   "source": [
    "### **Data**"
   ]
  },
  {
   "cell_type": "code",
   "execution_count": 2,
   "metadata": {},
   "outputs": [],
   "source": [
    "# Leer el registro desde un archivo Excel\n",
    "data_df = (\n",
    "            pd.read_excel(r'C:\\Users\\darroyop\\Desktop\\Backlog\\Envio_pending.xlsx', dtype={\"Numero\": str, \"loyaltyPhone\": str,\"loyaltyPhone\": str, \"EnlaceAAA\":str})\n",
    "            .query(\"sellerEmail.str.contains('@')\")\n",
    "        )\n",
    "\n",
    "# Convertir el archivo Excel en un DataFrame de Pandas\n",
    "info_backlog = pd.DataFrame(data_df)"
   ]
  },
  {
   "cell_type": "code",
   "execution_count": 3,
   "metadata": {},
   "outputs": [],
   "source": [
    "# Seleccionar columnas por nombre\n",
    "info_backlog_ = info_backlog[['deliveryOrderNumber', 'trackingCode','lastStatusGSC', 'seller_Name', 'sku', 'description', 'segmento', 'carrierCode','punto_dropoff','direccion_dropoff','nombre_dropoff','horario_dropoff','frecuencia_dropoff','promisedBySeller', 'accion', 'Correo', 'Numero', 'loyaltyPhone']]\n"
   ]
  },
  {
   "cell_type": "markdown",
   "metadata": {},
   "source": [
    "### **Condicionales**"
   ]
  },
  {
   "cell_type": "code",
   "execution_count": 4,
   "metadata": {},
   "outputs": [],
   "source": [
    "# Correo Other Sellers only Pending\n",
    "info_backlog_4 = info_backlog[(info_backlog['lastStatusGSC'] == 'pending') & \n",
    "                              \n",
    "                              (~info_backlog['accion'].isin(['No accionar', 'Cancelar', 'Cambio de estado','Comunicar envío día siguiente']))]\n",
    "\n"
   ]
  },
  {
   "cell_type": "markdown",
   "metadata": {},
   "source": [
    "### **Envío de correos**"
   ]
  },
  {
   "cell_type": "code",
   "execution_count": 5,
   "metadata": {},
   "outputs": [
    {
     "name": "stderr",
     "output_type": "stream",
     "text": [
      "C:\\Users\\darroyop\\AppData\\Local\\Temp\\ipykernel_36408\\1258853510.py:4: FutureWarning: DataFrame.applymap has been deprecated. Use DataFrame.map instead.\n",
      "  info_backlog_4= info_backlog_4.applymap(lambda x: str(x))\n"
     ]
    },
    {
     "name": "stdout",
     "output_type": "stream",
     "text": [
      "Correo electrónico enviado exitosamente.\n"
     ]
    },
    {
     "ename": "NameError",
     "evalue": "name 'server' is not defined",
     "output_type": "error",
     "traceback": [
      "\u001b[1;31m---------------------------------------------------------------------------\u001b[0m",
      "\u001b[1;31mNameError\u001b[0m                                 Traceback (most recent call last)",
      "Cell \u001b[1;32mIn[5], line 114\u001b[0m\n\u001b[0;32m    111\u001b[0m     \u001b[38;5;66;03m# Enviar el correo electrónico llamando a la función definida anteriormente\u001b[39;00m\n\u001b[0;32m    112\u001b[0m     enviar_correo(correo_usuario, contrasena, correo_seller, msg)\n\u001b[1;32m--> 114\u001b[0m \u001b[43mserver\u001b[49m\u001b[38;5;241m.\u001b[39mquit()\n",
      "\u001b[1;31mNameError\u001b[0m: name 'server' is not defined"
     ]
    }
   ],
   "source": [
    "#BLOQUE PARA ENVIAR MAILS ONLY PENDINGS\n",
    "\n",
    "# Convertir todas las columnas a cadenas para evitar el error de 'float' object has no attribute 'encode'\n",
    "info_backlog_4= info_backlog_4.map(lambda x: str(x))\n",
    "\n",
    "# Función para enviar correos electrónicos\n",
    "def enviar_correo(correo_usuario, contrasena, correo_destinatario, mensaje):\n",
    "    try:\n",
    "        # Establecer la conexión con el servidor SMTP de Outlook\n",
    "        server = smtplib.SMTP('smtp.office365.com', 587, timeout=30)\n",
    "        server.starttls()\n",
    "        \n",
    "        # Iniciar sesión en el servidor SMTP\n",
    "        server.login(correo_usuario, contrasena)\n",
    "        \n",
    "        # Enviar el correo electrónico\n",
    "        server.sendmail(correo_usuario, correo_destinatario, mensaje.as_string())\n",
    "        \n",
    "        print(\"Correo electrónico enviado exitosamente.\")\n",
    "    except Exception as e:\n",
    "        print(f\"Error al enviar el correo electrónico: {e}\")\n",
    "\n",
    "# Iterar sobre las tiendas únicas en el DataFrame\n",
    "for seller in info_backlog_4['seller_ID'].unique():\n",
    "    \n",
    "    # Filtrar el DataFrame para la tienda actual\n",
    "    df_seller = info_backlog_4[info_backlog_4['seller_ID'] == seller]\n",
    "\n",
    "    # Obtener datos por tienda\n",
    "    correo_seller = df_seller['Correo'].iloc[0]\n",
    "    seller_name = df_seller['sellerName'].iloc[0]\n",
    "\n",
    "    # Renombrar las columnas\n",
    "    df_seller = (\n",
    "                  df_seller[columnas]\n",
    "                  .drop_duplicates()\n",
    "                  .rename(columns={\n",
    "                            'seller_Name': 'Nombre del seller',\n",
    "                            'deliveryOrderNumber': 'Número de orden',\n",
    "                            'trackingCode': 'Rastreo',\n",
    "                            'description': 'Descripción',\n",
    "                            'promisedBySeller': 'Fecha de promesa',\n",
    "                            'Estatusenvio': 'Estado del envío'\n",
    "                  })\n",
    "                )\n",
    "\n",
    "    # Configurar el mensaje\n",
    "    msg = MIMEMultipart()\n",
    "    msg['From'] = 'fcomlogisticasx@falabella.com'\n",
    "    msg['To'] = correo_seller\n",
    "    msg['Subject'] = asunto_base.format(seller)\n",
    "    msg['CC'] = 'soporteperufcom@falabella.com'\n",
    "\n",
    "    # Crear el cuerpo del correo en formato HTML\n",
    "    mensaje_html = f\"\"\"\n",
    "      <html>\n",
    "        <head>\n",
    "          <style>\n",
    "            table {{\n",
    "              border-collapse: collapse;\n",
    "              width: 100%;\n",
    "            }}\n",
    "            th, td {{\n",
    "              border: 1px solid black;\n",
    "              padding: 8px;\n",
    "              text-align: left;\n",
    "            }}\n",
    "            th {{\n",
    "              background-color: orange;\n",
    "              color: white;\n",
    "              font-size: 16px;\n",
    "              font-weight: bold;\n",
    "              text-align: center;\n",
    "            }}\n",
    "          </style>\n",
    "        </head>\n",
    "        <body>\n",
    "          <p><h2><strong>Hola {seller_name}, con ID {seller}! Te recordamos que algunos pedidos aún no están marcados como \"Listo para despachar\"!</strong></h2></p>\n",
    "          <p>Por favor, confirma antes de las 10:00 pm de HOY para evitar problemas para el cliente y mantener tu rendimiento.</p>\n",
    "          <p>Recordar que debe realizar este cambio para que la(s) órden(es) sean (programadas) para su recolección en la fecha límite de despacho.</p>\n",
    "          <br>\n",
    "          {df_seller.to_html(index=False)}\n",
    "          <br>\n",
    "\n",
    "          \n",
    "          <p><strong>Podrás revisar tus órdenes en falabella seller center desde <a href= \"https://sellercenter.falabella.com/order\">aquí</a>.</strong></p>\n",
    "\n",
    "              \n",
    "          <p>Este correo es un refuerzo. Siempre debes entregar los pedidos gestionados a tiempo en su respectiva fecha límite de despacho.</p>\n",
    "          \n",
    "          <p>¡Contamos con tu apoyo para mejorar la experiencia de nuestros clientes!</p>\n",
    "              \n",
    "        </body>\n",
    "      </html>\n",
    "    \"\"\"\n",
    "\n",
    "    # Adjuntar el cuerpo del correo en formato HTML\n",
    "    msg.attach(MIMEText(mensaje_html, 'html'))\n",
    "\n",
    "    # Enviar el correo electrónico llamando a la función definida anteriormente\n",
    "    enviar_correo(correo_usuario, contrasena, correo_seller, msg)\n",
    "    \n",
    "server.quit()"
   ]
  }
 ],
 "metadata": {
  "kernelspec": {
   "display_name": "Python 3",
   "language": "python",
   "name": "python3"
  },
  "language_info": {
   "codemirror_mode": {
    "name": "ipython",
    "version": 3
   },
   "file_extension": ".py",
   "mimetype": "text/x-python",
   "name": "python",
   "nbconvert_exporter": "python",
   "pygments_lexer": "ipython3",
   "version": "3.12.2"
  }
 },
 "nbformat": 4,
 "nbformat_minor": 2
}
